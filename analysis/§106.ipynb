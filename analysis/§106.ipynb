{
 "cells": [
  {
   "cell_type": "markdown",
   "metadata": {},
   "source": [
    "# §106 \"Use of the Perfect\""
   ]
  },
  {
   "cell_type": "code",
   "execution_count": 1,
   "metadata": {},
   "outputs": [],
   "source": [
    "from my_tools import *"
   ]
  },
  {
   "cell_type": "code",
   "execution_count": 2,
   "metadata": {},
   "outputs": [
    {
     "data": {
      "text/html": [
       "<div>\n",
       "<style scoped>\n",
       "    .dataframe tbody tr th:only-of-type {\n",
       "        vertical-align: middle;\n",
       "    }\n",
       "\n",
       "    .dataframe tbody tr th {\n",
       "        vertical-align: top;\n",
       "    }\n",
       "\n",
       "    .dataframe thead th {\n",
       "        text-align: right;\n",
       "    }\n",
       "</style>\n",
       "<table border=\"1\" class=\"dataframe\">\n",
       "  <thead>\n",
       "    <tr style=\"text-align: right;\">\n",
       "      <th></th>\n",
       "      <th>ref</th>\n",
       "      <th>book</th>\n",
       "      <th>book_super</th>\n",
       "      <th>canon_part</th>\n",
       "      <th>text_full</th>\n",
       "      <th>text_plain</th>\n",
       "      <th>lex</th>\n",
       "      <th>lex_etcbc</th>\n",
       "      <th>gloss</th>\n",
       "      <th>verb_form</th>\n",
       "      <th>...</th>\n",
       "      <th>esv_TAMspan</th>\n",
       "      <th>niv</th>\n",
       "      <th>niv_tags</th>\n",
       "      <th>niv_VBtags</th>\n",
       "      <th>niv_tense</th>\n",
       "      <th>niv_aspect</th>\n",
       "      <th>niv_modality</th>\n",
       "      <th>niv_TAM</th>\n",
       "      <th>niv_TAMtag</th>\n",
       "      <th>niv_TAMspan</th>\n",
       "    </tr>\n",
       "    <tr>\n",
       "      <th>bhsa_node</th>\n",
       "      <th></th>\n",
       "      <th></th>\n",
       "      <th></th>\n",
       "      <th></th>\n",
       "      <th></th>\n",
       "      <th></th>\n",
       "      <th></th>\n",
       "      <th></th>\n",
       "      <th></th>\n",
       "      <th></th>\n",
       "      <th></th>\n",
       "      <th></th>\n",
       "      <th></th>\n",
       "      <th></th>\n",
       "      <th></th>\n",
       "      <th></th>\n",
       "      <th></th>\n",
       "      <th></th>\n",
       "      <th></th>\n",
       "      <th></th>\n",
       "      <th></th>\n",
       "    </tr>\n",
       "  </thead>\n",
       "  <tbody>\n",
       "    <tr>\n",
       "      <th>3</th>\n",
       "      <td>Genesis 1:1</td>\n",
       "      <td>Genesis</td>\n",
       "      <td>Genesis</td>\n",
       "      <td>Law</td>\n",
       "      <td>בָּרָ֣א</td>\n",
       "      <td>ברא</td>\n",
       "      <td>ברא</td>\n",
       "      <td>BR&gt;[</td>\n",
       "      <td>create</td>\n",
       "      <td>qtl</td>\n",
       "      <td>...</td>\n",
       "      <td>created</td>\n",
       "      <td>created</td>\n",
       "      <td>VBD</td>\n",
       "      <td>VBD</td>\n",
       "      <td>PAST</td>\n",
       "      <td>NaN</td>\n",
       "      <td>IND</td>\n",
       "      <td>PAST..IND</td>\n",
       "      <td>PAST</td>\n",
       "      <td>created</td>\n",
       "    </tr>\n",
       "    <tr>\n",
       "      <th>15</th>\n",
       "      <td>Genesis 1:2</td>\n",
       "      <td>Genesis</td>\n",
       "      <td>Genesis</td>\n",
       "      <td>Law</td>\n",
       "      <td>הָיְתָ֥ה</td>\n",
       "      <td>היתה</td>\n",
       "      <td>היה</td>\n",
       "      <td>HJH[</td>\n",
       "      <td>be</td>\n",
       "      <td>qtl</td>\n",
       "      <td>...</td>\n",
       "      <td>was</td>\n",
       "      <td>was</td>\n",
       "      <td>VBD</td>\n",
       "      <td>VBD</td>\n",
       "      <td>PAST</td>\n",
       "      <td>NaN</td>\n",
       "      <td>IND</td>\n",
       "      <td>PAST..IND</td>\n",
       "      <td>PAST</td>\n",
       "      <td>was</td>\n",
       "    </tr>\n",
       "    <tr>\n",
       "      <th>47</th>\n",
       "      <td>Genesis 1:4</td>\n",
       "      <td>Genesis</td>\n",
       "      <td>Genesis</td>\n",
       "      <td>Law</td>\n",
       "      <td>טֹ֑וב</td>\n",
       "      <td>טוב</td>\n",
       "      <td>טוב</td>\n",
       "      <td>VWB[</td>\n",
       "      <td>be good</td>\n",
       "      <td>qtl</td>\n",
       "      <td>...</td>\n",
       "      <td>NaN</td>\n",
       "      <td>NaN</td>\n",
       "      <td>NaN</td>\n",
       "      <td>NaN</td>\n",
       "      <td>NaN</td>\n",
       "      <td>NaN</td>\n",
       "      <td>NaN</td>\n",
       "      <td>NaN</td>\n",
       "      <td>NaN</td>\n",
       "      <td>NaN</td>\n",
       "    </tr>\n",
       "    <tr>\n",
       "      <th>69</th>\n",
       "      <td>Genesis 1:5</td>\n",
       "      <td>Genesis</td>\n",
       "      <td>Genesis</td>\n",
       "      <td>Law</td>\n",
       "      <td>קָ֣רָא</td>\n",
       "      <td>קרא</td>\n",
       "      <td>קרא</td>\n",
       "      <td>QR&gt;[</td>\n",
       "      <td>call</td>\n",
       "      <td>qtl</td>\n",
       "      <td>...</td>\n",
       "      <td>called</td>\n",
       "      <td>he called</td>\n",
       "      <td>PRP|VBD</td>\n",
       "      <td>VBD</td>\n",
       "      <td>PAST</td>\n",
       "      <td>NaN</td>\n",
       "      <td>IND</td>\n",
       "      <td>PAST..IND</td>\n",
       "      <td>PAST</td>\n",
       "      <td>called</td>\n",
       "    </tr>\n",
       "    <tr>\n",
       "      <th>172</th>\n",
       "      <td>Genesis 1:10</td>\n",
       "      <td>Genesis</td>\n",
       "      <td>Genesis</td>\n",
       "      <td>Law</td>\n",
       "      <td>קָרָ֣א</td>\n",
       "      <td>קרא</td>\n",
       "      <td>קרא</td>\n",
       "      <td>QR&gt;[</td>\n",
       "      <td>call</td>\n",
       "      <td>qtl</td>\n",
       "      <td>...</td>\n",
       "      <td>called</td>\n",
       "      <td>he called</td>\n",
       "      <td>PRP|VBD</td>\n",
       "      <td>VBD</td>\n",
       "      <td>PAST</td>\n",
       "      <td>NaN</td>\n",
       "      <td>IND</td>\n",
       "      <td>PAST..IND</td>\n",
       "      <td>PAST</td>\n",
       "      <td>called</td>\n",
       "    </tr>\n",
       "  </tbody>\n",
       "</table>\n",
       "<p>5 rows × 52 columns</p>\n",
       "</div>"
      ],
      "text/plain": [
       "                    ref     book book_super canon_part text_full text_plain  \\\n",
       "bhsa_node                                                                     \n",
       "3           Genesis 1:1  Genesis    Genesis        Law   בָּרָ֣א        ברא   \n",
       "15          Genesis 1:2  Genesis    Genesis        Law  הָיְתָ֥ה       היתה   \n",
       "47          Genesis 1:4  Genesis    Genesis        Law     טֹ֑וב        טוב   \n",
       "69          Genesis 1:5  Genesis    Genesis        Law    קָ֣רָא        קרא   \n",
       "172        Genesis 1:10  Genesis    Genesis        Law    קָרָ֣א        קרא   \n",
       "\n",
       "           lex lex_etcbc    gloss verb_form  ... esv_TAMspan        niv  \\\n",
       "bhsa_node                                    ...                          \n",
       "3          ברא      BR>[   create       qtl  ...     created    created   \n",
       "15         היה      HJH[       be       qtl  ...         was        was   \n",
       "47         טוב      VWB[  be good       qtl  ...         NaN        NaN   \n",
       "69         קרא      QR>[     call       qtl  ...      called  he called   \n",
       "172        קרא      QR>[     call       qtl  ...      called  he called   \n",
       "\n",
       "          niv_tags niv_VBtags niv_tense niv_aspect niv_modality    niv_TAM  \\\n",
       "bhsa_node                                                                    \n",
       "3              VBD        VBD      PAST        NaN          IND  PAST..IND   \n",
       "15             VBD        VBD      PAST        NaN          IND  PAST..IND   \n",
       "47             NaN        NaN       NaN        NaN          NaN        NaN   \n",
       "69         PRP|VBD        VBD      PAST        NaN          IND  PAST..IND   \n",
       "172        PRP|VBD        VBD      PAST        NaN          IND  PAST..IND   \n",
       "\n",
       "          niv_TAMtag niv_TAMspan  \n",
       "bhsa_node                         \n",
       "3               PAST     created  \n",
       "15              PAST         was  \n",
       "47               NaN         NaN  \n",
       "69              PAST      called  \n",
       "172             PAST      called  \n",
       "\n",
       "[5 rows x 52 columns]"
      ]
     },
     "execution_count": 2,
     "metadata": {},
     "output_type": "execute_result"
    }
   ],
   "source": [
    "qatal_df.head()"
   ]
  },
  {
   "cell_type": "markdown",
   "metadata": {},
   "source": [
    "## Quantity in context of all verbs"
   ]
  },
  {
   "cell_type": "code",
   "execution_count": 3,
   "metadata": {},
   "outputs": [],
   "source": [
    "av_verb_ct = av_df.verb_form.value_counts()\n",
    "av_verb_pr = av_verb_ct / av_verb_ct.sum()"
   ]
  },
  {
   "cell_type": "code",
   "execution_count": 4,
   "metadata": {},
   "outputs": [
    {
     "data": {
      "text/plain": [
       "56955"
      ]
     },
     "execution_count": 4,
     "metadata": {},
     "output_type": "execute_result"
    }
   ],
   "source": [
    "av_verb_ct.sum()"
   ]
  },
  {
   "cell_type": "code",
   "execution_count": 5,
   "metadata": {},
   "outputs": [
    {
     "data": {
      "text/plain": [
       "qtl     20728\n",
       "yqtl    15854\n",
       "wayq    14974\n",
       "ptcp     5399\n",
       "Name: verb_form, dtype: int64"
      ]
     },
     "execution_count": 5,
     "metadata": {},
     "output_type": "execute_result"
    }
   ],
   "source": [
    "av_verb_ct"
   ]
  },
  {
   "cell_type": "code",
   "execution_count": 6,
   "metadata": {},
   "outputs": [
    {
     "data": {
      "text/plain": [
       "qtl     0.363936\n",
       "yqtl    0.278360\n",
       "wayq    0.262909\n",
       "ptcp    0.094794\n",
       "Name: verb_form, dtype: float64"
      ]
     },
     "execution_count": 6,
     "metadata": {},
     "output_type": "execute_result"
    }
   ],
   "source": [
    "av_verb_pr"
   ]
  },
  {
   "cell_type": "markdown",
   "metadata": {},
   "source": [
    "## Prefixed waw"
   ]
  },
  {
   "cell_type": "code",
   "execution_count": 7,
   "metadata": {},
   "outputs": [
    {
     "data": {
      "text/plain": [
       "False    14303\n",
       "True      6425\n",
       "Name: adjacent_waw, dtype: int64"
      ]
     },
     "metadata": {},
     "output_type": "display_data"
    },
    {
     "name": "stdout",
     "output_type": "stream",
     "text": [
      "\n"
     ]
    },
    {
     "data": {
      "text/plain": [
       "False    0.690033\n",
       "True     0.309967\n",
       "Name: adjacent_waw, dtype: float64"
      ]
     },
     "metadata": {},
     "output_type": "display_data"
    }
   ],
   "source": [
    "qdf_waw_ct = qatal_df.adjacent_waw.value_counts() # qatal dataframe adjacent waw counts\n",
    "qdf_waw_pr = prop_table(qdf_waw_ct) \n",
    "\n",
    "display(qdf_waw_ct)\n",
    "print()\n",
    "display(qdf_waw_pr)"
   ]
  },
  {
   "cell_type": "markdown",
   "metadata": {},
   "source": [
    "## Prefixed waw based on various contexts"
   ]
  },
  {
   "cell_type": "markdown",
   "metadata": {},
   "source": [
    "### genre"
   ]
  },
  {
   "cell_type": "code",
   "execution_count": 8,
   "metadata": {},
   "outputs": [
    {
     "data": {
      "text/html": [
       "<div>\n",
       "<style scoped>\n",
       "    .dataframe tbody tr th:only-of-type {\n",
       "        vertical-align: middle;\n",
       "    }\n",
       "\n",
       "    .dataframe tbody tr th {\n",
       "        vertical-align: top;\n",
       "    }\n",
       "\n",
       "    .dataframe thead th {\n",
       "        text-align: right;\n",
       "    }\n",
       "</style>\n",
       "<table border=\"1\" class=\"dataframe\">\n",
       "  <thead>\n",
       "    <tr style=\"text-align: right;\">\n",
       "      <th>genre</th>\n",
       "      <th>prose</th>\n",
       "      <th>prophetic</th>\n",
       "      <th>poetry</th>\n",
       "      <th>instruction</th>\n",
       "      <th>list</th>\n",
       "    </tr>\n",
       "    <tr>\n",
       "      <th>adjacent_waw</th>\n",
       "      <th></th>\n",
       "      <th></th>\n",
       "      <th></th>\n",
       "      <th></th>\n",
       "      <th></th>\n",
       "    </tr>\n",
       "  </thead>\n",
       "  <tbody>\n",
       "    <tr>\n",
       "      <th>False</th>\n",
       "      <td>6615</td>\n",
       "      <td>3943</td>\n",
       "      <td>2832</td>\n",
       "      <td>528</td>\n",
       "      <td>385</td>\n",
       "    </tr>\n",
       "    <tr>\n",
       "      <th>True</th>\n",
       "      <td>2040</td>\n",
       "      <td>2343</td>\n",
       "      <td>264</td>\n",
       "      <td>1651</td>\n",
       "      <td>127</td>\n",
       "    </tr>\n",
       "  </tbody>\n",
       "</table>\n",
       "</div>"
      ],
      "text/plain": [
       "genre         prose  prophetic  poetry  instruction  list\n",
       "adjacent_waw                                             \n",
       "False          6615       3943    2832          528   385\n",
       "True           2040       2343     264         1651   127"
      ]
     },
     "execution_count": 8,
     "metadata": {},
     "output_type": "execute_result"
    }
   ],
   "source": [
    "waw_genre = PivotProp(qatal_df, 'adjacent_waw', 'genre')\n",
    "waw_genre_dp = my_stats.apply_deltaP(waw_genre.ct, 0, 1)\n",
    "\n",
    "waw_genre.ct"
   ]
  },
  {
   "cell_type": "code",
   "execution_count": 9,
   "metadata": {},
   "outputs": [
    {
     "data": {
      "text/html": [
       "<div>\n",
       "<style scoped>\n",
       "    .dataframe tbody tr th:only-of-type {\n",
       "        vertical-align: middle;\n",
       "    }\n",
       "\n",
       "    .dataframe tbody tr th {\n",
       "        vertical-align: top;\n",
       "    }\n",
       "\n",
       "    .dataframe thead th {\n",
       "        text-align: right;\n",
       "    }\n",
       "</style>\n",
       "<table border=\"1\" class=\"dataframe\">\n",
       "  <thead>\n",
       "    <tr style=\"text-align: right;\">\n",
       "      <th>genre</th>\n",
       "      <th>prose</th>\n",
       "      <th>prophetic</th>\n",
       "      <th>poetry</th>\n",
       "      <th>instruction</th>\n",
       "      <th>list</th>\n",
       "    </tr>\n",
       "    <tr>\n",
       "      <th>adjacent_waw</th>\n",
       "      <th></th>\n",
       "      <th></th>\n",
       "      <th></th>\n",
       "      <th></th>\n",
       "      <th></th>\n",
       "    </tr>\n",
       "  </thead>\n",
       "  <tbody>\n",
       "    <tr>\n",
       "      <th>False</th>\n",
       "      <td>0.46249</td>\n",
       "      <td>0.275676</td>\n",
       "      <td>0.198000</td>\n",
       "      <td>0.036915</td>\n",
       "      <td>0.026917</td>\n",
       "    </tr>\n",
       "    <tr>\n",
       "      <th>True</th>\n",
       "      <td>0.31751</td>\n",
       "      <td>0.364669</td>\n",
       "      <td>0.041089</td>\n",
       "      <td>0.256965</td>\n",
       "      <td>0.019767</td>\n",
       "    </tr>\n",
       "  </tbody>\n",
       "</table>\n",
       "</div>"
      ],
      "text/plain": [
       "genre           prose  prophetic    poetry  instruction      list\n",
       "adjacent_waw                                                     \n",
       "False         0.46249   0.275676  0.198000     0.036915  0.026917\n",
       "True          0.31751   0.364669  0.041089     0.256965  0.019767"
      ]
     },
     "execution_count": 9,
     "metadata": {},
     "output_type": "execute_result"
    }
   ],
   "source": [
    "waw_genre.pr"
   ]
  },
  {
   "cell_type": "code",
   "execution_count": 10,
   "metadata": {},
   "outputs": [
    {
     "data": {
      "text/html": [
       "<div>\n",
       "<style scoped>\n",
       "    .dataframe tbody tr th:only-of-type {\n",
       "        vertical-align: middle;\n",
       "    }\n",
       "\n",
       "    .dataframe tbody tr th {\n",
       "        vertical-align: top;\n",
       "    }\n",
       "\n",
       "    .dataframe thead th {\n",
       "        text-align: right;\n",
       "    }\n",
       "</style>\n",
       "<table border=\"1\" class=\"dataframe\">\n",
       "  <thead>\n",
       "    <tr style=\"text-align: right;\">\n",
       "      <th>genre</th>\n",
       "      <th>prose</th>\n",
       "      <th>prophetic</th>\n",
       "      <th>poetry</th>\n",
       "      <th>instruction</th>\n",
       "      <th>list</th>\n",
       "    </tr>\n",
       "    <tr>\n",
       "      <th>adjacent_waw</th>\n",
       "      <th></th>\n",
       "      <th></th>\n",
       "      <th></th>\n",
       "      <th></th>\n",
       "      <th></th>\n",
       "    </tr>\n",
       "  </thead>\n",
       "  <tbody>\n",
       "    <tr>\n",
       "      <th>False</th>\n",
       "      <td>0.144981</td>\n",
       "      <td>-0.088993</td>\n",
       "      <td>0.156911</td>\n",
       "      <td>-0.22005</td>\n",
       "      <td>0.007151</td>\n",
       "    </tr>\n",
       "    <tr>\n",
       "      <th>True</th>\n",
       "      <td>-0.144981</td>\n",
       "      <td>0.088993</td>\n",
       "      <td>-0.156911</td>\n",
       "      <td>0.22005</td>\n",
       "      <td>-0.007151</td>\n",
       "    </tr>\n",
       "  </tbody>\n",
       "</table>\n",
       "</div>"
      ],
      "text/plain": [
       "genre            prose  prophetic    poetry  instruction      list\n",
       "adjacent_waw                                                      \n",
       "False         0.144981  -0.088993  0.156911     -0.22005  0.007151\n",
       "True         -0.144981   0.088993 -0.156911      0.22005 -0.007151"
      ]
     },
     "execution_count": 10,
     "metadata": {},
     "output_type": "execute_result"
    }
   ],
   "source": [
    "waw_genre_dp"
   ]
  },
  {
   "cell_type": "code",
   "execution_count": 11,
   "metadata": {},
   "outputs": [
    {
     "data": {
      "text/plain": [
       "prose          27601\n",
       "prophetic      13505\n",
       "poetry          9604\n",
       "instruction     5100\n",
       "list            1145\n",
       "Name: genre, dtype: int64"
      ]
     },
     "execution_count": 11,
     "metadata": {},
     "output_type": "execute_result"
    }
   ],
   "source": [
    "av_df.genre.value_counts()"
   ]
  },
  {
   "cell_type": "markdown",
   "metadata": {},
   "source": [
    "### domain type\n",
    "\n",
    "See https://etcbc.github.io/bhsa/features/domain/"
   ]
  },
  {
   "cell_type": "code",
   "execution_count": 12,
   "metadata": {},
   "outputs": [
    {
     "data": {
      "text/plain": [
       "Q    14540\n",
       "N     4583\n",
       "?     1052\n",
       "D      553\n",
       "Name: domain, dtype: int64"
      ]
     },
     "execution_count": 12,
     "metadata": {},
     "output_type": "execute_result"
    }
   ],
   "source": [
    "qatal_df.domain.value_counts()"
   ]
  },
  {
   "cell_type": "code",
   "execution_count": 13,
   "metadata": {},
   "outputs": [
    {
     "data": {
      "text/html": [
       "<div>\n",
       "<style scoped>\n",
       "    .dataframe tbody tr th:only-of-type {\n",
       "        vertical-align: middle;\n",
       "    }\n",
       "\n",
       "    .dataframe tbody tr th {\n",
       "        vertical-align: top;\n",
       "    }\n",
       "\n",
       "    .dataframe thead th {\n",
       "        text-align: right;\n",
       "    }\n",
       "</style>\n",
       "<table border=\"1\" class=\"dataframe\">\n",
       "  <thead>\n",
       "    <tr style=\"text-align: right;\">\n",
       "      <th>domain</th>\n",
       "      <th>Q</th>\n",
       "      <th>N</th>\n",
       "      <th>?</th>\n",
       "      <th>D</th>\n",
       "    </tr>\n",
       "    <tr>\n",
       "      <th>adjacent_waw</th>\n",
       "      <th></th>\n",
       "      <th></th>\n",
       "      <th></th>\n",
       "      <th></th>\n",
       "    </tr>\n",
       "  </thead>\n",
       "  <tbody>\n",
       "    <tr>\n",
       "      <th>False</th>\n",
       "      <td>8937</td>\n",
       "      <td>4238</td>\n",
       "      <td>851</td>\n",
       "      <td>277</td>\n",
       "    </tr>\n",
       "    <tr>\n",
       "      <th>True</th>\n",
       "      <td>5603</td>\n",
       "      <td>345</td>\n",
       "      <td>201</td>\n",
       "      <td>276</td>\n",
       "    </tr>\n",
       "  </tbody>\n",
       "</table>\n",
       "</div>"
      ],
      "text/plain": [
       "domain           Q     N    ?    D\n",
       "adjacent_waw                      \n",
       "False         8937  4238  851  277\n",
       "True          5603   345  201  276"
      ]
     },
     "execution_count": 13,
     "metadata": {},
     "output_type": "execute_result"
    }
   ],
   "source": [
    "waw_domain = PivotProp(qatal_df, 'adjacent_waw', 'domain')\n",
    "\n",
    "waw_domain.ct"
   ]
  },
  {
   "cell_type": "code",
   "execution_count": 14,
   "metadata": {},
   "outputs": [
    {
     "data": {
      "text/html": [
       "<div>\n",
       "<style scoped>\n",
       "    .dataframe tbody tr th:only-of-type {\n",
       "        vertical-align: middle;\n",
       "    }\n",
       "\n",
       "    .dataframe tbody tr th {\n",
       "        vertical-align: top;\n",
       "    }\n",
       "\n",
       "    .dataframe thead th {\n",
       "        text-align: right;\n",
       "    }\n",
       "</style>\n",
       "<table border=\"1\" class=\"dataframe\">\n",
       "  <thead>\n",
       "    <tr style=\"text-align: right;\">\n",
       "      <th>domain</th>\n",
       "      <th>Q</th>\n",
       "      <th>N</th>\n",
       "      <th>?</th>\n",
       "      <th>D</th>\n",
       "    </tr>\n",
       "    <tr>\n",
       "      <th>adjacent_waw</th>\n",
       "      <th></th>\n",
       "      <th></th>\n",
       "      <th></th>\n",
       "      <th></th>\n",
       "    </tr>\n",
       "  </thead>\n",
       "  <tbody>\n",
       "    <tr>\n",
       "      <th>False</th>\n",
       "      <td>0.624834</td>\n",
       "      <td>0.296301</td>\n",
       "      <td>0.059498</td>\n",
       "      <td>0.019367</td>\n",
       "    </tr>\n",
       "    <tr>\n",
       "      <th>True</th>\n",
       "      <td>0.872062</td>\n",
       "      <td>0.053696</td>\n",
       "      <td>0.031284</td>\n",
       "      <td>0.042957</td>\n",
       "    </tr>\n",
       "  </tbody>\n",
       "</table>\n",
       "</div>"
      ],
      "text/plain": [
       "domain               Q         N         ?         D\n",
       "adjacent_waw                                        \n",
       "False         0.624834  0.296301  0.059498  0.019367\n",
       "True          0.872062  0.053696  0.031284  0.042957"
      ]
     },
     "execution_count": 14,
     "metadata": {},
     "output_type": "execute_result"
    }
   ],
   "source": [
    "waw_domain.pr"
   ]
  },
  {
   "cell_type": "code",
   "execution_count": 23,
   "metadata": {},
   "outputs": [
    {
     "data": {
      "text/plain": [
       "domain\n",
       "Q    62.0\n",
       "N    30.0\n",
       "?     6.0\n",
       "D     2.0\n",
       "dtype: float64"
      ]
     },
     "execution_count": 23,
     "metadata": {},
     "output_type": "execute_result"
    }
   ],
   "source": [
    "(waw_domain.pr.loc[False].round(2) * 100)"
   ]
  },
  {
   "cell_type": "markdown",
   "metadata": {},
   "source": [
    "#### Qatal domains in context of all verbs\n",
    "\n",
    "Both ve-qatal and Ø-qatal types appear to have a majority of direct quotation contexts; how does this stack up statistically against other verb types?"
   ]
  },
  {
   "cell_type": "code",
   "execution_count": 24,
   "metadata": {},
   "outputs": [
    {
     "data": {
      "text/plain": [
       "Q    32006\n",
       "N    21072\n",
       "?     2038\n",
       "D     1839\n",
       "Name: domain, dtype: int64"
      ]
     },
     "execution_count": 24,
     "metadata": {},
     "output_type": "execute_result"
    }
   ],
   "source": [
    "av_domain_ct = av_df.domain.value_counts()\n",
    "av_domain_pr = prop_table(av_domain_ct)\n",
    "av_domain_ct"
   ]
  },
  {
   "cell_type": "code",
   "execution_count": 25,
   "metadata": {},
   "outputs": [
    {
     "data": {
      "text/plain": [
       "Q    0.561952\n",
       "N    0.369976\n",
       "?    0.035783\n",
       "D    0.032289\n",
       "Name: domain, dtype: float64"
      ]
     },
     "execution_count": 25,
     "metadata": {},
     "output_type": "execute_result"
    }
   ],
   "source": [
    "av_domain_pr"
   ]
  },
  {
   "cell_type": "code",
   "execution_count": 26,
   "metadata": {},
   "outputs": [
    {
     "data": {
      "text/html": [
       "<div>\n",
       "<style scoped>\n",
       "    .dataframe tbody tr th:only-of-type {\n",
       "        vertical-align: middle;\n",
       "    }\n",
       "\n",
       "    .dataframe tbody tr th {\n",
       "        vertical-align: top;\n",
       "    }\n",
       "\n",
       "    .dataframe thead th {\n",
       "        text-align: right;\n",
       "    }\n",
       "</style>\n",
       "<table border=\"1\" class=\"dataframe\">\n",
       "  <thead>\n",
       "    <tr style=\"text-align: right;\">\n",
       "      <th>domain</th>\n",
       "      <th>Q</th>\n",
       "      <th>N</th>\n",
       "      <th>?</th>\n",
       "      <th>D</th>\n",
       "    </tr>\n",
       "    <tr>\n",
       "      <th>verb_form</th>\n",
       "      <th></th>\n",
       "      <th></th>\n",
       "      <th></th>\n",
       "      <th></th>\n",
       "    </tr>\n",
       "  </thead>\n",
       "  <tbody>\n",
       "    <tr>\n",
       "      <th>qtl</th>\n",
       "      <td>14540</td>\n",
       "      <td>4583</td>\n",
       "      <td>1052</td>\n",
       "      <td>553</td>\n",
       "    </tr>\n",
       "    <tr>\n",
       "      <th>yqtl</th>\n",
       "      <td>14100</td>\n",
       "      <td>59</td>\n",
       "      <td>565</td>\n",
       "      <td>1130</td>\n",
       "    </tr>\n",
       "    <tr>\n",
       "      <th>wayq</th>\n",
       "      <td>9</td>\n",
       "      <td>14961</td>\n",
       "      <td>3</td>\n",
       "      <td>1</td>\n",
       "    </tr>\n",
       "    <tr>\n",
       "      <th>ptcp</th>\n",
       "      <td>3357</td>\n",
       "      <td>1469</td>\n",
       "      <td>418</td>\n",
       "      <td>155</td>\n",
       "    </tr>\n",
       "  </tbody>\n",
       "</table>\n",
       "</div>"
      ],
      "text/plain": [
       "domain         Q      N     ?     D\n",
       "verb_form                          \n",
       "qtl        14540   4583  1052   553\n",
       "yqtl       14100     59   565  1130\n",
       "wayq           9  14961     3     1\n",
       "ptcp        3357   1469   418   155"
      ]
     },
     "execution_count": 26,
     "metadata": {},
     "output_type": "execute_result"
    }
   ],
   "source": [
    "av_domain = PivotProp(av_df, 'verb_form', 'domain')\n",
    "\n",
    "sort_sums = av_domain.ct.sum(1).sort_values(ascending=False).index\n",
    "av_domain.ct = av_domain.ct.loc[sort_sums]\n",
    "av_domain.pr = av_domain.pr.loc[sort_sums]\n",
    "av_domain_dp = my_stats.apply_deltaP(av_domain.ct, 0, 1)\n",
    "av_domain_fs, _odds = my_stats.apply_fishers(av_domain.ct, 0, 1, logtransform=False, sign=False)\n",
    "\n",
    "av_domain.ct"
   ]
  },
  {
   "cell_type": "code",
   "execution_count": 27,
   "metadata": {},
   "outputs": [
    {
     "data": {
      "text/html": [
       "<div>\n",
       "<style scoped>\n",
       "    .dataframe tbody tr th:only-of-type {\n",
       "        vertical-align: middle;\n",
       "    }\n",
       "\n",
       "    .dataframe tbody tr th {\n",
       "        vertical-align: top;\n",
       "    }\n",
       "\n",
       "    .dataframe thead th {\n",
       "        text-align: right;\n",
       "    }\n",
       "</style>\n",
       "<table border=\"1\" class=\"dataframe\">\n",
       "  <thead>\n",
       "    <tr style=\"text-align: right;\">\n",
       "      <th>verb_form</th>\n",
       "      <th>qtl</th>\n",
       "      <th>yqtl</th>\n",
       "      <th>wayq</th>\n",
       "      <th>ptcp</th>\n",
       "    </tr>\n",
       "    <tr>\n",
       "      <th>domain</th>\n",
       "      <th></th>\n",
       "      <th></th>\n",
       "      <th></th>\n",
       "      <th></th>\n",
       "    </tr>\n",
       "  </thead>\n",
       "  <tbody>\n",
       "    <tr>\n",
       "      <th>Q</th>\n",
       "      <td>0.454290</td>\n",
       "      <td>0.440542</td>\n",
       "      <td>0.000281</td>\n",
       "      <td>0.104887</td>\n",
       "    </tr>\n",
       "    <tr>\n",
       "      <th>N</th>\n",
       "      <td>0.217492</td>\n",
       "      <td>0.002800</td>\n",
       "      <td>0.709994</td>\n",
       "      <td>0.069713</td>\n",
       "    </tr>\n",
       "    <tr>\n",
       "      <th>?</th>\n",
       "      <td>0.516192</td>\n",
       "      <td>0.277233</td>\n",
       "      <td>0.001472</td>\n",
       "      <td>0.205103</td>\n",
       "    </tr>\n",
       "    <tr>\n",
       "      <th>D</th>\n",
       "      <td>0.300707</td>\n",
       "      <td>0.614464</td>\n",
       "      <td>0.000544</td>\n",
       "      <td>0.084285</td>\n",
       "    </tr>\n",
       "  </tbody>\n",
       "</table>\n",
       "</div>"
      ],
      "text/plain": [
       "verb_form       qtl      yqtl      wayq      ptcp\n",
       "domain                                           \n",
       "Q          0.454290  0.440542  0.000281  0.104887\n",
       "N          0.217492  0.002800  0.709994  0.069713\n",
       "?          0.516192  0.277233  0.001472  0.205103\n",
       "D          0.300707  0.614464  0.000544  0.084285"
      ]
     },
     "execution_count": 27,
     "metadata": {},
     "output_type": "execute_result"
    }
   ],
   "source": [
    "prop_table(av_domain.ct.T)"
   ]
  },
  {
   "cell_type": "code",
   "execution_count": 28,
   "metadata": {},
   "outputs": [
    {
     "data": {
      "text/html": [
       "<div>\n",
       "<style scoped>\n",
       "    .dataframe tbody tr th:only-of-type {\n",
       "        vertical-align: middle;\n",
       "    }\n",
       "\n",
       "    .dataframe tbody tr th {\n",
       "        vertical-align: top;\n",
       "    }\n",
       "\n",
       "    .dataframe thead th {\n",
       "        text-align: right;\n",
       "    }\n",
       "</style>\n",
       "<table border=\"1\" class=\"dataframe\">\n",
       "  <thead>\n",
       "    <tr style=\"text-align: right;\">\n",
       "      <th>domain</th>\n",
       "      <th>Q</th>\n",
       "      <th>N</th>\n",
       "      <th>?</th>\n",
       "      <th>D</th>\n",
       "    </tr>\n",
       "    <tr>\n",
       "      <th>verb_form</th>\n",
       "      <th></th>\n",
       "      <th></th>\n",
       "      <th></th>\n",
       "      <th></th>\n",
       "    </tr>\n",
       "  </thead>\n",
       "  <tbody>\n",
       "    <tr>\n",
       "      <th>qtl</th>\n",
       "      <td>0.701467</td>\n",
       "      <td>0.221102</td>\n",
       "      <td>0.050753</td>\n",
       "      <td>0.026679</td>\n",
       "    </tr>\n",
       "    <tr>\n",
       "      <th>yqtl</th>\n",
       "      <td>0.889365</td>\n",
       "      <td>0.003721</td>\n",
       "      <td>0.035638</td>\n",
       "      <td>0.071275</td>\n",
       "    </tr>\n",
       "    <tr>\n",
       "      <th>wayq</th>\n",
       "      <td>0.000601</td>\n",
       "      <td>0.999132</td>\n",
       "      <td>0.000200</td>\n",
       "      <td>0.000067</td>\n",
       "    </tr>\n",
       "    <tr>\n",
       "      <th>ptcp</th>\n",
       "      <td>0.621782</td>\n",
       "      <td>0.272087</td>\n",
       "      <td>0.077422</td>\n",
       "      <td>0.028709</td>\n",
       "    </tr>\n",
       "  </tbody>\n",
       "</table>\n",
       "</div>"
      ],
      "text/plain": [
       "domain            Q         N         ?         D\n",
       "verb_form                                        \n",
       "qtl        0.701467  0.221102  0.050753  0.026679\n",
       "yqtl       0.889365  0.003721  0.035638  0.071275\n",
       "wayq       0.000601  0.999132  0.000200  0.000067\n",
       "ptcp       0.621782  0.272087  0.077422  0.028709"
      ]
     },
     "execution_count": 28,
     "metadata": {},
     "output_type": "execute_result"
    }
   ],
   "source": [
    "av_domain.pr"
   ]
  },
  {
   "cell_type": "code",
   "execution_count": 29,
   "metadata": {},
   "outputs": [
    {
     "data": {
      "text/html": [
       "<div>\n",
       "<style scoped>\n",
       "    .dataframe tbody tr th:only-of-type {\n",
       "        vertical-align: middle;\n",
       "    }\n",
       "\n",
       "    .dataframe tbody tr th {\n",
       "        vertical-align: top;\n",
       "    }\n",
       "\n",
       "    .dataframe thead th {\n",
       "        text-align: right;\n",
       "    }\n",
       "</style>\n",
       "<table border=\"1\" class=\"dataframe\">\n",
       "  <thead>\n",
       "    <tr style=\"text-align: right;\">\n",
       "      <th>domain</th>\n",
       "      <th>Q</th>\n",
       "      <th>N</th>\n",
       "      <th>?</th>\n",
       "      <th>D</th>\n",
       "    </tr>\n",
       "    <tr>\n",
       "      <th>verb_form</th>\n",
       "      <th></th>\n",
       "      <th></th>\n",
       "      <th></th>\n",
       "      <th></th>\n",
       "    </tr>\n",
       "  </thead>\n",
       "  <tbody>\n",
       "    <tr>\n",
       "      <th>qtl</th>\n",
       "      <td>0.219340</td>\n",
       "      <td>-0.234056</td>\n",
       "      <td>0.023535</td>\n",
       "      <td>-0.008819</td>\n",
       "    </tr>\n",
       "    <tr>\n",
       "      <th>yqtl</th>\n",
       "      <td>0.453707</td>\n",
       "      <td>-0.507531</td>\n",
       "      <td>-0.000201</td>\n",
       "      <td>0.054025</td>\n",
       "    </tr>\n",
       "    <tr>\n",
       "      <th>wayq</th>\n",
       "      <td>-0.761577</td>\n",
       "      <td>0.853566</td>\n",
       "      <td>-0.048274</td>\n",
       "      <td>-0.043715</td>\n",
       "    </tr>\n",
       "    <tr>\n",
       "      <th>ptcp</th>\n",
       "      <td>0.066095</td>\n",
       "      <td>-0.108140</td>\n",
       "      <td>0.046000</td>\n",
       "      <td>-0.003954</td>\n",
       "    </tr>\n",
       "  </tbody>\n",
       "</table>\n",
       "</div>"
      ],
      "text/plain": [
       "domain            Q         N         ?         D\n",
       "verb_form                                        \n",
       "qtl        0.219340 -0.234056  0.023535 -0.008819\n",
       "yqtl       0.453707 -0.507531 -0.000201  0.054025\n",
       "wayq      -0.761577  0.853566 -0.048274 -0.043715\n",
       "ptcp       0.066095 -0.108140  0.046000 -0.003954"
      ]
     },
     "execution_count": 29,
     "metadata": {},
     "output_type": "execute_result"
    }
   ],
   "source": [
    "av_domain_dp # ΔP significance test"
   ]
  },
  {
   "cell_type": "code",
   "execution_count": 30,
   "metadata": {},
   "outputs": [
    {
     "data": {
      "text/html": [
       "<div>\n",
       "<style scoped>\n",
       "    .dataframe tbody tr th:only-of-type {\n",
       "        vertical-align: middle;\n",
       "    }\n",
       "\n",
       "    .dataframe tbody tr th {\n",
       "        vertical-align: top;\n",
       "    }\n",
       "\n",
       "    .dataframe thead th {\n",
       "        text-align: right;\n",
       "    }\n",
       "</style>\n",
       "<table border=\"1\" class=\"dataframe\">\n",
       "  <thead>\n",
       "    <tr style=\"text-align: right;\">\n",
       "      <th></th>\n",
       "      <th>Q</th>\n",
       "      <th>N</th>\n",
       "      <th>?</th>\n",
       "      <th>D</th>\n",
       "    </tr>\n",
       "  </thead>\n",
       "  <tbody>\n",
       "    <tr>\n",
       "      <th>qtl</th>\n",
       "      <td>0.000000e+00</td>\n",
       "      <td>0.000000e+00</td>\n",
       "      <td>4.247906e-46</td>\n",
       "      <td>6.771691e-09</td>\n",
       "    </tr>\n",
       "    <tr>\n",
       "      <th>yqtl</th>\n",
       "      <td>0.000000e+00</td>\n",
       "      <td>0.000000e+00</td>\n",
       "      <td>9.198338e-01</td>\n",
       "      <td>2.389450e-205</td>\n",
       "    </tr>\n",
       "    <tr>\n",
       "      <th>wayq</th>\n",
       "      <td>0.000000e+00</td>\n",
       "      <td>0.000000e+00</td>\n",
       "      <td>1.518749e-268</td>\n",
       "      <td>4.329544e-246</td>\n",
       "    </tr>\n",
       "    <tr>\n",
       "      <th>ptcp</th>\n",
       "      <td>8.628918e-21</td>\n",
       "      <td>2.206709e-57</td>\n",
       "      <td>4.932826e-53</td>\n",
       "      <td>1.240493e-01</td>\n",
       "    </tr>\n",
       "  </tbody>\n",
       "</table>\n",
       "</div>"
      ],
      "text/plain": [
       "                 Q             N              ?              D\n",
       "qtl   0.000000e+00  0.000000e+00   4.247906e-46   6.771691e-09\n",
       "yqtl  0.000000e+00  0.000000e+00   9.198338e-01  2.389450e-205\n",
       "wayq  0.000000e+00  0.000000e+00  1.518749e-268  4.329544e-246\n",
       "ptcp  8.628918e-21  2.206709e-57   4.932826e-53   1.240493e-01"
      ]
     },
     "execution_count": 30,
     "metadata": {},
     "output_type": "execute_result"
    }
   ],
   "source": [
    "av_domain_fs # Fisher's significance test"
   ]
  },
  {
   "cell_type": "markdown",
   "metadata": {},
   "source": [
    "## Lexical collocations compared against other verb forms\n",
    "\n",
    "NB that all lexical data is provided in ETCBC transcription:\n",
    "https://annotation.github.io/text-fabric/writing/hebrew.html#gsc.tab=0"
   ]
  },
  {
   "cell_type": "code",
   "execution_count": 3,
   "metadata": {},
   "outputs": [
    {
     "data": {
      "text/html": [
       "<div>\n",
       "<style scoped>\n",
       "    .dataframe tbody tr th:only-of-type {\n",
       "        vertical-align: middle;\n",
       "    }\n",
       "\n",
       "    .dataframe tbody tr th {\n",
       "        vertical-align: top;\n",
       "    }\n",
       "\n",
       "    .dataframe thead th {\n",
       "        text-align: right;\n",
       "    }\n",
       "</style>\n",
       "<table border=\"1\" class=\"dataframe\">\n",
       "  <thead>\n",
       "    <tr style=\"text-align: right;\">\n",
       "      <th></th>\n",
       "      <th>B</th>\n",
       "      <th>W</th>\n",
       "      <th>H</th>\n",
       "      <th>KJ</th>\n",
       "      <th>L</th>\n",
       "      <th>&gt;CR</th>\n",
       "      <th>HNH</th>\n",
       "      <th>L&gt;</th>\n",
       "      <th>MN</th>\n",
       "      <th>&gt;P</th>\n",
       "      <th>...</th>\n",
       "      <th>&lt;BD[</th>\n",
       "      <th>LHN</th>\n",
       "      <th>CLL=[</th>\n",
       "      <th>&gt;JKKH</th>\n",
       "      <th>BWZ[</th>\n",
       "      <th>&lt;WT[</th>\n",
       "      <th>CLC[</th>\n",
       "      <th>HJK</th>\n",
       "      <th>RC&lt;[</th>\n",
       "      <th>CXV=[</th>\n",
       "    </tr>\n",
       "    <tr>\n",
       "      <th>verb_form</th>\n",
       "      <th></th>\n",
       "      <th></th>\n",
       "      <th></th>\n",
       "      <th></th>\n",
       "      <th></th>\n",
       "      <th></th>\n",
       "      <th></th>\n",
       "      <th></th>\n",
       "      <th></th>\n",
       "      <th></th>\n",
       "      <th></th>\n",
       "      <th></th>\n",
       "      <th></th>\n",
       "      <th></th>\n",
       "      <th></th>\n",
       "      <th></th>\n",
       "      <th></th>\n",
       "      <th></th>\n",
       "      <th></th>\n",
       "      <th></th>\n",
       "      <th></th>\n",
       "    </tr>\n",
       "  </thead>\n",
       "  <tbody>\n",
       "    <tr>\n",
       "      <th>qtl</th>\n",
       "      <td>744.0</td>\n",
       "      <td>10220</td>\n",
       "      <td>1326.0</td>\n",
       "      <td>1838.0</td>\n",
       "      <td>371.0</td>\n",
       "      <td>2974.0</td>\n",
       "      <td>182.0</td>\n",
       "      <td>1827.0</td>\n",
       "      <td>325.0</td>\n",
       "      <td>32.0</td>\n",
       "      <td>...</td>\n",
       "      <td>0.0</td>\n",
       "      <td>0.0</td>\n",
       "      <td>0.0</td>\n",
       "      <td>0.0</td>\n",
       "      <td>0.0</td>\n",
       "      <td>0.0</td>\n",
       "      <td>0.0</td>\n",
       "      <td>0.0</td>\n",
       "      <td>0.0</td>\n",
       "      <td>0.0</td>\n",
       "    </tr>\n",
       "    <tr>\n",
       "      <th>ptcp</th>\n",
       "      <td>96.0</td>\n",
       "      <td>1328</td>\n",
       "      <td>1511.0</td>\n",
       "      <td>246.0</td>\n",
       "      <td>85.0</td>\n",
       "      <td>358.0</td>\n",
       "      <td>367.0</td>\n",
       "      <td>78.0</td>\n",
       "      <td>51.0</td>\n",
       "      <td>6.0</td>\n",
       "      <td>...</td>\n",
       "      <td>0.0</td>\n",
       "      <td>0.0</td>\n",
       "      <td>0.0</td>\n",
       "      <td>0.0</td>\n",
       "      <td>0.0</td>\n",
       "      <td>0.0</td>\n",
       "      <td>0.0</td>\n",
       "      <td>0.0</td>\n",
       "      <td>0.0</td>\n",
       "      <td>0.0</td>\n",
       "    </tr>\n",
       "    <tr>\n",
       "      <th>yqtl</th>\n",
       "      <td>1144.0</td>\n",
       "      <td>6134</td>\n",
       "      <td>1540.0</td>\n",
       "      <td>1122.0</td>\n",
       "      <td>557.0</td>\n",
       "      <td>970.0</td>\n",
       "      <td>50.0</td>\n",
       "      <td>2746.0</td>\n",
       "      <td>503.0</td>\n",
       "      <td>51.0</td>\n",
       "      <td>...</td>\n",
       "      <td>1.0</td>\n",
       "      <td>2.0</td>\n",
       "      <td>1.0</td>\n",
       "      <td>4.0</td>\n",
       "      <td>1.0</td>\n",
       "      <td>1.0</td>\n",
       "      <td>1.0</td>\n",
       "      <td>2.0</td>\n",
       "      <td>1.0</td>\n",
       "      <td>1.0</td>\n",
       "    </tr>\n",
       "    <tr>\n",
       "      <th>wayq</th>\n",
       "      <td>0.0</td>\n",
       "      <td>14974</td>\n",
       "      <td>0.0</td>\n",
       "      <td>0.0</td>\n",
       "      <td>0.0</td>\n",
       "      <td>0.0</td>\n",
       "      <td>0.0</td>\n",
       "      <td>0.0</td>\n",
       "      <td>0.0</td>\n",
       "      <td>0.0</td>\n",
       "      <td>...</td>\n",
       "      <td>0.0</td>\n",
       "      <td>0.0</td>\n",
       "      <td>0.0</td>\n",
       "      <td>0.0</td>\n",
       "      <td>0.0</td>\n",
       "      <td>0.0</td>\n",
       "      <td>0.0</td>\n",
       "      <td>0.0</td>\n",
       "      <td>0.0</td>\n",
       "      <td>0.0</td>\n",
       "    </tr>\n",
       "  </tbody>\n",
       "</table>\n",
       "<p>4 rows × 463 columns</p>\n",
       "</div>"
      ],
      "text/plain": [
       "                B      W       H      KJ      L     >CR    HNH      L>     MN  \\\n",
       "verb_form                                                                       \n",
       "qtl         744.0  10220  1326.0  1838.0  371.0  2974.0  182.0  1827.0  325.0   \n",
       "ptcp         96.0   1328  1511.0   246.0   85.0   358.0  367.0    78.0   51.0   \n",
       "yqtl       1144.0   6134  1540.0  1122.0  557.0   970.0   50.0  2746.0  503.0   \n",
       "wayq          0.0  14974     0.0     0.0    0.0     0.0    0.0     0.0    0.0   \n",
       "\n",
       "             >P  ...  <BD[  LHN  CLL=[  >JKKH  BWZ[  <WT[  CLC[  HJK  RC<[  \\\n",
       "verb_form        ...                                                         \n",
       "qtl        32.0  ...   0.0  0.0    0.0    0.0   0.0   0.0   0.0  0.0   0.0   \n",
       "ptcp        6.0  ...   0.0  0.0    0.0    0.0   0.0   0.0   0.0  0.0   0.0   \n",
       "yqtl       51.0  ...   1.0  2.0    1.0    4.0   1.0   1.0   1.0  2.0   1.0   \n",
       "wayq        0.0  ...   0.0  0.0    0.0    0.0   0.0   0.0   0.0  0.0   0.0   \n",
       "\n",
       "           CXV=[  \n",
       "verb_form         \n",
       "qtl          0.0  \n",
       "ptcp         0.0  \n",
       "yqtl         1.0  \n",
       "wayq         0.0  \n",
       "\n",
       "[4 rows x 463 columns]"
      ]
     },
     "execution_count": 3,
     "metadata": {},
     "output_type": "execute_result"
    }
   ],
   "source": [
    "av_col_df.head()"
   ]
  },
  {
   "cell_type": "code",
   "execution_count": 13,
   "metadata": {},
   "outputs": [
    {
     "data": {
      "text/html": [
       "<div>\n",
       "<style scoped>\n",
       "    .dataframe tbody tr th:only-of-type {\n",
       "        vertical-align: middle;\n",
       "    }\n",
       "\n",
       "    .dataframe tbody tr th {\n",
       "        vertical-align: top;\n",
       "    }\n",
       "\n",
       "    .dataframe thead th {\n",
       "        text-align: right;\n",
       "    }\n",
       "</style>\n",
       "<table border=\"1\" class=\"dataframe\">\n",
       "  <thead>\n",
       "    <tr style=\"text-align: right;\">\n",
       "      <th></th>\n",
       "      <th>B</th>\n",
       "      <th>W</th>\n",
       "      <th>H</th>\n",
       "      <th>KJ</th>\n",
       "      <th>L</th>\n",
       "      <th>&gt;CR</th>\n",
       "      <th>HNH</th>\n",
       "      <th>L&gt;</th>\n",
       "      <th>MN</th>\n",
       "      <th>&gt;P</th>\n",
       "      <th>...</th>\n",
       "      <th>&lt;BD[</th>\n",
       "      <th>LHN</th>\n",
       "      <th>CLL=[</th>\n",
       "      <th>&gt;JKKH</th>\n",
       "      <th>BWZ[</th>\n",
       "      <th>&lt;WT[</th>\n",
       "      <th>CLC[</th>\n",
       "      <th>HJK</th>\n",
       "      <th>RC&lt;[</th>\n",
       "      <th>CXV=[</th>\n",
       "    </tr>\n",
       "  </thead>\n",
       "  <tbody>\n",
       "    <tr>\n",
       "      <th>qtl</th>\n",
       "      <td>0.119679</td>\n",
       "      <td>-207.63233</td>\n",
       "      <td>-22.119934</td>\n",
       "      <td>123.831899</td>\n",
       "      <td>-0.128867</td>\n",
       "      <td>inf</td>\n",
       "      <td>-3.244245</td>\n",
       "      <td>2.713350</td>\n",
       "      <td>-0.025036</td>\n",
       "      <td>-0.039686</td>\n",
       "      <td>...</td>\n",
       "      <td>0.00000</td>\n",
       "      <td>-0.273274</td>\n",
       "      <td>0.00000</td>\n",
       "      <td>-0.517176</td>\n",
       "      <td>0.00000</td>\n",
       "      <td>0.00000</td>\n",
       "      <td>0.00000</td>\n",
       "      <td>-0.273274</td>\n",
       "      <td>0.00000</td>\n",
       "      <td>0.00000</td>\n",
       "    </tr>\n",
       "    <tr>\n",
       "      <th>ptcp</th>\n",
       "      <td>-9.317000</td>\n",
       "      <td>-inf</td>\n",
       "      <td>inf</td>\n",
       "      <td>-0.901922</td>\n",
       "      <td>0.000000</td>\n",
       "      <td>-0.063157</td>\n",
       "      <td>235.635748</td>\n",
       "      <td>-91.662939</td>\n",
       "      <td>-2.400715</td>\n",
       "      <td>-0.152597</td>\n",
       "      <td>...</td>\n",
       "      <td>0.00000</td>\n",
       "      <td>0.000000</td>\n",
       "      <td>0.00000</td>\n",
       "      <td>0.000000</td>\n",
       "      <td>0.00000</td>\n",
       "      <td>0.00000</td>\n",
       "      <td>0.00000</td>\n",
       "      <td>0.000000</td>\n",
       "      <td>0.00000</td>\n",
       "      <td>0.00000</td>\n",
       "    </tr>\n",
       "    <tr>\n",
       "      <th>yqtl</th>\n",
       "      <td>126.833429</td>\n",
       "      <td>-inf</td>\n",
       "      <td>5.915347</td>\n",
       "      <td>3.994289</td>\n",
       "      <td>51.978724</td>\n",
       "      <td>-43.362100</td>\n",
       "      <td>-42.665438</td>\n",
       "      <td>inf</td>\n",
       "      <td>53.891590</td>\n",
       "      <td>6.026432</td>\n",
       "      <td>...</td>\n",
       "      <td>0.49692</td>\n",
       "      <td>0.993853</td>\n",
       "      <td>0.49692</td>\n",
       "      <td>1.987762</td>\n",
       "      <td>0.49692</td>\n",
       "      <td>0.49692</td>\n",
       "      <td>0.49692</td>\n",
       "      <td>0.993853</td>\n",
       "      <td>0.49692</td>\n",
       "      <td>0.49692</td>\n",
       "    </tr>\n",
       "    <tr>\n",
       "      <th>wayq</th>\n",
       "      <td>-224.313388</td>\n",
       "      <td>inf</td>\n",
       "      <td>-inf</td>\n",
       "      <td>-inf</td>\n",
       "      <td>-113.454794</td>\n",
       "      <td>-inf</td>\n",
       "      <td>-66.611721</td>\n",
       "      <td>-inf</td>\n",
       "      <td>-98.348376</td>\n",
       "      <td>-9.584207</td>\n",
       "      <td>...</td>\n",
       "      <td>0.00000</td>\n",
       "      <td>0.000000</td>\n",
       "      <td>0.00000</td>\n",
       "      <td>-0.235944</td>\n",
       "      <td>0.00000</td>\n",
       "      <td>0.00000</td>\n",
       "      <td>0.00000</td>\n",
       "      <td>0.000000</td>\n",
       "      <td>0.00000</td>\n",
       "      <td>0.00000</td>\n",
       "    </tr>\n",
       "  </tbody>\n",
       "</table>\n",
       "<p>4 rows × 463 columns</p>\n",
       "</div>"
      ],
      "text/plain": [
       "               B          W          H          KJ           L        >CR  \\\n",
       "qtl     0.119679 -207.63233 -22.119934  123.831899   -0.128867        inf   \n",
       "ptcp   -9.317000       -inf        inf   -0.901922    0.000000  -0.063157   \n",
       "yqtl  126.833429       -inf   5.915347    3.994289   51.978724 -43.362100   \n",
       "wayq -224.313388        inf       -inf        -inf -113.454794       -inf   \n",
       "\n",
       "             HNH         L>         MN        >P  ...     <BD[       LHN  \\\n",
       "qtl    -3.244245   2.713350  -0.025036 -0.039686  ...  0.00000 -0.273274   \n",
       "ptcp  235.635748 -91.662939  -2.400715 -0.152597  ...  0.00000  0.000000   \n",
       "yqtl  -42.665438        inf  53.891590  6.026432  ...  0.49692  0.993853   \n",
       "wayq  -66.611721       -inf -98.348376 -9.584207  ...  0.00000  0.000000   \n",
       "\n",
       "        CLL=[     >JKKH     BWZ[     <WT[     CLC[       HJK     RC<[    CXV=[  \n",
       "qtl   0.00000 -0.517176  0.00000  0.00000  0.00000 -0.273274  0.00000  0.00000  \n",
       "ptcp  0.00000  0.000000  0.00000  0.00000  0.00000  0.000000  0.00000  0.00000  \n",
       "yqtl  0.49692  1.987762  0.49692  0.49692  0.49692  0.993853  0.49692  0.49692  \n",
       "wayq  0.00000 -0.235944  0.00000  0.00000  0.00000  0.000000  0.00000  0.00000  \n",
       "\n",
       "[4 rows x 463 columns]"
      ]
     },
     "execution_count": 13,
     "metadata": {},
     "output_type": "execute_result"
    }
   ],
   "source": [
    "# apply Fisher's statistical significance test\n",
    "# with logtransformation and addition of negative \n",
    "# sign if observed frequency goes below expected\n",
    "# Fisher's is good for this analysis since it is\n",
    "# bidirectional\n",
    "# a value > 1.3 or < -1.3 is statistically significant\n",
    "\n",
    "av_col_fs, _odds_ = my_stats.apply_fishers(av_col_df, 0, 1)\n",
    "av_col_fs"
   ]
  },
  {
   "cell_type": "code",
   "execution_count": 14,
   "metadata": {},
   "outputs": [
    {
     "data": {
      "text/plain": [
       ">CR            inf\n",
       "KH      127.358091\n",
       "KJ      123.831899\n",
       "K        42.228324\n",
       ">T       36.933887\n",
       "GM       18.710919\n",
       "MDW<      9.881720\n",
       "KN        4.020911\n",
       ">LH       3.886858\n",
       "L>        2.713350\n",
       ">KN       2.482377\n",
       "C         2.458896\n",
       "ZW        2.182318\n",
       "LWL>      2.133870\n",
       "JCB[      2.025151\n",
       "Z>T       1.880614\n",
       "MRH[      1.720063\n",
       "HN        1.676743\n",
       "HJ>       1.627427\n",
       ">ZJ       1.290031\n",
       "Name: qtl, dtype: float64"
      ]
     },
     "execution_count": 14,
     "metadata": {},
     "output_type": "execute_result"
    }
   ],
   "source": [
    "av_col_fs.loc['qtl'].sort_values(ascending=False).head(20)"
   ]
  },
  {
   "cell_type": "code",
   "execution_count": 6,
   "metadata": {},
   "outputs": [
    {
     "data": {
      "text/plain": [
       ">L=            inf\n",
       "L>             inf\n",
       "B       126.833429\n",
       ">M      114.937922\n",
       "LM<N     60.883023\n",
       "PN       59.632713\n",
       "MN       53.891590\n",
       "L        51.978724\n",
       "<L       29.147764\n",
       ">L       27.860739\n",
       "MWT[     27.161678\n",
       "H=       22.534992\n",
       "MJ       17.957431\n",
       "<D       16.105898\n",
       ">WLJ     14.883374\n",
       "MH       13.776708\n",
       "BL       12.976456\n",
       "KN       10.810109\n",
       "MTJ      10.442369\n",
       "LMH       9.753989\n",
       "Name: yqtl, dtype: float64"
      ]
     },
     "execution_count": 6,
     "metadata": {},
     "output_type": "execute_result"
    }
   ],
   "source": [
    "av_col_fs.loc['yqtl'].sort_values(ascending=False).head(20)"
   ]
  },
  {
   "cell_type": "code",
   "execution_count": 8,
   "metadata": {},
   "outputs": [
    {
     "data": {
      "text/plain": [
       "H               inf\n",
       "HNH      235.635748\n",
       "HJH[     117.793827\n",
       ">NKJ      80.672615\n",
       ">TM       52.405337\n",
       "HM        45.297820\n",
       ">NJ       34.075604\n",
       ">TH       34.004658\n",
       "HW>       28.805831\n",
       ">NXNW     14.232464\n",
       "HMH        8.496145\n",
       "HJ>        5.874879\n",
       "H=         3.885332\n",
       "ZH         3.243329\n",
       ">RB[       2.282421\n",
       "CDP[       2.150594\n",
       ">CR[       2.150594\n",
       ">SP[       2.009405\n",
       "NF>[       1.992513\n",
       "HNH=       1.469383\n",
       "Name: ptcp, dtype: float64"
      ]
     },
     "execution_count": 8,
     "metadata": {},
     "output_type": "execute_result"
    }
   ],
   "source": [
    "av_col_fs.loc['ptcp'].sort_values(ascending=False).head(20)"
   ]
  },
  {
   "cell_type": "code",
   "execution_count": null,
   "metadata": {},
   "outputs": [],
   "source": []
  }
 ],
 "metadata": {
  "kernelspec": {
   "display_name": "Python 3",
   "language": "python",
   "name": "python3"
  },
  "language_info": {
   "codemirror_mode": {
    "name": "ipython",
    "version": 3
   },
   "file_extension": ".py",
   "mimetype": "text/x-python",
   "name": "python",
   "nbconvert_exporter": "python",
   "pygments_lexer": "ipython3",
   "version": "3.8.0"
  }
 },
 "nbformat": 4,
 "nbformat_minor": 4
}

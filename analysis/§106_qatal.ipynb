{
 "cells": [
  {
   "cell_type": "code",
   "execution_count": 1,
   "metadata": {},
   "outputs": [],
   "source": [
    "from my_tools import *"
   ]
  },
  {
   "cell_type": "code",
   "execution_count": 2,
   "metadata": {},
   "outputs": [],
   "source": [
    "# qatal DataFrame for which there is ESV translation data\n",
    "qatal_df2 = qatal_df[qatal_df.esv_TAM.str.contains('', na=False)]"
   ]
  },
  {
   "cell_type": "markdown",
   "metadata": {},
   "source": [
    "# §106, qatal\n",
    "## Querying and examining species of qatal following GKC"
   ]
  },
  {
   "cell_type": "code",
   "execution_count": 3,
   "metadata": {},
   "outputs": [
    {
     "data": {
      "text/plain": [
       "(19559, 54)"
      ]
     },
     "execution_count": 3,
     "metadata": {},
     "output_type": "execute_result"
    }
   ],
   "source": [
    "qatal_df2.shape"
   ]
  },
  {
   "cell_type": "markdown",
   "metadata": {},
   "source": [
    "## b\n",
    "\n",
    "> \"assertions, negations, confirmations, interrogations\""
   ]
  },
  {
   "cell_type": "code",
   "execution_count": 13,
   "metadata": {},
   "outputs": [
    {
     "name": "stdout",
     "output_type": "stream",
     "text": [
      "showing 20 of 491\n"
     ]
    },
    {
     "data": {
      "text/html": [
       "<style  type=\"text/css\" >\n",
       "#T_753732ae_1aa2_11eb_a9df_8c859073a1earow0_col1,#T_753732ae_1aa2_11eb_a9df_8c859073a1earow0_col2,#T_753732ae_1aa2_11eb_a9df_8c859073a1earow1_col1,#T_753732ae_1aa2_11eb_a9df_8c859073a1earow1_col2,#T_753732ae_1aa2_11eb_a9df_8c859073a1earow2_col1,#T_753732ae_1aa2_11eb_a9df_8c859073a1earow2_col2,#T_753732ae_1aa2_11eb_a9df_8c859073a1earow3_col1,#T_753732ae_1aa2_11eb_a9df_8c859073a1earow3_col2,#T_753732ae_1aa2_11eb_a9df_8c859073a1earow4_col1,#T_753732ae_1aa2_11eb_a9df_8c859073a1earow4_col2,#T_753732ae_1aa2_11eb_a9df_8c859073a1earow5_col1,#T_753732ae_1aa2_11eb_a9df_8c859073a1earow5_col2,#T_753732ae_1aa2_11eb_a9df_8c859073a1earow6_col1,#T_753732ae_1aa2_11eb_a9df_8c859073a1earow6_col2,#T_753732ae_1aa2_11eb_a9df_8c859073a1earow7_col1,#T_753732ae_1aa2_11eb_a9df_8c859073a1earow7_col2,#T_753732ae_1aa2_11eb_a9df_8c859073a1earow8_col1,#T_753732ae_1aa2_11eb_a9df_8c859073a1earow8_col2,#T_753732ae_1aa2_11eb_a9df_8c859073a1earow9_col1,#T_753732ae_1aa2_11eb_a9df_8c859073a1earow9_col2,#T_753732ae_1aa2_11eb_a9df_8c859073a1earow10_col1,#T_753732ae_1aa2_11eb_a9df_8c859073a1earow10_col2,#T_753732ae_1aa2_11eb_a9df_8c859073a1earow11_col1,#T_753732ae_1aa2_11eb_a9df_8c859073a1earow11_col2,#T_753732ae_1aa2_11eb_a9df_8c859073a1earow12_col1,#T_753732ae_1aa2_11eb_a9df_8c859073a1earow12_col2,#T_753732ae_1aa2_11eb_a9df_8c859073a1earow13_col1,#T_753732ae_1aa2_11eb_a9df_8c859073a1earow13_col2,#T_753732ae_1aa2_11eb_a9df_8c859073a1earow14_col1,#T_753732ae_1aa2_11eb_a9df_8c859073a1earow14_col2,#T_753732ae_1aa2_11eb_a9df_8c859073a1earow15_col1,#T_753732ae_1aa2_11eb_a9df_8c859073a1earow15_col2,#T_753732ae_1aa2_11eb_a9df_8c859073a1earow16_col1,#T_753732ae_1aa2_11eb_a9df_8c859073a1earow16_col2,#T_753732ae_1aa2_11eb_a9df_8c859073a1earow17_col1,#T_753732ae_1aa2_11eb_a9df_8c859073a1earow17_col2,#T_753732ae_1aa2_11eb_a9df_8c859073a1earow18_col1,#T_753732ae_1aa2_11eb_a9df_8c859073a1earow18_col2,#T_753732ae_1aa2_11eb_a9df_8c859073a1earow19_col1,#T_753732ae_1aa2_11eb_a9df_8c859073a1earow19_col2{\n",
       "            font-size: 20px;\n",
       "             font-family:  Times New Roman;\n",
       "             text-align:  right;\n",
       "             max-width:  500px;\n",
       "        }</style><table id=\"T_753732ae_1aa2_11eb_a9df_8c859073a1ea\" ><thead>    <tr>        <th class=\"blank level0\" ></th>        <th class=\"col_heading level0 col0\" >ref</th>        <th class=\"col_heading level0 col1\" >sentence</th>        <th class=\"col_heading level0 col2\" >text_full</th>        <th class=\"col_heading level0 col3\" >esv</th>    </tr>    <tr>        <th class=\"index_name level0\" >bhsa_node</th>        <th class=\"blank\" ></th>        <th class=\"blank\" ></th>        <th class=\"blank\" ></th>        <th class=\"blank\" ></th>    </tr></thead><tbody>\n",
       "                <tr>\n",
       "                        <th id=\"T_753732ae_1aa2_11eb_a9df_8c859073a1ealevel0_row0\" class=\"row_heading level0 row0\" >3793</th>\n",
       "                        <td id=\"T_753732ae_1aa2_11eb_a9df_8c859073a1earow0_col0\" class=\"data row0 col0\" >Genesis 8:12</td>\n",
       "                        <td id=\"T_753732ae_1aa2_11eb_a9df_8c859073a1earow0_col1\" class=\"data row0 col1\" >וְלֹֽא־יָסְפָ֥ה שׁוּב־אֵלָ֖יו עֹֽוד׃ </td>\n",
       "                        <td id=\"T_753732ae_1aa2_11eb_a9df_8c859073a1earow0_col2\" class=\"data row0 col2\" >יָסְפָ֥ה</td>\n",
       "                        <td id=\"T_753732ae_1aa2_11eb_a9df_8c859073a1earow0_col3\" class=\"data row0 col3\" >she did anymore</td>\n",
       "            </tr>\n",
       "            <tr>\n",
       "                        <th id=\"T_753732ae_1aa2_11eb_a9df_8c859073a1ealevel0_row1\" class=\"row_heading level0 row1\" >18764</th>\n",
       "                        <td id=\"T_753732ae_1aa2_11eb_a9df_8c859073a1earow1_col0\" class=\"data row1 col0\" >Genesis 34:19</td>\n",
       "                        <td id=\"T_753732ae_1aa2_11eb_a9df_8c859073a1earow1_col1\" class=\"data row1 col1\" >וְלֹֽא־אֵחַ֤ר הַנַּ֨עַר֙ לַעֲשֹׂ֣ות הַדָּבָ֔ר </td>\n",
       "                        <td id=\"T_753732ae_1aa2_11eb_a9df_8c859073a1earow1_col2\" class=\"data row1 col2\" >אֵחַ֤ר</td>\n",
       "                        <td id=\"T_753732ae_1aa2_11eb_a9df_8c859073a1earow1_col3\" class=\"data row1 col3\" >did delay</td>\n",
       "            </tr>\n",
       "            <tr>\n",
       "                        <th id=\"T_753732ae_1aa2_11eb_a9df_8c859073a1ealevel0_row2\" class=\"row_heading level0 row2\" >33773</th>\n",
       "                        <td id=\"T_753732ae_1aa2_11eb_a9df_8c859073a1earow2_col0\" class=\"data row2 col0\" >Exodus 9:35</td>\n",
       "                        <td id=\"T_753732ae_1aa2_11eb_a9df_8c859073a1earow2_col1\" class=\"data row2 col1\" >וְלֹ֥א שִׁלַּ֖ח אֶת־בְּנֵ֣י יִשְׂרָאֵ֑ל </td>\n",
       "                        <td id=\"T_753732ae_1aa2_11eb_a9df_8c859073a1earow2_col2\" class=\"data row2 col2\" >שִׁלַּ֖ח</td>\n",
       "                        <td id=\"T_753732ae_1aa2_11eb_a9df_8c859073a1earow2_col3\" class=\"data row2 col3\" >he did let go</td>\n",
       "            </tr>\n",
       "            <tr>\n",
       "                        <th id=\"T_753732ae_1aa2_11eb_a9df_8c859073a1ealevel0_row3\" class=\"row_heading level0 row3\" >88760</th>\n",
       "                        <td id=\"T_753732ae_1aa2_11eb_a9df_8c859073a1earow3_col0\" class=\"data row3 col0\" >Numbers 30:12</td>\n",
       "                        <td id=\"T_753732ae_1aa2_11eb_a9df_8c859073a1earow3_col1\" class=\"data row3 col1\" >לֹ֥א הֵנִ֖יא אֹתָ֑הּ </td>\n",
       "                        <td id=\"T_753732ae_1aa2_11eb_a9df_8c859073a1earow3_col2\" class=\"data row3 col2\" >הֵנִ֖יא</td>\n",
       "                        <td id=\"T_753732ae_1aa2_11eb_a9df_8c859073a1earow3_col3\" class=\"data row3 col3\" >did oppose</td>\n",
       "            </tr>\n",
       "            <tr>\n",
       "                        <th id=\"T_753732ae_1aa2_11eb_a9df_8c859073a1ealevel0_row4\" class=\"row_heading level0 row4\" >112199</th>\n",
       "                        <td id=\"T_753732ae_1aa2_11eb_a9df_8c859073a1earow4_col0\" class=\"data row4 col0\" >Deuteronomy 32:51</td>\n",
       "                        <td id=\"T_753732ae_1aa2_11eb_a9df_8c859073a1earow4_col1\" class=\"data row4 col1\" >וְהֵאָסֵ֖ף אֶל־עַמֶּ֑יךָ כַּֽאֲשֶׁר־מֵ֞ת אַהֲרֹ֤ן אָחִ֨יךָ֙ בְּהֹ֣ר הָהָ֔ר וַיֵּאָ֖סֶף אֶל־עַמָּֽיו׃ עַל֩ אֲשֶׁ֨ר מְעַלְתֶּ֜ם בִּ֗י בְּתֹוךְ֙ בְּנֵ֣י יִשְׂרָאֵ֔ל בְּמֵֽי־מְרִיבַ֥ת קָדֵ֖שׁ מִדְבַּר־צִ֑ן עַ֣ל אֲשֶׁ֤ר לֹֽא־קִדַּשְׁתֶּם֙ אֹותִ֔י בְּתֹ֖וךְ בְּנֵ֥י יִשְׂרָאֵֽל׃ </td>\n",
       "                        <td id=\"T_753732ae_1aa2_11eb_a9df_8c859073a1earow4_col2\" class=\"data row4 col2\" >קִדַּשְׁתֶּם֙</td>\n",
       "                        <td id=\"T_753732ae_1aa2_11eb_a9df_8c859073a1earow4_col3\" class=\"data row4 col3\" >you did treat as holy</td>\n",
       "            </tr>\n",
       "            <tr>\n",
       "                        <th id=\"T_753732ae_1aa2_11eb_a9df_8c859073a1ealevel0_row5\" class=\"row_heading level0 row5\" >128127</th>\n",
       "                        <td id=\"T_753732ae_1aa2_11eb_a9df_8c859073a1earow5_col0\" class=\"data row5 col0\" >Judges 1:32</td>\n",
       "                        <td id=\"T_753732ae_1aa2_11eb_a9df_8c859073a1earow5_col1\" class=\"data row5 col1\" >כִּ֖י לֹ֥א הֹורִישֹֽׁו׃ ס </td>\n",
       "                        <td id=\"T_753732ae_1aa2_11eb_a9df_8c859073a1earow5_col2\" class=\"data row5 col2\" >הֹורִישֹֽׁו</td>\n",
       "                        <td id=\"T_753732ae_1aa2_11eb_a9df_8c859073a1earow5_col3\" class=\"data row5 col3\" >they did drive out</td>\n",
       "            </tr>\n",
       "            <tr>\n",
       "                        <th id=\"T_753732ae_1aa2_11eb_a9df_8c859073a1ealevel0_row6\" class=\"row_heading level0 row6\" >135832</th>\n",
       "                        <td id=\"T_753732ae_1aa2_11eb_a9df_8c859073a1earow6_col0\" class=\"data row6 col0\" >Judges 13:6</td>\n",
       "                        <td id=\"T_753732ae_1aa2_11eb_a9df_8c859073a1earow6_col1\" class=\"data row6 col1\" >וְאֶת־שְׁמֹ֖ו לֹֽא־הִגִּ֥יד לִֽי׃ </td>\n",
       "                        <td id=\"T_753732ae_1aa2_11eb_a9df_8c859073a1earow6_col2\" class=\"data row6 col2\" >הִגִּ֥יד</td>\n",
       "                        <td id=\"T_753732ae_1aa2_11eb_a9df_8c859073a1earow6_col3\" class=\"data row6 col3\" >he did tell</td>\n",
       "            </tr>\n",
       "            <tr>\n",
       "                        <th id=\"T_753732ae_1aa2_11eb_a9df_8c859073a1ealevel0_row7\" class=\"row_heading level0 row7\" >146548</th>\n",
       "                        <td id=\"T_753732ae_1aa2_11eb_a9df_8c859073a1earow7_col0\" class=\"data row7 col0\" >1_Samuel 10:14</td>\n",
       "                        <td id=\"T_753732ae_1aa2_11eb_a9df_8c859073a1earow7_col1\" class=\"data row7 col1\" >אָ֣ן הֲלַכְתֶּ֑ם </td>\n",
       "                        <td id=\"T_753732ae_1aa2_11eb_a9df_8c859073a1earow7_col2\" class=\"data row7 col2\" >הֲלַכְתֶּ֑ם</td>\n",
       "                        <td id=\"T_753732ae_1aa2_11eb_a9df_8c859073a1earow7_col3\" class=\"data row7 col3\" >did you go</td>\n",
       "            </tr>\n",
       "            <tr>\n",
       "                        <th id=\"T_753732ae_1aa2_11eb_a9df_8c859073a1ealevel0_row8\" class=\"row_heading level0 row8\" >164079</th>\n",
       "                        <td id=\"T_753732ae_1aa2_11eb_a9df_8c859073a1earow8_col0\" class=\"data row8 col0\" >2_Samuel 7:7</td>\n",
       "                        <td id=\"T_753732ae_1aa2_11eb_a9df_8c859073a1earow8_col1\" class=\"data row8 col1\" >בְּכֹ֥ל אֲשֶֽׁר־הִתְהַלַּכְתִּי֮ בְּכָל־בְּנֵ֣י יִשְׂרָאֵל֒ הֲדָבָ֣ר דִּבַּ֗רְתִּי אֶת־אַחַד֙ שִׁבְטֵ֣י יִשְׂרָאֵ֔ל אֲשֶׁ֣ר צִוִּ֗יתִי לִרְעֹ֛ות אֶת־עַמִּ֥י אֶת־יִשְׂרָאֵ֖ל לֵאמֹ֑ר </td>\n",
       "                        <td id=\"T_753732ae_1aa2_11eb_a9df_8c859073a1earow8_col2\" class=\"data row8 col2\" >דִּבַּ֗רְתִּי</td>\n",
       "                        <td id=\"T_753732ae_1aa2_11eb_a9df_8c859073a1earow8_col3\" class=\"data row8 col3\" >did I speak</td>\n",
       "            </tr>\n",
       "            <tr>\n",
       "                        <th id=\"T_753732ae_1aa2_11eb_a9df_8c859073a1ealevel0_row9\" class=\"row_heading level0 row9\" >186318</th>\n",
       "                        <td id=\"T_753732ae_1aa2_11eb_a9df_8c859073a1earow9_col0\" class=\"data row9 col0\" >1_Kings 12:16</td>\n",
       "                        <td id=\"T_753732ae_1aa2_11eb_a9df_8c859073a1earow9_col1\" class=\"data row9 col1\" >וַיַּ֣רְא כָּל־יִשְׂרָאֵ֗ל כִּ֠י לֹֽא־שָׁמַ֣ע הַמֶּלֶךְ֮ אֲלֵיהֶם֒ </td>\n",
       "                        <td id=\"T_753732ae_1aa2_11eb_a9df_8c859073a1earow9_col2\" class=\"data row9 col2\" >שָׁמַ֣ע</td>\n",
       "                        <td id=\"T_753732ae_1aa2_11eb_a9df_8c859073a1earow9_col3\" class=\"data row9 col3\" >did listen</td>\n",
       "            </tr>\n",
       "            <tr>\n",
       "                        <th id=\"T_753732ae_1aa2_11eb_a9df_8c859073a1ealevel0_row10\" class=\"row_heading level0 row10\" >204606</th>\n",
       "                        <td id=\"T_753732ae_1aa2_11eb_a9df_8c859073a1earow10_col0\" class=\"data row10 col0\" >2_Kings 15:18</td>\n",
       "                        <td id=\"T_753732ae_1aa2_11eb_a9df_8c859073a1earow10_col1\" class=\"data row10 col1\" >לֹ֣א סָ֠ר מֵעַ֨ל חַטֹּ֜אות יָרָבְעָ֧ם בֶּן־נְבָ֛ט אֲשֶׁר־הֶחֱטִ֥יא אֶת־יִשְׂרָאֵ֖ל כָּל־יָמָֽיו׃ </td>\n",
       "                        <td id=\"T_753732ae_1aa2_11eb_a9df_8c859073a1earow10_col2\" class=\"data row10 col2\" >סָ֠ר</td>\n",
       "                        <td id=\"T_753732ae_1aa2_11eb_a9df_8c859073a1earow10_col3\" class=\"data row10 col3\" >He did depart</td>\n",
       "            </tr>\n",
       "            <tr>\n",
       "                        <th id=\"T_753732ae_1aa2_11eb_a9df_8c859073a1ealevel0_row11\" class=\"row_heading level0 row11\" >228199</th>\n",
       "                        <td id=\"T_753732ae_1aa2_11eb_a9df_8c859073a1earow11_col0\" class=\"data row11 col0\" >Isaiah 45:19</td>\n",
       "                        <td id=\"T_753732ae_1aa2_11eb_a9df_8c859073a1earow11_col1\" class=\"data row11 col1\" >לֹ֧א בַסֵּ֣תֶר דִּבַּ֗רְתִּי בִּמְקֹום֙ אֶ֣רֶץ חֹ֔שֶׁךְ </td>\n",
       "                        <td id=\"T_753732ae_1aa2_11eb_a9df_8c859073a1earow11_col2\" class=\"data row11 col2\" >דִּבַּ֗רְתִּי</td>\n",
       "                        <td id=\"T_753732ae_1aa2_11eb_a9df_8c859073a1earow11_col3\" class=\"data row11 col3\" >I did speak</td>\n",
       "            </tr>\n",
       "            <tr>\n",
       "                        <th id=\"T_753732ae_1aa2_11eb_a9df_8c859073a1ealevel0_row12\" class=\"row_heading level0 row12\" >237922</th>\n",
       "                        <td id=\"T_753732ae_1aa2_11eb_a9df_8c859073a1earow12_col0\" class=\"data row12 col0\" >Jeremiah 6:15</td>\n",
       "                        <td id=\"T_753732ae_1aa2_11eb_a9df_8c859073a1earow12_col1\" class=\"data row12 col1\" >גַּם־הַכְלִים֙ לֹ֣א יָדָ֔עוּ </td>\n",
       "                        <td id=\"T_753732ae_1aa2_11eb_a9df_8c859073a1earow12_col2\" class=\"data row12 col2\" >יָדָ֔עוּ</td>\n",
       "                        <td id=\"T_753732ae_1aa2_11eb_a9df_8c859073a1earow12_col3\" class=\"data row12 col3\" >they did know</td>\n",
       "            </tr>\n",
       "            <tr>\n",
       "                        <th id=\"T_753732ae_1aa2_11eb_a9df_8c859073a1ealevel0_row13\" class=\"row_heading level0 row13\" >248989</th>\n",
       "                        <td id=\"T_753732ae_1aa2_11eb_a9df_8c859073a1earow13_col0\" class=\"data row13 col0\" >Jeremiah 27:20</td>\n",
       "                        <td id=\"T_753732ae_1aa2_11eb_a9df_8c859073a1earow13_col1\" class=\"data row13 col1\" >כִּ֣י כֹ֤ה אָמַר֙ יְהוָ֣ה צְבָאֹ֔ות אֶל־הָֽעַמֻּדִ֔ים וְעַל־הַיָּ֖ם וְעַל־הַמְּכֹנֹ֑ות וְעַל֙ יֶ֣תֶר הַכֵּלִ֔ים הַנֹּותָרִ֖ים בָּעִ֥יר הַזֹּֽאת׃ אֲשֶׁ֣ר לֹֽא־לְקָחָ֗ם נְבֽוּכַדְנֶאצַּר֙ מֶ֣לֶךְ בָּבֶ֔ל בַּ֠גְלֹותֹו אֶת־יְכָנְיָ֨ה בֶן־יְהֹויָקִ֧ים מֶֽלֶךְ־יְהוּדָ֛ה מִירֽוּשָׁלִַ֖ם בָּבֶ֑לָה וְאֵ֛ת כָּל־חֹרֵ֥י יְהוּדָ֖ה וִירוּשָׁלִָֽם׃ ס </td>\n",
       "                        <td id=\"T_753732ae_1aa2_11eb_a9df_8c859073a1earow13_col2\" class=\"data row13 col2\" >לְקָחָ֗ם</td>\n",
       "                        <td id=\"T_753732ae_1aa2_11eb_a9df_8c859073a1earow13_col3\" class=\"data row13 col3\" >did take away</td>\n",
       "            </tr>\n",
       "            <tr>\n",
       "                        <th id=\"T_753732ae_1aa2_11eb_a9df_8c859073a1ealevel0_row14\" class=\"row_heading level0 row14\" >271928</th>\n",
       "                        <td id=\"T_753732ae_1aa2_11eb_a9df_8c859073a1earow14_col0\" class=\"data row14 col0\" >Ezekiel 16:49</td>\n",
       "                        <td id=\"T_753732ae_1aa2_11eb_a9df_8c859073a1earow14_col1\" class=\"data row14 col1\" >וְיַד־עָנִ֥י וְאֶבְיֹ֖ון לֹ֥א הֶחֱזִֽיקָה׃ </td>\n",
       "                        <td id=\"T_753732ae_1aa2_11eb_a9df_8c859073a1earow14_col2\" class=\"data row14 col2\" >הֶחֱזִֽיקָה</td>\n",
       "                        <td id=\"T_753732ae_1aa2_11eb_a9df_8c859073a1earow14_col3\" class=\"data row14 col3\" >did aid</td>\n",
       "            </tr>\n",
       "            <tr>\n",
       "                        <th id=\"T_753732ae_1aa2_11eb_a9df_8c859073a1ealevel0_row15\" class=\"row_heading level0 row15\" >313078</th>\n",
       "                        <td id=\"T_753732ae_1aa2_11eb_a9df_8c859073a1earow15_col0\" class=\"data row15 col0\" >Psalms 18:42</td>\n",
       "                        <td id=\"T_753732ae_1aa2_11eb_a9df_8c859073a1earow15_col1\" class=\"data row15 col1\" >וְלֹ֣א עָנָֽם׃ </td>\n",
       "                        <td id=\"T_753732ae_1aa2_11eb_a9df_8c859073a1earow15_col2\" class=\"data row15 col2\" >עָנָֽם</td>\n",
       "                        <td id=\"T_753732ae_1aa2_11eb_a9df_8c859073a1earow15_col3\" class=\"data row15 col3\" >he did answer</td>\n",
       "            </tr>\n",
       "            <tr>\n",
       "                        <th id=\"T_753732ae_1aa2_11eb_a9df_8c859073a1ealevel0_row16\" class=\"row_heading level0 row16\" >336792</th>\n",
       "                        <td id=\"T_753732ae_1aa2_11eb_a9df_8c859073a1earow16_col0\" class=\"data row16 col0\" >Job 2:12</td>\n",
       "                        <td id=\"T_753732ae_1aa2_11eb_a9df_8c859073a1earow16_col1\" class=\"data row16 col1\" >וְלֹ֣א הִכִּירֻ֔הוּ </td>\n",
       "                        <td id=\"T_753732ae_1aa2_11eb_a9df_8c859073a1earow16_col2\" class=\"data row16 col2\" >הִכִּירֻ֔הוּ</td>\n",
       "                        <td id=\"T_753732ae_1aa2_11eb_a9df_8c859073a1earow16_col3\" class=\"data row16 col3\" >they did recognize</td>\n",
       "            </tr>\n",
       "            <tr>\n",
       "                        <th id=\"T_753732ae_1aa2_11eb_a9df_8c859073a1ealevel0_row17\" class=\"row_heading level0 row17\" >388187</th>\n",
       "                        <td id=\"T_753732ae_1aa2_11eb_a9df_8c859073a1earow17_col0\" class=\"data row17 col0\" >Nehemiah 9:19</td>\n",
       "                        <td id=\"T_753732ae_1aa2_11eb_a9df_8c859073a1earow17_col1\" class=\"data row17 col1\" >וְאַתָּה֙ בְּרַחֲמֶ֣יךָ הָֽרַבִּ֔ים לֹ֥א עֲזַבְתָּ֖ם בַּמִּדְבָּ֑ר </td>\n",
       "                        <td id=\"T_753732ae_1aa2_11eb_a9df_8c859073a1earow17_col2\" class=\"data row17 col2\" >עֲזַבְתָּ֖ם</td>\n",
       "                        <td id=\"T_753732ae_1aa2_11eb_a9df_8c859073a1earow17_col3\" class=\"data row17 col3\" >did forsake</td>\n",
       "            </tr>\n",
       "            <tr>\n",
       "                        <th id=\"T_753732ae_1aa2_11eb_a9df_8c859073a1ealevel0_row18\" class=\"row_heading level0 row18\" >412102</th>\n",
       "                        <td id=\"T_753732ae_1aa2_11eb_a9df_8c859073a1earow18_col0\" class=\"data row18 col0\" >2_Chronicles 10:16</td>\n",
       "                        <td id=\"T_753732ae_1aa2_11eb_a9df_8c859073a1earow18_col1\" class=\"data row18 col1\" >וְכָל־יִשְׂרָאֵ֗ל כִּ֠י לֹא־שָׁמַ֣ע הַמֶּלֶךְ֮ לָהֶם֒ </td>\n",
       "                        <td id=\"T_753732ae_1aa2_11eb_a9df_8c859073a1earow18_col2\" class=\"data row18 col2\" >שָׁמַ֣ע</td>\n",
       "                        <td id=\"T_753732ae_1aa2_11eb_a9df_8c859073a1earow18_col3\" class=\"data row18 col3\" >did listen</td>\n",
       "            </tr>\n",
       "            <tr>\n",
       "                        <th id=\"T_753732ae_1aa2_11eb_a9df_8c859073a1ealevel0_row19\" class=\"row_heading level0 row19\" >426287</th>\n",
       "                        <td id=\"T_753732ae_1aa2_11eb_a9df_8c859073a1earow19_col0\" class=\"data row19 col0\" >2_Chronicles 36:12</td>\n",
       "                        <td id=\"T_753732ae_1aa2_11eb_a9df_8c859073a1earow19_col1\" class=\"data row19 col1\" >לֹ֣א נִכְנַ֗ע מִלִּפְנֵ֛י יִרְמְיָ֥הוּ הַנָּבִ֖יא מִפִּ֥י יְהוָֽה׃ </td>\n",
       "                        <td id=\"T_753732ae_1aa2_11eb_a9df_8c859073a1earow19_col2\" class=\"data row19 col2\" >נִכְנַ֗ע</td>\n",
       "                        <td id=\"T_753732ae_1aa2_11eb_a9df_8c859073a1earow19_col3\" class=\"data row19 col3\" >He did humble himself</td>\n",
       "            </tr>\n",
       "    </tbody></table>"
      ],
      "text/plain": [
       "<pandas.io.formats.style.Styler at 0x7fc5f4d72670>"
      ]
     },
     "execution_count": 13,
     "metadata": {},
     "output_type": "execute_result"
    }
   ],
   "source": [
    "do_support = qatal_df[\n",
    "    (qatal_df.esv_TAM == 'PAST.PERF.IND') & (qatal_df.esv.str.contains('did', na=False))\n",
    "]\n",
    "\n",
    "# TODO: can possibly add interrogatives such as MJ and MDW<\n",
    "\n",
    "show_text(do_support, spread=20, cols=['esv'])"
   ]
  },
  {
   "cell_type": "code",
   "execution_count": 10,
   "metadata": {},
   "outputs": [
    {
     "data": {
      "text/plain": [
       "xQt0    0.335105\n",
       "xQtX    0.192687\n",
       "WxQ0    0.104104\n",
       "WXQt    0.094456\n",
       "ZQt0    0.093197\n",
       "XQtl    0.092358\n",
       "ZQtX    0.052297\n",
       "WxQX    0.033350\n",
       "CPen    0.002167\n",
       "Voct    0.000280\n",
       "Name: clause_type, dtype: float64"
      ]
     },
     "execution_count": 10,
     "metadata": {},
     "output_type": "execute_result"
    }
   ],
   "source": [
    "prop_table(qatal_df[qatal_df.adjacent_waw == False].clause_type.value_counts())"
   ]
  },
  {
   "cell_type": "code",
   "execution_count": 11,
   "metadata": {},
   "outputs": [
    {
     "data": {
      "text/plain": [
       "WxQ0    0.384929\n",
       "xQt0    0.346232\n",
       "WxQX    0.083503\n",
       "xQtX    0.077393\n",
       "WXQt    0.077393\n",
       "XQtl    0.024440\n",
       "CPen    0.004073\n",
       "ZQt0    0.002037\n",
       "Name: clause_type, dtype: float64"
      ]
     },
     "execution_count": 11,
     "metadata": {},
     "output_type": "execute_result"
    }
   ],
   "source": [
    "prop_table(do_support.clause_type.value_counts())"
   ]
  },
  {
   "cell_type": "code",
   "execution_count": 13,
   "metadata": {},
   "outputs": [
    {
     "data": {
      "text/plain": [
       "aorist indc        391\n",
       "imperfect indc      20\n",
       "perfect indc        15\n",
       "pluperfect indc     13\n",
       "aorist ptcp         10\n",
       "present indc         7\n",
       "aorist infv          6\n",
       "aorist subj          2\n",
       "perfect ptcp         2\n",
       "present ptcp         2\n",
       "perfect infv         1\n",
       "future indc          1\n",
       "Name: lxx_tm, dtype: int64"
      ]
     },
     "execution_count": 13,
     "metadata": {},
     "output_type": "execute_result"
    }
   ],
   "source": [
    "ds_lxx = do_support.lxx_tm.value_counts()\n",
    "ds_lxx_pr = prop_table(ds_lxx)\n",
    "ds_lxx"
   ]
  },
  {
   "cell_type": "code",
   "execution_count": 14,
   "metadata": {},
   "outputs": [
    {
     "data": {
      "text/plain": [
       "aorist indc        0.831915\n",
       "imperfect indc     0.042553\n",
       "perfect indc       0.031915\n",
       "pluperfect indc    0.027660\n",
       "aorist ptcp        0.021277\n",
       "present indc       0.014894\n",
       "aorist infv        0.012766\n",
       "aorist subj        0.004255\n",
       "perfect ptcp       0.004255\n",
       "present ptcp       0.004255\n",
       "perfect infv       0.002128\n",
       "future indc        0.002128\n",
       "Name: lxx_tm, dtype: float64"
      ]
     },
     "execution_count": 14,
     "metadata": {},
     "output_type": "execute_result"
    }
   ],
   "source": [
    "ds_lxx_pr"
   ]
  },
  {
   "cell_type": "markdown",
   "metadata": {},
   "source": [
    "## c"
   ]
  },
  {
   "cell_type": "code",
   "execution_count": 11,
   "metadata": {},
   "outputs": [
    {
     "name": "stdout",
     "output_type": "stream",
     "text": [
      "showing 10 of 5624\n"
     ]
    },
    {
     "data": {
      "text/html": [
       "<style  type=\"text/css\" >\n",
       "#T_69ed9a10_193e_11eb_a4fc_8c859073a1earow0_col1,#T_69ed9a10_193e_11eb_a4fc_8c859073a1earow0_col2,#T_69ed9a10_193e_11eb_a4fc_8c859073a1earow1_col1,#T_69ed9a10_193e_11eb_a4fc_8c859073a1earow1_col2,#T_69ed9a10_193e_11eb_a4fc_8c859073a1earow2_col1,#T_69ed9a10_193e_11eb_a4fc_8c859073a1earow2_col2,#T_69ed9a10_193e_11eb_a4fc_8c859073a1earow3_col1,#T_69ed9a10_193e_11eb_a4fc_8c859073a1earow3_col2,#T_69ed9a10_193e_11eb_a4fc_8c859073a1earow4_col1,#T_69ed9a10_193e_11eb_a4fc_8c859073a1earow4_col2,#T_69ed9a10_193e_11eb_a4fc_8c859073a1earow5_col1,#T_69ed9a10_193e_11eb_a4fc_8c859073a1earow5_col2,#T_69ed9a10_193e_11eb_a4fc_8c859073a1earow6_col1,#T_69ed9a10_193e_11eb_a4fc_8c859073a1earow6_col2,#T_69ed9a10_193e_11eb_a4fc_8c859073a1earow7_col1,#T_69ed9a10_193e_11eb_a4fc_8c859073a1earow7_col2,#T_69ed9a10_193e_11eb_a4fc_8c859073a1earow8_col1,#T_69ed9a10_193e_11eb_a4fc_8c859073a1earow8_col2,#T_69ed9a10_193e_11eb_a4fc_8c859073a1earow9_col1,#T_69ed9a10_193e_11eb_a4fc_8c859073a1earow9_col2{\n",
       "            font-size: 20px;\n",
       "             font-family:  Times New Roman;\n",
       "             text-align:  right;\n",
       "             max-width:  500px;\n",
       "        }</style><table id=\"T_69ed9a10_193e_11eb_a4fc_8c859073a1ea\" ><thead>    <tr>        <th class=\"blank level0\" ></th>        <th class=\"col_heading level0 col0\" >ref</th>        <th class=\"col_heading level0 col1\" >sentence</th>        <th class=\"col_heading level0 col2\" >text_full</th>        <th class=\"col_heading level0 col3\" >esv</th>    </tr>    <tr>        <th class=\"index_name level0\" >bhsa_node</th>        <th class=\"blank\" ></th>        <th class=\"blank\" ></th>        <th class=\"blank\" ></th>        <th class=\"blank\" ></th>    </tr></thead><tbody>\n",
       "                <tr>\n",
       "                        <th id=\"T_69ed9a10_193e_11eb_a4fc_8c859073a1ealevel0_row0\" class=\"row_heading level0 row0\" >3</th>\n",
       "                        <td id=\"T_69ed9a10_193e_11eb_a4fc_8c859073a1earow0_col0\" class=\"data row0 col0\" >Genesis 1:1</td>\n",
       "                        <td id=\"T_69ed9a10_193e_11eb_a4fc_8c859073a1earow0_col1\" class=\"data row0 col1\" >בְּרֵאשִׁ֖ית בָּרָ֣א אֱלֹהִ֑ים אֵ֥ת הַשָּׁמַ֖יִם וְאֵ֥ת הָאָֽרֶץ׃ </td>\n",
       "                        <td id=\"T_69ed9a10_193e_11eb_a4fc_8c859073a1earow0_col2\" class=\"data row0 col2\" >בָּרָ֣א</td>\n",
       "                        <td id=\"T_69ed9a10_193e_11eb_a4fc_8c859073a1earow0_col3\" class=\"data row0 col3\" >created</td>\n",
       "            </tr>\n",
       "            <tr>\n",
       "                        <th id=\"T_69ed9a10_193e_11eb_a4fc_8c859073a1ealevel0_row1\" class=\"row_heading level0 row1\" >50563</th>\n",
       "                        <td id=\"T_69ed9a10_193e_11eb_a4fc_8c859073a1earow1_col0\" class=\"data row1 col0\" >Exodus 38:7</td>\n",
       "                        <td id=\"T_69ed9a10_193e_11eb_a4fc_8c859073a1earow1_col1\" class=\"data row1 col1\" >נְב֥וּב לֻחֹ֖ת עָשָׂ֥ה אֹתֹֽו׃ ס </td>\n",
       "                        <td id=\"T_69ed9a10_193e_11eb_a4fc_8c859073a1earow1_col2\" class=\"data row1 col2\" >עָשָׂ֥ה</td>\n",
       "                        <td id=\"T_69ed9a10_193e_11eb_a4fc_8c859073a1earow1_col3\" class=\"data row1 col3\" >He made</td>\n",
       "            </tr>\n",
       "            <tr>\n",
       "                        <th id=\"T_69ed9a10_193e_11eb_a4fc_8c859073a1ealevel0_row2\" class=\"row_heading level0 row2\" >114377</th>\n",
       "                        <td id=\"T_69ed9a10_193e_11eb_a4fc_8c859073a1earow2_col0\" class=\"data row2 col0\" >Joshua 3:17</td>\n",
       "                        <td id=\"T_69ed9a10_193e_11eb_a4fc_8c859073a1earow2_col1\" class=\"data row2 col1\" >וַיַּעַמְד֣וּ הַכֹּהֲנִ֡ים נֹ֠שְׂאֵי הָאָרֹ֨ון בְּרִית־יְהוָ֜ה בֶּחָֽרָבָ֛ה בְּתֹ֥וךְ הַיַּרְדֵּ֖ן הָכֵ֑ן עַ֤ד אֲשֶׁר־תַּ֨מּוּ֙ כָּל־הַגֹּ֔וי לַעֲבֹ֖ר אֶת־הַיַּרְדֵּֽן׃ </td>\n",
       "                        <td id=\"T_69ed9a10_193e_11eb_a4fc_8c859073a1earow2_col2\" class=\"data row2 col2\" >תַּ֨מּוּ֙</td>\n",
       "                        <td id=\"T_69ed9a10_193e_11eb_a4fc_8c859073a1earow2_col3\" class=\"data row2 col3\" >finished</td>\n",
       "            </tr>\n",
       "            <tr>\n",
       "                        <th id=\"T_69ed9a10_193e_11eb_a4fc_8c859073a1ealevel0_row3\" class=\"row_heading level0 row3\" >154865</th>\n",
       "                        <td id=\"T_69ed9a10_193e_11eb_a4fc_8c859073a1earow3_col0\" class=\"data row3 col0\" >1_Samuel 22:6</td>\n",
       "                        <td id=\"T_69ed9a10_193e_11eb_a4fc_8c859073a1earow3_col1\" class=\"data row3 col1\" >וַיִּשְׁמַ֣ע שָׁא֔וּל כִּ֚י נֹודַ֣ע דָּוִ֔ד וַאֲנָשִׁ֖ים אֲשֶׁ֣ר אִתֹּ֑ו </td>\n",
       "                        <td id=\"T_69ed9a10_193e_11eb_a4fc_8c859073a1earow3_col2\" class=\"data row3 col2\" >נֹודַ֣ע</td>\n",
       "                        <td id=\"T_69ed9a10_193e_11eb_a4fc_8c859073a1earow3_col3\" class=\"data row3 col3\" >was discovered</td>\n",
       "            </tr>\n",
       "            <tr>\n",
       "                        <th id=\"T_69ed9a10_193e_11eb_a4fc_8c859073a1ealevel0_row4\" class=\"row_heading level0 row4\" >190828</th>\n",
       "                        <td id=\"T_69ed9a10_193e_11eb_a4fc_8c859073a1earow4_col0\" class=\"data row4 col0\" >1_Kings 18:23</td>\n",
       "                        <td id=\"T_69ed9a10_193e_11eb_a4fc_8c859073a1earow4_col1\" class=\"data row4 col1\" >וְנָֽתַתִּי֙ עַל־הָ֣עֵצִ֔ים </td>\n",
       "                        <td id=\"T_69ed9a10_193e_11eb_a4fc_8c859073a1earow4_col2\" class=\"data row4 col2\" >נָֽתַתִּי֙</td>\n",
       "                        <td id=\"T_69ed9a10_193e_11eb_a4fc_8c859073a1earow4_col3\" class=\"data row4 col3\" >lay</td>\n",
       "            </tr>\n",
       "            <tr>\n",
       "                        <th id=\"T_69ed9a10_193e_11eb_a4fc_8c859073a1ealevel0_row5\" class=\"row_heading level0 row5\" >233627</th>\n",
       "                        <td id=\"T_69ed9a10_193e_11eb_a4fc_8c859073a1earow5_col0\" class=\"data row5 col0\" >Isaiah 63:10</td>\n",
       "                        <td id=\"T_69ed9a10_193e_11eb_a4fc_8c859073a1earow5_col1\" class=\"data row5 col1\" >וְהֵ֛מָּה מָר֥וּ </td>\n",
       "                        <td id=\"T_69ed9a10_193e_11eb_a4fc_8c859073a1earow5_col2\" class=\"data row5 col2\" >מָר֥וּ</td>\n",
       "                        <td id=\"T_69ed9a10_193e_11eb_a4fc_8c859073a1earow5_col3\" class=\"data row5 col3\" >rebelled</td>\n",
       "            </tr>\n",
       "            <tr>\n",
       "                        <th id=\"T_69ed9a10_193e_11eb_a4fc_8c859073a1ealevel0_row6\" class=\"row_heading level0 row6\" >282352</th>\n",
       "                        <td id=\"T_69ed9a10_193e_11eb_a4fc_8c859073a1earow6_col0\" class=\"data row6 col0\" >Ezekiel 35:12</td>\n",
       "                        <td id=\"T_69ed9a10_193e_11eb_a4fc_8c859073a1earow6_col1\" class=\"data row6 col1\" >שָׁמַ֣עְתִּי׀ אֶת־כָּל־נָאָֽצֹותֶ֗יךָ אֲשֶׁ֥ר אָמַ֛רְתָּ עַל־הָרֵ֥י יִשְׂרָאֵ֖ל לֵאמֹ֣ר׀ </td>\n",
       "                        <td id=\"T_69ed9a10_193e_11eb_a4fc_8c859073a1earow6_col2\" class=\"data row6 col2\" >אָמַ֛רְתָּ</td>\n",
       "                        <td id=\"T_69ed9a10_193e_11eb_a4fc_8c859073a1earow6_col3\" class=\"data row6 col3\" >you uttered</td>\n",
       "            </tr>\n",
       "            <tr>\n",
       "                        <th id=\"T_69ed9a10_193e_11eb_a4fc_8c859073a1ealevel0_row7\" class=\"row_heading level0 row7\" >342085</th>\n",
       "                        <td id=\"T_69ed9a10_193e_11eb_a4fc_8c859073a1earow7_col0\" class=\"data row7 col0\" >Job 24:16</td>\n",
       "                        <td id=\"T_69ed9a10_193e_11eb_a4fc_8c859073a1earow7_col1\" class=\"data row7 col1\" >יֹומָ֥ם חִתְּמוּ־לָ֗מֹו </td>\n",
       "                        <td id=\"T_69ed9a10_193e_11eb_a4fc_8c859073a1earow7_col2\" class=\"data row7 col2\" >חִתְּמוּ</td>\n",
       "                        <td id=\"T_69ed9a10_193e_11eb_a4fc_8c859073a1earow7_col3\" class=\"data row7 col3\" >they shut themselves up</td>\n",
       "            </tr>\n",
       "            <tr>\n",
       "                        <th id=\"T_69ed9a10_193e_11eb_a4fc_8c859073a1ealevel0_row8\" class=\"row_heading level0 row8\" >391980</th>\n",
       "                        <td id=\"T_69ed9a10_193e_11eb_a4fc_8c859073a1earow8_col0\" class=\"data row8 col0\" >1_Chronicles 2:12</td>\n",
       "                        <td id=\"T_69ed9a10_193e_11eb_a4fc_8c859073a1earow8_col1\" class=\"data row8 col1\" >וְעֹובֵ֖ד הֹולִ֥יד אֶת־יִשָֽׁי׃ </td>\n",
       "                        <td id=\"T_69ed9a10_193e_11eb_a4fc_8c859073a1earow8_col2\" class=\"data row8 col2\" >הֹולִ֥יד</td>\n",
       "                        <td id=\"T_69ed9a10_193e_11eb_a4fc_8c859073a1earow8_col3\" class=\"data row8 col3\" >fathered</td>\n",
       "            </tr>\n",
       "            <tr>\n",
       "                        <th id=\"T_69ed9a10_193e_11eb_a4fc_8c859073a1ealevel0_row9\" class=\"row_heading level0 row9\" >426528</th>\n",
       "                        <td id=\"T_69ed9a10_193e_11eb_a4fc_8c859073a1earow9_col0\" class=\"data row9 col0\" >2_Chronicles 36:22</td>\n",
       "                        <td id=\"T_69ed9a10_193e_11eb_a4fc_8c859073a1earow9_col1\" class=\"data row9 col1\" >וּבִשְׁנַ֣ת אַחַ֗ת לְכֹ֨ורֶשׁ֙ מֶ֣לֶךְ פָּרַ֔ס לִכְלֹ֥ות דְּבַר־יְהוָ֖ה בְּפִ֣י יִרְמְיָ֑הוּ הֵעִ֣יר יְהוָ֗ה אֶת־ר֨וּחַ֙ כֹּ֣ורֶשׁ מֶֽלֶךְ־פָּרַ֔ס </td>\n",
       "                        <td id=\"T_69ed9a10_193e_11eb_a4fc_8c859073a1earow9_col2\" class=\"data row9 col2\" >הֵעִ֣יר</td>\n",
       "                        <td id=\"T_69ed9a10_193e_11eb_a4fc_8c859073a1earow9_col3\" class=\"data row9 col3\" >stirred up</td>\n",
       "            </tr>\n",
       "    </tbody></table>"
      ],
      "text/plain": [
       "<pandas.io.formats.style.Styler at 0x7fc53fecd0a0>"
      ]
     },
     "execution_count": 11,
     "metadata": {},
     "output_type": "execute_result"
    }
   ],
   "source": [
    "simp_past = qatal_df[\n",
    "    (qatal_df.esv_TAM == 'PAST..IND')\n",
    "]\n",
    "\n",
    "show_text(simp_past, spread=10, cols=['esv'])"
   ]
  },
  {
   "cell_type": "code",
   "execution_count": 16,
   "metadata": {},
   "outputs": [
    {
     "data": {
      "text/plain": [
       "xQt0    0.296942\n",
       "xQtX    0.169275\n",
       "WXQt    0.140292\n",
       "WxQ0    0.106330\n",
       "XQtl    0.074502\n",
       "ZQt0    0.063478\n",
       "WQt0    0.056899\n",
       "WxQX    0.047297\n",
       "ZQtX    0.029339\n",
       "WQtX    0.013691\n",
       "CPen    0.001956\n",
       "Name: clause_type, dtype: float64"
      ]
     },
     "execution_count": 16,
     "metadata": {},
     "output_type": "execute_result"
    }
   ],
   "source": [
    "prop_table(simp_past.clause_type.value_counts())"
   ]
  },
  {
   "cell_type": "code",
   "execution_count": 17,
   "metadata": {},
   "outputs": [
    {
     "data": {
      "text/plain": [
       "xQt0    0.335105\n",
       "xQtX    0.192687\n",
       "WxQ0    0.104104\n",
       "WXQt    0.094456\n",
       "ZQt0    0.093197\n",
       "XQtl    0.092358\n",
       "ZQtX    0.052297\n",
       "WxQX    0.033350\n",
       "CPen    0.002167\n",
       "Voct    0.000280\n",
       "Name: clause_type, dtype: float64"
      ]
     },
     "execution_count": 17,
     "metadata": {},
     "output_type": "execute_result"
    }
   ],
   "source": [
    "prop_table(qatal_df[qatal_df.adjacent_waw == False].clause_type.value_counts())"
   ]
  },
  {
   "cell_type": "code",
   "execution_count": null,
   "metadata": {},
   "outputs": [],
   "source": []
  }
 ],
 "metadata": {
  "kernelspec": {
   "display_name": "Python 3",
   "language": "python",
   "name": "python3"
  },
  "language_info": {
   "codemirror_mode": {
    "name": "ipython",
    "version": 3
   },
   "file_extension": ".py",
   "mimetype": "text/x-python",
   "name": "python",
   "nbconvert_exporter": "python",
   "pygments_lexer": "ipython3",
   "version": "3.8.0"
  }
 },
 "nbformat": 4,
 "nbformat_minor": 4
}

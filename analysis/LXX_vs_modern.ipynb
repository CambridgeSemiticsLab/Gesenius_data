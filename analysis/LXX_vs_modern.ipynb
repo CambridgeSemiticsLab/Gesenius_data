{
 "cells": [
  {
   "cell_type": "markdown",
   "metadata": {},
   "source": [
    "# LXX vs Modern Translation Tendencies"
   ]
  },
  {
   "cell_type": "code",
   "execution_count": 1,
   "metadata": {},
   "outputs": [],
   "source": [
    "from my_tools import *"
   ]
  },
  {
   "cell_type": "code",
   "execution_count": 2,
   "metadata": {},
   "outputs": [
    {
     "data": {
      "text/plain": [
       "Index(['ref', 'book', 'book_super', 'canon_part', 'text_full', 'text_plain',\n",
       "       'lex', 'lex_etcbc', 'gloss', 'verb_form', 'stem', 'person', 'gender',\n",
       "       'number', 'sentence', 'genre', 'domain', 'period', 'txt_type',\n",
       "       'clause_type', 'clause_rela', 'adjacent_waw', 'mother_clause',\n",
       "       'mother_type', 'valence', 'pre_lexes', 'pre_pos', 'lxx', 'lxx_tense',\n",
       "       'lxx_voice', 'lxx_mood', 'lxx_person', 'lxx_number', 'lxx_tm',\n",
       "       'preceding_waw', 'wordsb4waw', 'esv', 'esv_tags', 'esv_VBtags',\n",
       "       'esv_verse', 'esv_tense', 'esv_aspect', 'esv_modality', 'esv_TAM',\n",
       "       'esv_TAMtag', 'esv_TAMspan', 'niv', 'niv_tags', 'niv_VBtags',\n",
       "       'niv_verse', 'niv_tense', 'niv_aspect', 'niv_modality', 'niv_TAM',\n",
       "       'niv_TAMtag', 'niv_TAMspan', 'safe'],\n",
       "      dtype='object')"
      ]
     },
     "execution_count": 2,
     "metadata": {},
     "output_type": "execute_result"
    }
   ],
   "source": [
    "qatal_dfs.columns"
   ]
  },
  {
   "cell_type": "code",
   "execution_count": 3,
   "metadata": {},
   "outputs": [
    {
     "name": "stdout",
     "output_type": "stream",
     "text": [
      "showing 10 of 1611\n"
     ]
    },
    {
     "data": {
      "text/html": [
       "<style  type=\"text/css\" >\n",
       "#T_9a8b2c5e_1df4_11eb_b0fc_acde48001122row0_col1,#T_9a8b2c5e_1df4_11eb_b0fc_acde48001122row0_col2,#T_9a8b2c5e_1df4_11eb_b0fc_acde48001122row1_col1,#T_9a8b2c5e_1df4_11eb_b0fc_acde48001122row1_col2,#T_9a8b2c5e_1df4_11eb_b0fc_acde48001122row2_col1,#T_9a8b2c5e_1df4_11eb_b0fc_acde48001122row2_col2,#T_9a8b2c5e_1df4_11eb_b0fc_acde48001122row3_col1,#T_9a8b2c5e_1df4_11eb_b0fc_acde48001122row3_col2,#T_9a8b2c5e_1df4_11eb_b0fc_acde48001122row4_col1,#T_9a8b2c5e_1df4_11eb_b0fc_acde48001122row4_col2,#T_9a8b2c5e_1df4_11eb_b0fc_acde48001122row5_col1,#T_9a8b2c5e_1df4_11eb_b0fc_acde48001122row5_col2,#T_9a8b2c5e_1df4_11eb_b0fc_acde48001122row6_col1,#T_9a8b2c5e_1df4_11eb_b0fc_acde48001122row6_col2,#T_9a8b2c5e_1df4_11eb_b0fc_acde48001122row7_col1,#T_9a8b2c5e_1df4_11eb_b0fc_acde48001122row7_col2,#T_9a8b2c5e_1df4_11eb_b0fc_acde48001122row8_col1,#T_9a8b2c5e_1df4_11eb_b0fc_acde48001122row8_col2,#T_9a8b2c5e_1df4_11eb_b0fc_acde48001122row9_col1,#T_9a8b2c5e_1df4_11eb_b0fc_acde48001122row9_col2{\n",
       "            font-size: 20px;\n",
       "             font-family:  Times New Roman;\n",
       "             text-align:  right;\n",
       "             max-width:  500px;\n",
       "        }</style><table id=\"T_9a8b2c5e_1df4_11eb_b0fc_acde48001122\" ><thead>    <tr>        <th class=\"blank level0\" ></th>        <th class=\"col_heading level0 col0\" >ref</th>        <th class=\"col_heading level0 col1\" >sentence</th>        <th class=\"col_heading level0 col2\" >text_full</th>        <th class=\"col_heading level0 col3\" >lxx</th>        <th class=\"col_heading level0 col4\" >lxx_tm</th>        <th class=\"col_heading level0 col5\" >esv</th>        <th class=\"col_heading level0 col6\" >esv_TAM</th>        <th class=\"col_heading level0 col7\" >esv_verse</th>        <th class=\"col_heading level0 col8\" >niv</th>        <th class=\"col_heading level0 col9\" >niv_TAM</th>        <th class=\"col_heading level0 col10\" >niv_verse</th>    </tr>    <tr>        <th class=\"index_name level0\" >bhsa_node</th>        <th class=\"blank\" ></th>        <th class=\"blank\" ></th>        <th class=\"blank\" ></th>        <th class=\"blank\" ></th>        <th class=\"blank\" ></th>        <th class=\"blank\" ></th>        <th class=\"blank\" ></th>        <th class=\"blank\" ></th>        <th class=\"blank\" ></th>        <th class=\"blank\" ></th>        <th class=\"blank\" ></th>    </tr></thead><tbody>\n",
       "                <tr>\n",
       "                        <th id=\"T_9a8b2c5e_1df4_11eb_b0fc_acde48001122level0_row0\" class=\"row_heading level0 row0\" >1396</th>\n",
       "                        <td id=\"T_9a8b2c5e_1df4_11eb_b0fc_acde48001122row0_col0\" class=\"data row0 col0\" >Genesis 3:12</td>\n",
       "                        <td id=\"T_9a8b2c5e_1df4_11eb_b0fc_acde48001122row0_col1\" class=\"data row0 col1\" >הָֽאִשָּׁה֙ אֲשֶׁ֣ר נָתַ֣תָּה עִמָּדִ֔י הִ֛וא נָֽתְנָה־לִּ֥י מִן־הָעֵ֖ץ וָאֹכֵֽל׃ </td>\n",
       "                        <td id=\"T_9a8b2c5e_1df4_11eb_b0fc_acde48001122row0_col2\" class=\"data row0 col2\" >נָתַ֣תָּה</td>\n",
       "                        <td id=\"T_9a8b2c5e_1df4_11eb_b0fc_acde48001122row0_col3\" class=\"data row0 col3\" >ἔδωκας</td>\n",
       "                        <td id=\"T_9a8b2c5e_1df4_11eb_b0fc_acde48001122row0_col4\" class=\"data row0 col4\" >aorist indc</td>\n",
       "                        <td id=\"T_9a8b2c5e_1df4_11eb_b0fc_acde48001122row0_col5\" class=\"data row0 col5\" >you gave</td>\n",
       "                        <td id=\"T_9a8b2c5e_1df4_11eb_b0fc_acde48001122row0_col6\" class=\"data row0 col6\" >PAST..IND</td>\n",
       "                        <td id=\"T_9a8b2c5e_1df4_11eb_b0fc_acde48001122row0_col7\" class=\"data row0 col7\" >The man said , “ The woman whom you gave to be with me , she gave me fruit of the tree , and I ate . ”</td>\n",
       "                        <td id=\"T_9a8b2c5e_1df4_11eb_b0fc_acde48001122row0_col8\" class=\"data row0 col8\" >put</td>\n",
       "                        <td id=\"T_9a8b2c5e_1df4_11eb_b0fc_acde48001122row0_col9\" class=\"data row0 col9\" >PRES..IND</td>\n",
       "                        <td id=\"T_9a8b2c5e_1df4_11eb_b0fc_acde48001122row0_col10\" class=\"data row0 col10\" >The man said , “ The woman you put here with me — she gave me some fruit from the tree , and I ate it . ”</td>\n",
       "            </tr>\n",
       "            <tr>\n",
       "                        <th id=\"T_9a8b2c5e_1df4_11eb_b0fc_acde48001122level0_row1\" class=\"row_heading level0 row1\" >213052</th>\n",
       "                        <td id=\"T_9a8b2c5e_1df4_11eb_b0fc_acde48001122row1_col0\" class=\"data row1 col0\" >Isaiah 3:9</td>\n",
       "                        <td id=\"T_9a8b2c5e_1df4_11eb_b0fc_acde48001122row1_col1\" class=\"data row1 col1\" >הַכָּרַ֤ת פְּנֵיהֶם֙ עָ֣נְתָה בָּ֔ם </td>\n",
       "                        <td id=\"T_9a8b2c5e_1df4_11eb_b0fc_acde48001122row1_col2\" class=\"data row1 col2\" >עָ֣נְתָה</td>\n",
       "                        <td id=\"T_9a8b2c5e_1df4_11eb_b0fc_acde48001122row1_col3\" class=\"data row1 col3\" >ἀντέστη</td>\n",
       "                        <td id=\"T_9a8b2c5e_1df4_11eb_b0fc_acde48001122row1_col4\" class=\"data row1 col4\" >aorist indc</td>\n",
       "                        <td id=\"T_9a8b2c5e_1df4_11eb_b0fc_acde48001122row1_col5\" class=\"data row1 col5\" >bears witness</td>\n",
       "                        <td id=\"T_9a8b2c5e_1df4_11eb_b0fc_acde48001122row1_col6\" class=\"data row1 col6\" >PRES..IND</td>\n",
       "                        <td id=\"T_9a8b2c5e_1df4_11eb_b0fc_acde48001122row1_col7\" class=\"data row1 col7\" >For the look on their faces bears witness against them ; they proclaim their sin like Sodom ; they do not hide it . Woe to them ! For they have brought evil on themselves .</td>\n",
       "                        <td id=\"T_9a8b2c5e_1df4_11eb_b0fc_acde48001122row1_col8\" class=\"data row1 col8\" >testifies</td>\n",
       "                        <td id=\"T_9a8b2c5e_1df4_11eb_b0fc_acde48001122row1_col9\" class=\"data row1 col9\" >PRES..IND</td>\n",
       "                        <td id=\"T_9a8b2c5e_1df4_11eb_b0fc_acde48001122row1_col10\" class=\"data row1 col10\" >The look on their faces testifies against them ; they parade their sin like Sodom ; they do not hide it . Woe to them ! They have brought disaster upon themselves .</td>\n",
       "            </tr>\n",
       "            <tr>\n",
       "                        <th id=\"T_9a8b2c5e_1df4_11eb_b0fc_acde48001122level0_row2\" class=\"row_heading level0 row2\" >236461</th>\n",
       "                        <td id=\"T_9a8b2c5e_1df4_11eb_b0fc_acde48001122row2_col0\" class=\"data row2 col0\" >Jeremiah 3:21</td>\n",
       "                        <td id=\"T_9a8b2c5e_1df4_11eb_b0fc_acde48001122row2_col1\" class=\"data row2 col1\" >קֹ֚ול עַל־שְׁפָיִ֣ים נִשְׁמָ֔ע בְּכִ֥י תַחֲנוּנֵ֖י בְּנֵ֣י יִשְׂרָאֵ֑ל </td>\n",
       "                        <td id=\"T_9a8b2c5e_1df4_11eb_b0fc_acde48001122row2_col2\" class=\"data row2 col2\" >נִשְׁמָ֔ע</td>\n",
       "                        <td id=\"T_9a8b2c5e_1df4_11eb_b0fc_acde48001122row2_col3\" class=\"data row2 col3\" >ἠκούσθη</td>\n",
       "                        <td id=\"T_9a8b2c5e_1df4_11eb_b0fc_acde48001122row2_col4\" class=\"data row2 col4\" >aorist indc</td>\n",
       "                        <td id=\"T_9a8b2c5e_1df4_11eb_b0fc_acde48001122row2_col5\" class=\"data row2 col5\" >is heard</td>\n",
       "                        <td id=\"T_9a8b2c5e_1df4_11eb_b0fc_acde48001122row2_col6\" class=\"data row2 col6\" >PRES..IND</td>\n",
       "                        <td id=\"T_9a8b2c5e_1df4_11eb_b0fc_acde48001122row2_col7\" class=\"data row2 col7\" >A voice on the bare heights is heard , the weeping and pleading of Israel’s sons because they have perverted their way ; they have forgotten the Lord their God .</td>\n",
       "                        <td id=\"T_9a8b2c5e_1df4_11eb_b0fc_acde48001122row2_col8\" class=\"data row2 col8\" >is heard</td>\n",
       "                        <td id=\"T_9a8b2c5e_1df4_11eb_b0fc_acde48001122row2_col9\" class=\"data row2 col9\" >PRES..IND</td>\n",
       "                        <td id=\"T_9a8b2c5e_1df4_11eb_b0fc_acde48001122row2_col10\" class=\"data row2 col10\" >A cry is heard on the barren heights , the weeping and pleading of the people of Israel , because they have perverted their ways and have forgotten the LORD their God .</td>\n",
       "            </tr>\n",
       "            <tr>\n",
       "                        <th id=\"T_9a8b2c5e_1df4_11eb_b0fc_acde48001122level0_row3\" class=\"row_heading level0 row3\" >254999</th>\n",
       "                        <td id=\"T_9a8b2c5e_1df4_11eb_b0fc_acde48001122row3_col0\" class=\"data row3 col0\" >Jeremiah 36:30</td>\n",
       "                        <td id=\"T_9a8b2c5e_1df4_11eb_b0fc_acde48001122row3_col1\" class=\"data row3 col1\" >כֹּֽה־אָמַ֣ר יְהוָ֗ה עַל־יְהֹֽויָקִים֙ מֶ֣לֶךְ יְהוּדָ֔ה </td>\n",
       "                        <td id=\"T_9a8b2c5e_1df4_11eb_b0fc_acde48001122row3_col2\" class=\"data row3 col2\" >אָמַ֣ר</td>\n",
       "                        <td id=\"T_9a8b2c5e_1df4_11eb_b0fc_acde48001122row3_col3\" class=\"data row3 col3\" >εἶπεν</td>\n",
       "                        <td id=\"T_9a8b2c5e_1df4_11eb_b0fc_acde48001122row3_col4\" class=\"data row3 col4\" >aorist indc</td>\n",
       "                        <td id=\"T_9a8b2c5e_1df4_11eb_b0fc_acde48001122row3_col5\" class=\"data row3 col5\" >says</td>\n",
       "                        <td id=\"T_9a8b2c5e_1df4_11eb_b0fc_acde48001122row3_col6\" class=\"data row3 col6\" >PRES..IND</td>\n",
       "                        <td id=\"T_9a8b2c5e_1df4_11eb_b0fc_acde48001122row3_col7\" class=\"data row3 col7\" >Therefore thus says the Lord concerning Jehoiakim king of Judah : He shall have none to sit on the throne of David , and his dead body shall be cast out to the heat by day and the frost by night .</td>\n",
       "                        <td id=\"T_9a8b2c5e_1df4_11eb_b0fc_acde48001122row3_col8\" class=\"data row3 col8\" >says</td>\n",
       "                        <td id=\"T_9a8b2c5e_1df4_11eb_b0fc_acde48001122row3_col9\" class=\"data row3 col9\" >PRES..IND</td>\n",
       "                        <td id=\"T_9a8b2c5e_1df4_11eb_b0fc_acde48001122row3_col10\" class=\"data row3 col10\" >Therefore , this is what the LORD says about Jehoiakim king of Judah : He will have no-one to sit on the throne of David ; his body will be thrown out and exposed to the heat by day and the frost by night .</td>\n",
       "            </tr>\n",
       "            <tr>\n",
       "                        <th id=\"T_9a8b2c5e_1df4_11eb_b0fc_acde48001122level0_row4\" class=\"row_heading level0 row4\" >292346</th>\n",
       "                        <td id=\"T_9a8b2c5e_1df4_11eb_b0fc_acde48001122row4_col0\" class=\"data row4 col0\" >Hosea 6:9</td>\n",
       "                        <td id=\"T_9a8b2c5e_1df4_11eb_b0fc_acde48001122row4_col1\" class=\"data row4 col1\" >כִּ֥י זִמָּ֖ה עָשֽׂוּ׃ </td>\n",
       "                        <td id=\"T_9a8b2c5e_1df4_11eb_b0fc_acde48001122row4_col2\" class=\"data row4 col2\" >עָשֽׂוּ</td>\n",
       "                        <td id=\"T_9a8b2c5e_1df4_11eb_b0fc_acde48001122row4_col3\" class=\"data row4 col3\" >ἐποίησαν</td>\n",
       "                        <td id=\"T_9a8b2c5e_1df4_11eb_b0fc_acde48001122row4_col4\" class=\"data row4 col4\" >aorist indc</td>\n",
       "                        <td id=\"T_9a8b2c5e_1df4_11eb_b0fc_acde48001122row4_col5\" class=\"data row4 col5\" >they commit</td>\n",
       "                        <td id=\"T_9a8b2c5e_1df4_11eb_b0fc_acde48001122row4_col6\" class=\"data row4 col6\" >PRES..IND</td>\n",
       "                        <td id=\"T_9a8b2c5e_1df4_11eb_b0fc_acde48001122row4_col7\" class=\"data row4 col7\" >As robbers lie in wait for a man , so the priests band together ; they murder on the way to Shechem ; they commit villainy .</td>\n",
       "                        <td id=\"T_9a8b2c5e_1df4_11eb_b0fc_acde48001122row4_col8\" class=\"data row4 col8\" >committing</td>\n",
       "                        <td id=\"T_9a8b2c5e_1df4_11eb_b0fc_acde48001122row4_col9\" class=\"data row4 col9\" >PRES..</td>\n",
       "                        <td id=\"T_9a8b2c5e_1df4_11eb_b0fc_acde48001122row4_col10\" class=\"data row4 col10\" >As marauders lie in ambush for a man , so do bands of priests ; they murder on the road to Shechem , committing shameful crimes .</td>\n",
       "            </tr>\n",
       "            <tr>\n",
       "                        <th id=\"T_9a8b2c5e_1df4_11eb_b0fc_acde48001122level0_row5\" class=\"row_heading level0 row5\" >313695</th>\n",
       "                        <td id=\"T_9a8b2c5e_1df4_11eb_b0fc_acde48001122row5_col0\" class=\"data row5 col0\" >Psalms 22:15</td>\n",
       "                        <td id=\"T_9a8b2c5e_1df4_11eb_b0fc_acde48001122row5_col1\" class=\"data row5 col1\" >כַּמַּ֥יִם נִשְׁפַּכְתִּי֮ </td>\n",
       "                        <td id=\"T_9a8b2c5e_1df4_11eb_b0fc_acde48001122row5_col2\" class=\"data row5 col2\" >נִשְׁפַּכְתִּי֮</td>\n",
       "                        <td id=\"T_9a8b2c5e_1df4_11eb_b0fc_acde48001122row5_col3\" class=\"data row5 col3\" >ἐξεχύθην</td>\n",
       "                        <td id=\"T_9a8b2c5e_1df4_11eb_b0fc_acde48001122row5_col4\" class=\"data row5 col4\" >aorist indc</td>\n",
       "                        <td id=\"T_9a8b2c5e_1df4_11eb_b0fc_acde48001122row5_col5\" class=\"data row5 col5\" >I am poured out</td>\n",
       "                        <td id=\"T_9a8b2c5e_1df4_11eb_b0fc_acde48001122row5_col6\" class=\"data row5 col6\" >PRES..IND</td>\n",
       "                        <td id=\"T_9a8b2c5e_1df4_11eb_b0fc_acde48001122row5_col7\" class=\"data row5 col7\" >I am poured out like water , and all my bones are out of joint ; my heart is like wax ; it is melted within my breast ;</td>\n",
       "                        <td id=\"T_9a8b2c5e_1df4_11eb_b0fc_acde48001122row5_col8\" class=\"data row5 col8\" >I am poured out</td>\n",
       "                        <td id=\"T_9a8b2c5e_1df4_11eb_b0fc_acde48001122row5_col9\" class=\"data row5 col9\" >PRES..IND</td>\n",
       "                        <td id=\"T_9a8b2c5e_1df4_11eb_b0fc_acde48001122row5_col10\" class=\"data row5 col10\" >I am poured out like water , and all my bones are out of joint . My heart has turned to wax ; it has melted away within me .</td>\n",
       "            </tr>\n",
       "            <tr>\n",
       "                        <th id=\"T_9a8b2c5e_1df4_11eb_b0fc_acde48001122level0_row6\" class=\"row_heading level0 row6\" >322619</th>\n",
       "                        <td id=\"T_9a8b2c5e_1df4_11eb_b0fc_acde48001122row6_col0\" class=\"data row6 col0\" >Psalms 73:11</td>\n",
       "                        <td id=\"T_9a8b2c5e_1df4_11eb_b0fc_acde48001122row6_col1\" class=\"data row6 col1\" >לָכֵ֤ן׀ יָשׁ֣וּב עַמֹּ֣ו הֲלֹ֑ם וּמֵ֥י מָ֝לֵ֗א יִמָּ֥צוּ לָֽמֹו׃ וְֽאָמְר֗וּ </td>\n",
       "                        <td id=\"T_9a8b2c5e_1df4_11eb_b0fc_acde48001122row6_col2\" class=\"data row6 col2\" >אָמְר֗וּ</td>\n",
       "                        <td id=\"T_9a8b2c5e_1df4_11eb_b0fc_acde48001122row6_col3\" class=\"data row6 col3\" >εἶπαν</td>\n",
       "                        <td id=\"T_9a8b2c5e_1df4_11eb_b0fc_acde48001122row6_col4\" class=\"data row6 col4\" >aorist indc</td>\n",
       "                        <td id=\"T_9a8b2c5e_1df4_11eb_b0fc_acde48001122row6_col5\" class=\"data row6 col5\" >they say</td>\n",
       "                        <td id=\"T_9a8b2c5e_1df4_11eb_b0fc_acde48001122row6_col6\" class=\"data row6 col6\" >PRES..IND</td>\n",
       "                        <td id=\"T_9a8b2c5e_1df4_11eb_b0fc_acde48001122row6_col7\" class=\"data row6 col7\" >And they say , “ How can God know ? Is there knowledge in the Most High ? ”</td>\n",
       "                        <td id=\"T_9a8b2c5e_1df4_11eb_b0fc_acde48001122row6_col8\" class=\"data row6 col8\" >They say</td>\n",
       "                        <td id=\"T_9a8b2c5e_1df4_11eb_b0fc_acde48001122row6_col9\" class=\"data row6 col9\" >PRES..IND</td>\n",
       "                        <td id=\"T_9a8b2c5e_1df4_11eb_b0fc_acde48001122row6_col10\" class=\"data row6 col10\" >They say , “ How can God know ? Does the Most High have knowledge ? ”</td>\n",
       "            </tr>\n",
       "            <tr>\n",
       "                        <th id=\"T_9a8b2c5e_1df4_11eb_b0fc_acde48001122level0_row7\" class=\"row_heading level0 row7\" >332437</th>\n",
       "                        <td id=\"T_9a8b2c5e_1df4_11eb_b0fc_acde48001122row7_col0\" class=\"data row7 col0\" >Psalms 119:147</td>\n",
       "                        <td id=\"T_9a8b2c5e_1df4_11eb_b0fc_acde48001122row7_col1\" class=\"data row7 col1\" >לִדְבָרְךָ֥ יִחָֽלְתִּי׃ </td>\n",
       "                        <td id=\"T_9a8b2c5e_1df4_11eb_b0fc_acde48001122row7_col2\" class=\"data row7 col2\" >יִחָֽלְתִּי</td>\n",
       "                        <td id=\"T_9a8b2c5e_1df4_11eb_b0fc_acde48001122row7_col3\" class=\"data row7 col3\" >ἐπήλπισα</td>\n",
       "                        <td id=\"T_9a8b2c5e_1df4_11eb_b0fc_acde48001122row7_col4\" class=\"data row7 col4\" >aorist indc</td>\n",
       "                        <td id=\"T_9a8b2c5e_1df4_11eb_b0fc_acde48001122row7_col5\" class=\"data row7 col5\" >I hope</td>\n",
       "                        <td id=\"T_9a8b2c5e_1df4_11eb_b0fc_acde48001122row7_col6\" class=\"data row7 col6\" >PRES..IND</td>\n",
       "                        <td id=\"T_9a8b2c5e_1df4_11eb_b0fc_acde48001122row7_col7\" class=\"data row7 col7\" >I rise before dawn and cry for help ; I hope in your words .</td>\n",
       "                        <td id=\"T_9a8b2c5e_1df4_11eb_b0fc_acde48001122row7_col8\" class=\"data row7 col8\" >I have put my hope</td>\n",
       "                        <td id=\"T_9a8b2c5e_1df4_11eb_b0fc_acde48001122row7_col9\" class=\"data row7 col9\" >PRES.PERF.IND</td>\n",
       "                        <td id=\"T_9a8b2c5e_1df4_11eb_b0fc_acde48001122row7_col10\" class=\"data row7 col10\" >I rise before dawn and cry for help ; I have put my hope in your word .</td>\n",
       "            </tr>\n",
       "            <tr>\n",
       "                        <th id=\"T_9a8b2c5e_1df4_11eb_b0fc_acde48001122level0_row8\" class=\"row_heading level0 row8\" >347560</th>\n",
       "                        <td id=\"T_9a8b2c5e_1df4_11eb_b0fc_acde48001122row8_col0\" class=\"data row8 col0\" >Proverbs 3:13</td>\n",
       "                        <td id=\"T_9a8b2c5e_1df4_11eb_b0fc_acde48001122row8_col1\" class=\"data row8 col1\" >אַשְׁרֵ֣י אָ֭דָם מָצָ֣א חָכְמָ֑ה וְ֝אָדָ֗ם יָפִ֥יק תְּבוּנָֽה׃ </td>\n",
       "                        <td id=\"T_9a8b2c5e_1df4_11eb_b0fc_acde48001122row8_col2\" class=\"data row8 col2\" >מָצָ֣א</td>\n",
       "                        <td id=\"T_9a8b2c5e_1df4_11eb_b0fc_acde48001122row8_col3\" class=\"data row8 col3\" >εὗρεν</td>\n",
       "                        <td id=\"T_9a8b2c5e_1df4_11eb_b0fc_acde48001122row8_col4\" class=\"data row8 col4\" >aorist indc</td>\n",
       "                        <td id=\"T_9a8b2c5e_1df4_11eb_b0fc_acde48001122row8_col5\" class=\"data row8 col5\" >finds</td>\n",
       "                        <td id=\"T_9a8b2c5e_1df4_11eb_b0fc_acde48001122row8_col6\" class=\"data row8 col6\" >PRES..IND</td>\n",
       "                        <td id=\"T_9a8b2c5e_1df4_11eb_b0fc_acde48001122row8_col7\" class=\"data row8 col7\" >Blessed is the one who finds wisdom , and the one who gets understanding ,</td>\n",
       "                        <td id=\"T_9a8b2c5e_1df4_11eb_b0fc_acde48001122row8_col8\" class=\"data row8 col8\" >finds</td>\n",
       "                        <td id=\"T_9a8b2c5e_1df4_11eb_b0fc_acde48001122row8_col9\" class=\"data row8 col9\" >PRES..IND</td>\n",
       "                        <td id=\"T_9a8b2c5e_1df4_11eb_b0fc_acde48001122row8_col10\" class=\"data row8 col10\" >Blessed is the man who finds wisdom , the man who gains understanding ,</td>\n",
       "            </tr>\n",
       "            <tr>\n",
       "                        <th id=\"T_9a8b2c5e_1df4_11eb_b0fc_acde48001122level0_row9\" class=\"row_heading level0 row9\" >425975</th>\n",
       "                        <td id=\"T_9a8b2c5e_1df4_11eb_b0fc_acde48001122row9_col0\" class=\"data row9 col0\" >2_Chronicles 35:23</td>\n",
       "                        <td id=\"T_9a8b2c5e_1df4_11eb_b0fc_acde48001122row9_col1\" class=\"data row9 col1\" >כִּ֥י הָחֳלֵ֖יתִי מְאֹֽד׃ </td>\n",
       "                        <td id=\"T_9a8b2c5e_1df4_11eb_b0fc_acde48001122row9_col2\" class=\"data row9 col2\" >הָחֳלֵ֖יתִי</td>\n",
       "                        <td id=\"T_9a8b2c5e_1df4_11eb_b0fc_acde48001122row9_col3\" class=\"data row9 col3\" >ἐπόνεσα</td>\n",
       "                        <td id=\"T_9a8b2c5e_1df4_11eb_b0fc_acde48001122row9_col4\" class=\"data row9 col4\" >aorist indc</td>\n",
       "                        <td id=\"T_9a8b2c5e_1df4_11eb_b0fc_acde48001122row9_col5\" class=\"data row9 col5\" >I am wounded</td>\n",
       "                        <td id=\"T_9a8b2c5e_1df4_11eb_b0fc_acde48001122row9_col6\" class=\"data row9 col6\" >PRES..IND</td>\n",
       "                        <td id=\"T_9a8b2c5e_1df4_11eb_b0fc_acde48001122row9_col7\" class=\"data row9 col7\" >And the archers shot King Josiah . And the king said to his servants , “ Take me away , for I am badly wounded . ”</td>\n",
       "                        <td id=\"T_9a8b2c5e_1df4_11eb_b0fc_acde48001122row9_col8\" class=\"data row9 col8\" >I am wounded</td>\n",
       "                        <td id=\"T_9a8b2c5e_1df4_11eb_b0fc_acde48001122row9_col9\" class=\"data row9 col9\" >PRES..IND</td>\n",
       "                        <td id=\"T_9a8b2c5e_1df4_11eb_b0fc_acde48001122row9_col10\" class=\"data row9 col10\" >Archers shot King Josiah , and he told his officers , “ Take me away ; I am badly wounded . ”</td>\n",
       "            </tr>\n",
       "    </tbody></table>"
      ],
      "text/plain": [
       "<pandas.io.formats.style.Styler at 0x7f9589dd91f0>"
      ]
     },
     "execution_count": 3,
     "metadata": {},
     "output_type": "execute_result"
    }
   ],
   "source": [
    "present_disagree = qatal_dfs[\n",
    "    (\n",
    "        (qatal_dfs.niv_TAM.isin(['PRES..IND']))\n",
    "        | (qatal_dfs.esv_TAM.isin(['PRES..IND']))\n",
    "    )\n",
    "    & (qatal_dfs.lxx_tm == 'aorist indc')\n",
    "]\n",
    "\n",
    "cols = ['ref', 'sentence', 'text_full', 'lxx', 'lxx_tm', 'esv', 'esv_TAM', 'esv_verse', 'niv', 'niv_TAM', 'niv_verse']\n",
    "\n",
    "show_text(present_disagree, col_default=cols, spread=10)"
   ]
  },
  {
   "cell_type": "code",
   "execution_count": 4,
   "metadata": {},
   "outputs": [],
   "source": [
    "present_disagree[cols].to_csv('spreadsheets/present_disagree.csv')"
   ]
  },
  {
   "cell_type": "code",
   "execution_count": null,
   "metadata": {},
   "outputs": [],
   "source": []
  }
 ],
 "metadata": {
  "kernelspec": {
   "display_name": "Python 3",
   "language": "python",
   "name": "python3"
  },
  "language_info": {
   "codemirror_mode": {
    "name": "ipython",
    "version": 3
   },
   "file_extension": ".py",
   "mimetype": "text/x-python",
   "name": "python",
   "nbconvert_exporter": "python",
   "pygments_lexer": "ipython3",
   "version": "3.8.0"
  }
 },
 "nbformat": 4,
 "nbformat_minor": 4
}

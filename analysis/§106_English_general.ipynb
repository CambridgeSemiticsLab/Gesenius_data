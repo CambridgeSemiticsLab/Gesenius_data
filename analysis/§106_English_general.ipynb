{
 "cells": [
  {
   "cell_type": "markdown",
   "metadata": {},
   "source": [
    "# §106. English Qatal Translation Overview"
   ]
  },
  {
   "cell_type": "markdown",
   "metadata": {},
   "source": [
    "The dataset is as many qatal verbs that:\n",
    "\n",
    "* do not have a prepended waw\n",
    "* we have a successful link between the Hebrew word and the translation\n",
    "* the parse is not erroneous or spurious (filtered out bad cases)\n",
    "    \n",
    "In this NB, \"pr\" refers to proportions taken across rows (percentages when multiplied by 100).\n",
    "\n",
    "\"oneN\" refers to odds, read as \"one in N\"\n",
    "\n",
    "Various tags are used to refer to English Tense, Aspect, Modality construtions (TAM)."
   ]
  },
  {
   "cell_type": "code",
   "execution_count": 94,
   "metadata": {},
   "outputs": [],
   "source": [
    "# set up code and variables, see my_tools.py for unseen vars\n",
    "\n",
    "from my_tools import *\n",
    "\n",
    "ts = TextShower(\n",
    "    default=['ref', 'text_full', 'sentence', \n",
    "             'esv_TAMspan', 'esv_TAM', \n",
    "             'niv_TAMspan', 'niv_TAM']\n",
    ")\n",
    "\n",
    "main_genre = ['prose', 'poetry', 'prophetic']\n",
    "main_dom = ['Q', 'N']"
   ]
  },
  {
   "cell_type": "code",
   "execution_count": 2,
   "metadata": {},
   "outputs": [
    {
     "data": {
      "text/plain": [
       "Index(['ref', 'book', 'book_super', 'canon_part', 'text_full', 'text_plain',\n",
       "       'lex', 'lex_etcbc', 'gloss', 'verb_form', 'stem', 'person', 'gender',\n",
       "       'number', 'clause_atom', 'clause', 'sentence', 'genre', 'domain',\n",
       "       'domain2', 'period', 'txt_type', 'clause_type', 'cltype_simp',\n",
       "       'clause_rela', 'mother_clause', 'mother_type', 'mother_verbtype',\n",
       "       'mother_rela', 'mother_domain2', 'daught_clause', 'daught_type',\n",
       "       'daught_verbtype', 'daught_rela', 'daught_domain2', 'valence',\n",
       "       'prec_lexes', 'prec_pos', 'prec_part', 'lxx', 'lxx_tense', 'lxx_voice',\n",
       "       'lxx_mood', 'lxx_person', 'lxx_number', 'lxx_tm', 'esv', 'esv_tags',\n",
       "       'esv_VBtags', 'esv_verse', 'esv_tense', 'esv_aspect', 'esv_modality',\n",
       "       'esv_TAM', 'esv_TAMtag', 'esv_TAMspan', 'niv', 'niv_tags', 'niv_VBtags',\n",
       "       'niv_verse', 'niv_tense', 'niv_aspect', 'niv_modality', 'niv_TAM',\n",
       "       'niv_TAMtag', 'niv_TAMspan', 'safe'],\n",
       "      dtype='object')"
      ]
     },
     "execution_count": 2,
     "metadata": {},
     "output_type": "execute_result"
    }
   ],
   "source": [
    "qatal_dfs.columns"
   ]
  },
  {
   "cell_type": "markdown",
   "metadata": {},
   "source": [
    "## Rough sense of TAM tag quantities"
   ]
  },
  {
   "cell_type": "code",
   "execution_count": 3,
   "metadata": {},
   "outputs": [
    {
     "data": {
      "text/plain": [
       "PAST..IND             5203\n",
       "PRES.PERF.IND         3432\n",
       "PRES..IND             2632\n",
       "PAST.PERF.IND         1420\n",
       "PRES..IMPV             240\n",
       "PRES..MOD              138\n",
       "PAST..SUBJ              97\n",
       "FUT..IND                90\n",
       "PRES..                  76\n",
       "PAST.PROG.IND           28\n",
       "PRES.PROG.IND           20\n",
       "..                      14\n",
       "PRES.PERF_PROG.IND       5\n",
       "FUT.PERF.IND             4\n",
       "past.PERF_PROG.IND       2\n",
       "Name: esv_TAM, dtype: int64"
      ]
     },
     "execution_count": 3,
     "metadata": {},
     "output_type": "execute_result"
    }
   ],
   "source": [
    "qatal_dfs.esv_TAM.value_counts()"
   ]
  },
  {
   "cell_type": "code",
   "execution_count": 4,
   "metadata": {},
   "outputs": [
    {
     "data": {
      "text/plain": [
       "PAST..IND             4994\n",
       "PRES.PERF.IND         2753\n",
       "PRES..IND             2662\n",
       "PAST.PERF.IND         1472\n",
       "FUT..IND               352\n",
       "PRES..IMPV             244\n",
       "PRES..                 145\n",
       "PRES..MOD              115\n",
       "PAST..SUBJ              91\n",
       "PRES.PROG.IND           74\n",
       "..                      54\n",
       "PAST.PROG.IND           49\n",
       "past.PERF_PROG.IND       9\n",
       "PRES.PERF_PROG.IND       8\n",
       "FUT.PERF.IND             3\n",
       "FUT..MOD                 3\n",
       "Name: niv_TAM, dtype: int64"
      ]
     },
     "execution_count": 4,
     "metadata": {},
     "output_type": "execute_result"
    }
   ],
   "source": [
    "qatal_dfs.niv_TAM.value_counts()"
   ]
  },
  {
   "cell_type": "markdown",
   "metadata": {},
   "source": [
    "Some of these are either very rare or spurious (e.g. PRES..IMPV [imperative]; caused by \n",
    "shortcomings in the English parser)"
   ]
  },
  {
   "cell_type": "markdown",
   "metadata": {},
   "source": [
    "## Setup Translation Data"
   ]
  },
  {
   "cell_type": "markdown",
   "metadata": {},
   "source": [
    "Filter out spurious or rare data."
   ]
  },
  {
   "cell_type": "code",
   "execution_count": 129,
   "metadata": {},
   "outputs": [],
   "source": [
    "# based on above counts, we want to\n",
    "# for the moment exclude idiosyncratic translations\n",
    "# especially translations that might actually be \n",
    "# bad parses\n",
    "\n",
    "main_semantics = [\n",
    "    'PAST..IND',     # she wrote\n",
    "    'PRES.PERF.IND', # he has written\n",
    "    'PRES..IND',     # she writes\n",
    "    'PAST.PERF.IND', # she had written\n",
    "]\n",
    "\n",
    "# remove cases of 'did not' for now since these are semantically ambiguous\n",
    "qatal_dfs2 = qatal_dfs[\n",
    "    (~qatal_dfs.esv_TAMspan.str.match('.*did not.*', na=False))\n",
    "    & (~qatal_dfs.niv_TAMspan.str.match('.*did not.*', na=False))\n",
    "]\n",
    "\n",
    "\n",
    "# make a set of dfs with respective data and prerequisites\n",
    "esv_df = qatal_dfs2[qatal_dfs2.esv_TAM.isin(main_semantics)]\n",
    "niv_df = qatal_dfs2[qatal_dfs2.niv_TAM.isin(main_semantics)]\n",
    "eng_df = qatal_dfs2.loc[list(set(esv_df.index) & set(niv_df.index))] # both parses are in main semantics\n",
    "\n",
    "# add a column for counting agreement/disagreement by translation\n",
    "eng_df['disagree'] = 1*(eng_df.esv_TAM != eng_df.niv_TAM)"
   ]
  },
  {
   "cell_type": "code",
   "execution_count": 6,
   "metadata": {},
   "outputs": [
    {
     "data": {
      "text/plain": [
       "(12213, 67)"
      ]
     },
     "execution_count": 6,
     "metadata": {},
     "output_type": "execute_result"
    }
   ],
   "source": [
    "esv_df.shape # i.e. dimensions of the new tables"
   ]
  },
  {
   "cell_type": "code",
   "execution_count": 7,
   "metadata": {},
   "outputs": [
    {
     "data": {
      "text/plain": [
       "(11446, 67)"
      ]
     },
     "execution_count": 7,
     "metadata": {},
     "output_type": "execute_result"
    }
   ],
   "source": [
    "niv_df.shape"
   ]
  },
  {
   "cell_type": "code",
   "execution_count": 8,
   "metadata": {},
   "outputs": [
    {
     "data": {
      "text/plain": [
       "(10991, 67)"
      ]
     },
     "execution_count": 8,
     "metadata": {},
     "output_type": "execute_result"
    }
   ],
   "source": [
    "eng_df.shape"
   ]
  },
  {
   "cell_type": "code",
   "execution_count": 149,
   "metadata": {},
   "outputs": [
    {
     "data": {
      "text/plain": [
       "0    9314\n",
       "1    1677\n",
       "Name: disagree, dtype: int64"
      ]
     },
     "execution_count": 149,
     "metadata": {},
     "output_type": "execute_result"
    }
   ],
   "source": [
    "eng_df['disagree'].value_counts()"
   ]
  },
  {
   "cell_type": "markdown",
   "metadata": {},
   "source": [
    "## General Counts by Translation"
   ]
  },
  {
   "cell_type": "code",
   "execution_count": 9,
   "metadata": {},
   "outputs": [],
   "source": [
    "esv_tam_ct = eng_df.esv_TAM.value_counts()\n",
    "esv_tam_pr = prop_table(esv_tam_ct)\n",
    "niv_tam_ct = eng_df.niv_TAM.value_counts()\n",
    "niv_tam_pr = prop_table(niv_tam_ct)"
   ]
  },
  {
   "cell_type": "markdown",
   "metadata": {},
   "source": [
    "### ESV"
   ]
  },
  {
   "cell_type": "code",
   "execution_count": 10,
   "metadata": {},
   "outputs": [
    {
     "data": {
      "text/plain": [
       "PAST..IND        4701\n",
       "PRES.PERF.IND    3095\n",
       "PRES..IND        2268\n",
       "PAST.PERF.IND     927\n",
       "Name: esv_TAM, dtype: int64"
      ]
     },
     "execution_count": 10,
     "metadata": {},
     "output_type": "execute_result"
    }
   ],
   "source": [
    "esv_tam_ct"
   ]
  },
  {
   "cell_type": "code",
   "execution_count": 11,
   "metadata": {},
   "outputs": [
    {
     "data": {
      "text/plain": [
       "PAST..IND        0.427714\n",
       "PRES.PERF.IND    0.281594\n",
       "PRES..IND        0.206351\n",
       "PAST.PERF.IND    0.084342\n",
       "Name: esv_TAM, dtype: float64"
      ]
     },
     "execution_count": 11,
     "metadata": {},
     "output_type": "execute_result"
    }
   ],
   "source": [
    "esv_tam_pr"
   ]
  },
  {
   "cell_type": "code",
   "execution_count": 12,
   "metadata": {},
   "outputs": [
    {
     "data": {
      "image/png": "[encoded data removed]",
      "text/plain": [
       "<Figure size 432x288 with 1 Axes>"
      ]
     },
     "metadata": {
      "needs_background": "light"
     },
     "output_type": "display_data"
    }
   ],
   "source": [
    "plot_bar_1D(esv_tam_pr, title='ESV proportions')"
   ]
  },
  {
   "cell_type": "markdown",
   "metadata": {},
   "source": [
    "### NIV"
   ]
  },
  {
   "cell_type": "code",
   "execution_count": 13,
   "metadata": {},
   "outputs": [
    {
     "data": {
      "text/plain": [
       "PAST..IND        4737\n",
       "PRES.PERF.IND    2671\n",
       "PRES..IND        2486\n",
       "PAST.PERF.IND    1097\n",
       "Name: niv_TAM, dtype: int64"
      ]
     },
     "execution_count": 13,
     "metadata": {},
     "output_type": "execute_result"
    }
   ],
   "source": [
    "niv_tam_ct"
   ]
  },
  {
   "cell_type": "code",
   "execution_count": 14,
   "metadata": {},
   "outputs": [
    {
     "data": {
      "text/plain": [
       "PAST..IND        0.430989\n",
       "PRES.PERF.IND    0.243017\n",
       "PRES..IND        0.226185\n",
       "PAST.PERF.IND    0.099809\n",
       "Name: niv_TAM, dtype: float64"
      ]
     },
     "execution_count": 14,
     "metadata": {},
     "output_type": "execute_result"
    }
   ],
   "source": [
    "niv_tam_pr"
   ]
  },
  {
   "cell_type": "code",
   "execution_count": 63,
   "metadata": {},
   "outputs": [
    {
     "data": {
      "text/plain": [
       "PAST..IND        0.003275\n",
       "PRES.PERF.IND   -0.038577\n",
       "PRES..IND        0.019834\n",
       "PAST.PERF.IND    0.015467\n",
       "dtype: float64"
      ]
     },
     "execution_count": 63,
     "metadata": {},
     "output_type": "execute_result"
    }
   ],
   "source": [
    "# compare with ESV\n",
    "niv_tam_pr - esv_tam_pr"
   ]
  },
  {
   "cell_type": "code",
   "execution_count": 15,
   "metadata": {},
   "outputs": [
    {
     "data": {
      "image/png": "[encoded data removed]",
      "text/plain": [
       "<Figure size 432x288 with 1 Axes>"
      ]
     },
     "metadata": {
      "needs_background": "light"
     },
     "output_type": "display_data"
    }
   ],
   "source": [
    "plot_bar_1D(niv_tam_pr, title='NIV proportions')"
   ]
  },
  {
   "cell_type": "markdown",
   "metadata": {},
   "source": [
    "### ESV & NIV (agreement)"
   ]
  },
  {
   "cell_type": "code",
   "execution_count": 130,
   "metadata": {},
   "outputs": [
    {
     "data": {
      "text/plain": [
       "PAST..IND        4116\n",
       "PRES.PERF.IND    2354\n",
       "PRES..IND        2062\n",
       "PAST.PERF.IND     782\n",
       "Name: esv_TAM, dtype: int64"
      ]
     },
     "execution_count": 130,
     "metadata": {},
     "output_type": "execute_result"
    }
   ],
   "source": [
    "eng_tam_ct = eng_df[eng_df.disagree == 0].esv_TAM.value_counts()\n",
    "eng_tam_pr = prop_table(eng_tam_ct)\n",
    "\n",
    "eng_tam_ct"
   ]
  },
  {
   "cell_type": "code",
   "execution_count": 131,
   "metadata": {},
   "outputs": [
    {
     "data": {
      "text/plain": [
       "PAST..IND        0.441915\n",
       "PRES.PERF.IND    0.252738\n",
       "PRES..IND        0.221387\n",
       "PAST.PERF.IND    0.083960\n",
       "Name: esv_TAM, dtype: float64"
      ]
     },
     "execution_count": 131,
     "metadata": {},
     "output_type": "execute_result"
    }
   ],
   "source": [
    "eng_tam_pr"
   ]
  },
  {
   "cell_type": "code",
   "execution_count": 132,
   "metadata": {},
   "outputs": [
    {
     "data": {
      "image/png": "[encoded data removed]",
      "text/plain": [
       "<Figure size 432x288 with 1 Axes>"
      ]
     },
     "metadata": {
      "needs_background": "light"
     },
     "output_type": "display_data"
    }
   ],
   "source": [
    "plot_bar_1D(eng_tam_pr, title='ESV & NIV proportions (where they agree)')"
   ]
  },
  {
   "cell_type": "markdown",
   "metadata": {},
   "source": [
    "## Translation Diagreements (unidirectional)"
   ]
  },
  {
   "cell_type": "markdown",
   "metadata": {},
   "source": [
    "### Run unidirectional"
   ]
  },
  {
   "cell_type": "code",
   "execution_count": 16,
   "metadata": {},
   "outputs": [
    {
     "name": "stdout",
     "output_type": "stream",
     "text": [
      "counts:\n"
     ]
    },
    {
     "data": {
      "text/html": [
       "<div>\n",
       "<style scoped>\n",
       "    .dataframe tbody tr th:only-of-type {\n",
       "        vertical-align: middle;\n",
       "    }\n",
       "\n",
       "    .dataframe tbody tr th {\n",
       "        vertical-align: top;\n",
       "    }\n",
       "\n",
       "    .dataframe thead th {\n",
       "        text-align: right;\n",
       "    }\n",
       "</style>\n",
       "<table border=\"1\" class=\"dataframe\">\n",
       "  <thead>\n",
       "    <tr style=\"text-align: right;\">\n",
       "      <th>niv_TAM</th>\n",
       "      <th>PAST..IND</th>\n",
       "      <th>PRES..IND</th>\n",
       "      <th>PRES.PERF.IND</th>\n",
       "      <th>PAST.PERF.IND</th>\n",
       "    </tr>\n",
       "    <tr>\n",
       "      <th>esv_TAM</th>\n",
       "      <th></th>\n",
       "      <th></th>\n",
       "      <th></th>\n",
       "      <th></th>\n",
       "    </tr>\n",
       "  </thead>\n",
       "  <tbody>\n",
       "    <tr>\n",
       "      <th>PRES.PERF.IND</th>\n",
       "      <td>410</td>\n",
       "      <td>293</td>\n",
       "      <td>0</td>\n",
       "      <td>38</td>\n",
       "    </tr>\n",
       "    <tr>\n",
       "      <th>PAST..IND</th>\n",
       "      <td>0</td>\n",
       "      <td>130</td>\n",
       "      <td>180</td>\n",
       "      <td>275</td>\n",
       "    </tr>\n",
       "    <tr>\n",
       "      <th>PRES..IND</th>\n",
       "      <td>77</td>\n",
       "      <td>0</td>\n",
       "      <td>127</td>\n",
       "      <td>2</td>\n",
       "    </tr>\n",
       "    <tr>\n",
       "      <th>PAST.PERF.IND</th>\n",
       "      <td>134</td>\n",
       "      <td>1</td>\n",
       "      <td>10</td>\n",
       "      <td>0</td>\n",
       "    </tr>\n",
       "  </tbody>\n",
       "</table>\n",
       "</div>"
      ],
      "text/plain": [
       "niv_TAM        PAST..IND  PRES..IND  PRES.PERF.IND  PAST.PERF.IND\n",
       "esv_TAM                                                          \n",
       "PRES.PERF.IND        410        293              0             38\n",
       "PAST..IND              0        130            180            275\n",
       "PRES..IND             77          0            127              2\n",
       "PAST.PERF.IND        134          1             10              0"
      ]
     },
     "metadata": {},
     "output_type": "display_data"
    },
    {
     "name": "stdout",
     "output_type": "stream",
     "text": [
      "\n",
      "proportions 1:\n"
     ]
    },
    {
     "data": {
      "text/html": [
       "<style  type=\"text/css\" >\n",
       "#T_34b7a3ae_2a6e_11eb_88d4_acde48001122row0_col0,#T_34b7a3ae_2a6e_11eb_88d4_acde48001122row1_col3,#T_34b7a3ae_2a6e_11eb_88d4_acde48001122row2_col2,#T_34b7a3ae_2a6e_11eb_88d4_acde48001122row3_col0{\n",
       "            color:  red;\n",
       "        }</style><table id=\"T_34b7a3ae_2a6e_11eb_88d4_acde48001122\" ><thead>    <tr>        <th class=\"index_name level0\" >niv_TAM</th>        <th class=\"col_heading level0 col0\" >PAST..IND</th>        <th class=\"col_heading level0 col1\" >PRES..IND</th>        <th class=\"col_heading level0 col2\" >PRES.PERF.IND</th>        <th class=\"col_heading level0 col3\" >PAST.PERF.IND</th>    </tr>    <tr>        <th class=\"index_name level0\" >esv_TAM</th>        <th class=\"blank\" ></th>        <th class=\"blank\" ></th>        <th class=\"blank\" ></th>        <th class=\"blank\" ></th>    </tr></thead><tbody>\n",
       "                <tr>\n",
       "                        <th id=\"T_34b7a3ae_2a6e_11eb_88d4_acde48001122level0_row0\" class=\"row_heading level0 row0\" >PRES.PERF.IND</th>\n",
       "                        <td id=\"T_34b7a3ae_2a6e_11eb_88d4_acde48001122row0_col0\" class=\"data row0 col0\" >0.553306</td>\n",
       "                        <td id=\"T_34b7a3ae_2a6e_11eb_88d4_acde48001122row0_col1\" class=\"data row0 col1\" >0.395412</td>\n",
       "                        <td id=\"T_34b7a3ae_2a6e_11eb_88d4_acde48001122row0_col2\" class=\"data row0 col2\" >0.000000</td>\n",
       "                        <td id=\"T_34b7a3ae_2a6e_11eb_88d4_acde48001122row0_col3\" class=\"data row0 col3\" >0.051282</td>\n",
       "            </tr>\n",
       "            <tr>\n",
       "                        <th id=\"T_34b7a3ae_2a6e_11eb_88d4_acde48001122level0_row1\" class=\"row_heading level0 row1\" >PAST..IND</th>\n",
       "                        <td id=\"T_34b7a3ae_2a6e_11eb_88d4_acde48001122row1_col0\" class=\"data row1 col0\" >0.000000</td>\n",
       "                        <td id=\"T_34b7a3ae_2a6e_11eb_88d4_acde48001122row1_col1\" class=\"data row1 col1\" >0.222222</td>\n",
       "                        <td id=\"T_34b7a3ae_2a6e_11eb_88d4_acde48001122row1_col2\" class=\"data row1 col2\" >0.307692</td>\n",
       "                        <td id=\"T_34b7a3ae_2a6e_11eb_88d4_acde48001122row1_col3\" class=\"data row1 col3\" >0.470085</td>\n",
       "            </tr>\n",
       "            <tr>\n",
       "                        <th id=\"T_34b7a3ae_2a6e_11eb_88d4_acde48001122level0_row2\" class=\"row_heading level0 row2\" >PRES..IND</th>\n",
       "                        <td id=\"T_34b7a3ae_2a6e_11eb_88d4_acde48001122row2_col0\" class=\"data row2 col0\" >0.373786</td>\n",
       "                        <td id=\"T_34b7a3ae_2a6e_11eb_88d4_acde48001122row2_col1\" class=\"data row2 col1\" >0.000000</td>\n",
       "                        <td id=\"T_34b7a3ae_2a6e_11eb_88d4_acde48001122row2_col2\" class=\"data row2 col2\" >0.616505</td>\n",
       "                        <td id=\"T_34b7a3ae_2a6e_11eb_88d4_acde48001122row2_col3\" class=\"data row2 col3\" >0.009709</td>\n",
       "            </tr>\n",
       "            <tr>\n",
       "                        <th id=\"T_34b7a3ae_2a6e_11eb_88d4_acde48001122level0_row3\" class=\"row_heading level0 row3\" >PAST.PERF.IND</th>\n",
       "                        <td id=\"T_34b7a3ae_2a6e_11eb_88d4_acde48001122row3_col0\" class=\"data row3 col0\" >0.924138</td>\n",
       "                        <td id=\"T_34b7a3ae_2a6e_11eb_88d4_acde48001122row3_col1\" class=\"data row3 col1\" >0.006897</td>\n",
       "                        <td id=\"T_34b7a3ae_2a6e_11eb_88d4_acde48001122row3_col2\" class=\"data row3 col2\" >0.068966</td>\n",
       "                        <td id=\"T_34b7a3ae_2a6e_11eb_88d4_acde48001122row3_col3\" class=\"data row3 col3\" >0.000000</td>\n",
       "            </tr>\n",
       "    </tbody></table>"
      ],
      "text/plain": [
       "<pandas.io.formats.style.Styler at 0x7fd41eb55940>"
      ]
     },
     "metadata": {},
     "output_type": "display_data"
    },
    {
     "name": "stdout",
     "output_type": "stream",
     "text": [
      "\n",
      "proportions 2:\n"
     ]
    },
    {
     "data": {
      "text/html": [
       "<style  type=\"text/css\" >\n",
       "#T_34bba2d8_2a6e_11eb_88d4_acde48001122row0_col0,#T_34bba2d8_2a6e_11eb_88d4_acde48001122row1_col0,#T_34bba2d8_2a6e_11eb_88d4_acde48001122row2_col1,#T_34bba2d8_2a6e_11eb_88d4_acde48001122row3_col1{\n",
       "            color:  red;\n",
       "        }</style><table id=\"T_34bba2d8_2a6e_11eb_88d4_acde48001122\" ><thead>    <tr>        <th class=\"index_name level0\" >esv_TAM</th>        <th class=\"col_heading level0 col0\" >PRES.PERF.IND</th>        <th class=\"col_heading level0 col1\" >PAST..IND</th>        <th class=\"col_heading level0 col2\" >PRES..IND</th>        <th class=\"col_heading level0 col3\" >PAST.PERF.IND</th>    </tr>    <tr>        <th class=\"index_name level0\" >niv_TAM</th>        <th class=\"blank\" ></th>        <th class=\"blank\" ></th>        <th class=\"blank\" ></th>        <th class=\"blank\" ></th>    </tr></thead><tbody>\n",
       "                <tr>\n",
       "                        <th id=\"T_34bba2d8_2a6e_11eb_88d4_acde48001122level0_row0\" class=\"row_heading level0 row0\" >PAST..IND</th>\n",
       "                        <td id=\"T_34bba2d8_2a6e_11eb_88d4_acde48001122row0_col0\" class=\"data row0 col0\" >0.660225</td>\n",
       "                        <td id=\"T_34bba2d8_2a6e_11eb_88d4_acde48001122row0_col1\" class=\"data row0 col1\" >0.000000</td>\n",
       "                        <td id=\"T_34bba2d8_2a6e_11eb_88d4_acde48001122row0_col2\" class=\"data row0 col2\" >0.123994</td>\n",
       "                        <td id=\"T_34bba2d8_2a6e_11eb_88d4_acde48001122row0_col3\" class=\"data row0 col3\" >0.215781</td>\n",
       "            </tr>\n",
       "            <tr>\n",
       "                        <th id=\"T_34bba2d8_2a6e_11eb_88d4_acde48001122level0_row1\" class=\"row_heading level0 row1\" >PRES..IND</th>\n",
       "                        <td id=\"T_34bba2d8_2a6e_11eb_88d4_acde48001122row1_col0\" class=\"data row1 col0\" >0.691038</td>\n",
       "                        <td id=\"T_34bba2d8_2a6e_11eb_88d4_acde48001122row1_col1\" class=\"data row1 col1\" >0.306604</td>\n",
       "                        <td id=\"T_34bba2d8_2a6e_11eb_88d4_acde48001122row1_col2\" class=\"data row1 col2\" >0.000000</td>\n",
       "                        <td id=\"T_34bba2d8_2a6e_11eb_88d4_acde48001122row1_col3\" class=\"data row1 col3\" >0.002358</td>\n",
       "            </tr>\n",
       "            <tr>\n",
       "                        <th id=\"T_34bba2d8_2a6e_11eb_88d4_acde48001122level0_row2\" class=\"row_heading level0 row2\" >PRES.PERF.IND</th>\n",
       "                        <td id=\"T_34bba2d8_2a6e_11eb_88d4_acde48001122row2_col0\" class=\"data row2 col0\" >0.000000</td>\n",
       "                        <td id=\"T_34bba2d8_2a6e_11eb_88d4_acde48001122row2_col1\" class=\"data row2 col1\" >0.567823</td>\n",
       "                        <td id=\"T_34bba2d8_2a6e_11eb_88d4_acde48001122row2_col2\" class=\"data row2 col2\" >0.400631</td>\n",
       "                        <td id=\"T_34bba2d8_2a6e_11eb_88d4_acde48001122row2_col3\" class=\"data row2 col3\" >0.031546</td>\n",
       "            </tr>\n",
       "            <tr>\n",
       "                        <th id=\"T_34bba2d8_2a6e_11eb_88d4_acde48001122level0_row3\" class=\"row_heading level0 row3\" >PAST.PERF.IND</th>\n",
       "                        <td id=\"T_34bba2d8_2a6e_11eb_88d4_acde48001122row3_col0\" class=\"data row3 col0\" >0.120635</td>\n",
       "                        <td id=\"T_34bba2d8_2a6e_11eb_88d4_acde48001122row3_col1\" class=\"data row3 col1\" >0.873016</td>\n",
       "                        <td id=\"T_34bba2d8_2a6e_11eb_88d4_acde48001122row3_col2\" class=\"data row3 col2\" >0.006349</td>\n",
       "                        <td id=\"T_34bba2d8_2a6e_11eb_88d4_acde48001122row3_col3\" class=\"data row3 col3\" >0.000000</td>\n",
       "            </tr>\n",
       "    </tbody></table>"
      ],
      "text/plain": [
       "<pandas.io.formats.style.Styler at 0x7fd409965af0>"
      ]
     },
     "metadata": {},
     "output_type": "display_data"
    },
    {
     "name": "stdout",
     "output_type": "stream",
     "text": [
      "\n"
     ]
    }
   ],
   "source": [
    "disag_df = eng_df[eng_df.esv_TAM != eng_df.niv_TAM]\n",
    "\n",
    "disags = Analyze(disag_df, index='esv_TAM', columns='niv_TAM', fishers=False)\n",
    "\n",
    "disags.show()"
   ]
  },
  {
   "cell_type": "markdown",
   "metadata": {},
   "source": [
    "As a proportion of all disagreements rather than across rows."
   ]
  },
  {
   "cell_type": "code",
   "execution_count": 65,
   "metadata": {},
   "outputs": [
    {
     "data": {
      "text/html": [
       "<div>\n",
       "<style scoped>\n",
       "    .dataframe tbody tr th:only-of-type {\n",
       "        vertical-align: middle;\n",
       "    }\n",
       "\n",
       "    .dataframe tbody tr th {\n",
       "        vertical-align: top;\n",
       "    }\n",
       "\n",
       "    .dataframe thead th {\n",
       "        text-align: right;\n",
       "    }\n",
       "</style>\n",
       "<table border=\"1\" class=\"dataframe\">\n",
       "  <thead>\n",
       "    <tr style=\"text-align: right;\">\n",
       "      <th>niv_TAM</th>\n",
       "      <th>PAST..IND</th>\n",
       "      <th>PRES..IND</th>\n",
       "      <th>PRES.PERF.IND</th>\n",
       "      <th>PAST.PERF.IND</th>\n",
       "    </tr>\n",
       "    <tr>\n",
       "      <th>esv_TAM</th>\n",
       "      <th></th>\n",
       "      <th></th>\n",
       "      <th></th>\n",
       "      <th></th>\n",
       "    </tr>\n",
       "  </thead>\n",
       "  <tbody>\n",
       "    <tr>\n",
       "      <th>PRES.PERF.IND</th>\n",
       "      <td>0.244484</td>\n",
       "      <td>0.174717</td>\n",
       "      <td>0.000000</td>\n",
       "      <td>0.022660</td>\n",
       "    </tr>\n",
       "    <tr>\n",
       "      <th>PAST..IND</th>\n",
       "      <td>0.000000</td>\n",
       "      <td>0.077519</td>\n",
       "      <td>0.107335</td>\n",
       "      <td>0.163983</td>\n",
       "    </tr>\n",
       "    <tr>\n",
       "      <th>PRES..IND</th>\n",
       "      <td>0.045915</td>\n",
       "      <td>0.000000</td>\n",
       "      <td>0.075730</td>\n",
       "      <td>0.001193</td>\n",
       "    </tr>\n",
       "    <tr>\n",
       "      <th>PAST.PERF.IND</th>\n",
       "      <td>0.079905</td>\n",
       "      <td>0.000596</td>\n",
       "      <td>0.005963</td>\n",
       "      <td>0.000000</td>\n",
       "    </tr>\n",
       "  </tbody>\n",
       "</table>\n",
       "</div>"
      ],
      "text/plain": [
       "niv_TAM        PAST..IND  PRES..IND  PRES.PERF.IND  PAST.PERF.IND\n",
       "esv_TAM                                                          \n",
       "PRES.PERF.IND   0.244484   0.174717       0.000000       0.022660\n",
       "PAST..IND       0.000000   0.077519       0.107335       0.163983\n",
       "PRES..IND       0.045915   0.000000       0.075730       0.001193\n",
       "PAST.PERF.IND   0.079905   0.000596       0.005963       0.000000"
      ]
     },
     "execution_count": 65,
     "metadata": {},
     "output_type": "execute_result"
    }
   ],
   "source": [
    "disags_pr3 = disags.ct / disags.ct.sum().sum()\n",
    "\n",
    "disags_pr3"
   ]
  },
  {
   "cell_type": "markdown",
   "metadata": {},
   "source": [
    "## Translation Disagreements (unidirectional)"
   ]
  },
  {
   "cell_type": "markdown",
   "metadata": {},
   "source": [
    "Rather than tracking which TAM belong to which translation, we want to count\n",
    "by simple TAM interchanges between the two translations. We do that below."
   ]
  },
  {
   "cell_type": "code",
   "execution_count": 52,
   "metadata": {},
   "outputs": [
    {
     "data": {
      "text/plain": [
       "PAST..IND ~ PRES.PERF.IND        590\n",
       "PRES..IND ~ PRES.PERF.IND        420\n",
       "PAST..IND ~ PAST.PERF.IND        409\n",
       "PAST..IND ~ PRES..IND            207\n",
       "PAST.PERF.IND ~ PRES.PERF.IND     48\n",
       "PAST.PERF.IND ~ PRES..IND          3\n",
       "dtype: int64"
      ]
     },
     "execution_count": 52,
     "metadata": {},
     "output_type": "execute_result"
    }
   ],
   "source": [
    "combined_disag = (disag_df.esv_TAM + ' ' + disag_df.niv_TAM)\n",
    "\n",
    "# do a bit of re-arranging of the strings so that we can\n",
    "# ignore whether ESV/NIV has x or y and pay attention to \n",
    "# simple interchanges between TAM x and TAM y\n",
    "interchanges = []\n",
    "\n",
    "for interchange in combined_disag:\n",
    "    new_i = sorted(interchange.split()) # strings remapped alphabetically\n",
    "    new_i = '{} ~ {}'.format(*new_i)\n",
    "    interchanges.append(new_i)\n",
    "\n",
    "# convert back to series and build counts\n",
    "interchanges = pd.Series(interchanges, index=combined_disag.index)\n",
    "inter_ct = interchanges.value_counts()\n",
    "inter_pr = prop_table(inter_ct)\n",
    "inter_oneN = 1 / inter_pr\n",
    "\n",
    "# add a TAM interchange column to the eng_df\n",
    "eng_df['TAM_inter'] = interchanges\n",
    "\n",
    "inter_ct"
   ]
  },
  {
   "cell_type": "code",
   "execution_count": 53,
   "metadata": {},
   "outputs": [
    {
     "data": {
      "text/plain": [
       "PAST..IND ~ PRES.PERF.IND        0.351819\n",
       "PRES..IND ~ PRES.PERF.IND        0.250447\n",
       "PAST..IND ~ PAST.PERF.IND        0.243888\n",
       "PAST..IND ~ PRES..IND            0.123435\n",
       "PAST.PERF.IND ~ PRES.PERF.IND    0.028623\n",
       "PAST.PERF.IND ~ PRES..IND        0.001789\n",
       "dtype: float64"
      ]
     },
     "execution_count": 53,
     "metadata": {},
     "output_type": "execute_result"
    }
   ],
   "source": [
    "inter_pr"
   ]
  },
  {
   "cell_type": "code",
   "execution_count": 54,
   "metadata": {},
   "outputs": [
    {
     "data": {
      "text/plain": [
       "PAST..IND ~ PRES.PERF.IND          2.842373\n",
       "PRES..IND ~ PRES.PERF.IND          3.992857\n",
       "PAST..IND ~ PAST.PERF.IND          4.100244\n",
       "PAST..IND ~ PRES..IND              8.101449\n",
       "PAST.PERF.IND ~ PRES.PERF.IND     34.937500\n",
       "PAST.PERF.IND ~ PRES..IND        559.000000\n",
       "dtype: float64"
      ]
     },
     "execution_count": 54,
     "metadata": {},
     "output_type": "execute_result"
    }
   ],
   "source": [
    "inter_oneN"
   ]
  },
  {
   "cell_type": "code",
   "execution_count": 19,
   "metadata": {},
   "outputs": [
    {
     "data": {
      "image/png": "[encoded data removed]",
      "text/plain": [
       "<Figure size 720x360 with 1 Axes>"
      ]
     },
     "metadata": {
      "needs_background": "light"
     },
     "output_type": "display_data"
    }
   ],
   "source": [
    "fig, ax = plt.subplots(figsize=(10, 5))\n",
    "\n",
    "plot_bar_1D(inter_pr, ax)"
   ]
  },
  {
   "cell_type": "code",
   "execution_count": 67,
   "metadata": {},
   "outputs": [
    {
     "data": {
      "text/plain": [
       "0    9314\n",
       "1    1677\n",
       "Name: disagree, dtype: int64"
      ]
     },
     "execution_count": 67,
     "metadata": {},
     "output_type": "execute_result"
    }
   ],
   "source": [
    "eng_df.disagree.value_counts()"
   ]
  },
  {
   "cell_type": "markdown",
   "metadata": {},
   "source": [
    "### Specific verb phrases involved"
   ]
  },
  {
   "cell_type": "code",
   "execution_count": 78,
   "metadata": {},
   "outputs": [
    {
     "data": {
      "text/plain": [
       "PAST..IND        1206\n",
       "PRES.PERF.IND    1058\n",
       "PRES..IND         630\n",
       "PAST.PERF.IND     460\n",
       "dtype: int64"
      ]
     },
     "execution_count": 78,
     "metadata": {},
     "output_type": "execute_result"
    }
   ],
   "source": [
    "vp_disag_ct = (disag_df.niv_TAM.value_counts() + disag_df.esv_TAM.value_counts()).sort_values(ascending=False)\n",
    "vp_disag_pr = prop_table(vp_disag_ct)\n",
    "\n",
    "vp_disag_ct"
   ]
  },
  {
   "cell_type": "code",
   "execution_count": 79,
   "metadata": {},
   "outputs": [
    {
     "data": {
      "text/plain": [
       "PAST..IND        0.359571\n",
       "PRES.PERF.IND    0.315444\n",
       "PRES..IND        0.187835\n",
       "PAST.PERF.IND    0.137150\n",
       "dtype: float64"
      ]
     },
     "execution_count": 79,
     "metadata": {},
     "output_type": "execute_result"
    }
   ],
   "source": [
    "vp_disag_pr"
   ]
  },
  {
   "cell_type": "markdown",
   "metadata": {},
   "source": [
    "Get difference of proportions:"
   ]
  },
  {
   "cell_type": "code",
   "execution_count": 82,
   "metadata": {},
   "outputs": [
    {
     "data": {
      "text/plain": [
       "PAST..IND        4116\n",
       "PRES.PERF.IND    2354\n",
       "PRES..IND        2062\n",
       "PAST.PERF.IND     782\n",
       "Name: esv_TAM, dtype: int64"
      ]
     },
     "execution_count": 82,
     "metadata": {},
     "output_type": "execute_result"
    }
   ],
   "source": [
    "vp_agree_ct = eng_df[eng_df.disagree == 0].esv_TAM.value_counts()\n",
    "vp_agree_pr = prop_table(agree_ct)\n",
    "\n",
    "vp_agree_ct"
   ]
  },
  {
   "cell_type": "code",
   "execution_count": 83,
   "metadata": {},
   "outputs": [
    {
     "data": {
      "text/plain": [
       "PAST..IND        0.441915\n",
       "PRES.PERF.IND    0.252738\n",
       "PRES..IND        0.221387\n",
       "PAST.PERF.IND    0.083960\n",
       "Name: esv_TAM, dtype: float64"
      ]
     },
     "execution_count": 83,
     "metadata": {},
     "output_type": "execute_result"
    }
   ],
   "source": [
    "vp_agree_pr"
   ]
  },
  {
   "cell_type": "code",
   "execution_count": 84,
   "metadata": {},
   "outputs": [
    {
     "data": {
      "text/plain": [
       "PAST..IND       -0.082345\n",
       "PRES.PERF.IND    0.062706\n",
       "PRES..IND       -0.033552\n",
       "PAST.PERF.IND    0.053190\n",
       "dtype: float64"
      ]
     },
     "execution_count": 84,
     "metadata": {},
     "output_type": "execute_result"
    }
   ],
   "source": [
    "# now difference of proportions from\n",
    "# when there is agreement\n",
    "vp_disag_pr - vp_agree_pr "
   ]
  },
  {
   "cell_type": "markdown",
   "metadata": {},
   "source": [
    "NB: present perfect is +6% here, more affected than others. Past perfect +5%."
   ]
  },
  {
   "cell_type": "markdown",
   "metadata": {},
   "source": [
    "### Counting agreement"
   ]
  },
  {
   "cell_type": "code",
   "execution_count": 61,
   "metadata": {},
   "outputs": [
    {
     "data": {
      "text/plain": [
       "0    9314\n",
       "1    1677\n",
       "Name: disagree, dtype: int64"
      ]
     },
     "execution_count": 61,
     "metadata": {},
     "output_type": "execute_result"
    }
   ],
   "source": [
    "eng_agree_ct = eng_df.disagree.value_counts()\n",
    "eng_agree_pr = prop_table(eng_agree_ct)\n",
    "\n",
    "eng_agree_ct"
   ]
  },
  {
   "cell_type": "code",
   "execution_count": 62,
   "metadata": {},
   "outputs": [
    {
     "data": {
      "text/plain": [
       "0    0.847421\n",
       "1    0.152579\n",
       "Name: disagree, dtype: float64"
      ]
     },
     "execution_count": 62,
     "metadata": {},
     "output_type": "execute_result"
    }
   ],
   "source": [
    "eng_agree_pr"
   ]
  },
  {
   "cell_type": "markdown",
   "metadata": {},
   "source": [
    "### Disagreement by Genre"
   ]
  },
  {
   "cell_type": "code",
   "execution_count": 103,
   "metadata": {},
   "outputs": [
    {
     "name": "stdout",
     "output_type": "stream",
     "text": [
      "counts:\n"
     ]
    },
    {
     "data": {
      "text/html": [
       "<div>\n",
       "<style scoped>\n",
       "    .dataframe tbody tr th:only-of-type {\n",
       "        vertical-align: middle;\n",
       "    }\n",
       "\n",
       "    .dataframe tbody tr th {\n",
       "        vertical-align: top;\n",
       "    }\n",
       "\n",
       "    .dataframe thead th {\n",
       "        text-align: right;\n",
       "    }\n",
       "</style>\n",
       "<table border=\"1\" class=\"dataframe\">\n",
       "  <thead>\n",
       "    <tr style=\"text-align: right;\">\n",
       "      <th>disagree</th>\n",
       "      <th>0</th>\n",
       "      <th>1</th>\n",
       "    </tr>\n",
       "    <tr>\n",
       "      <th>genre</th>\n",
       "      <th></th>\n",
       "      <th></th>\n",
       "    </tr>\n",
       "  </thead>\n",
       "  <tbody>\n",
       "    <tr>\n",
       "      <th>prose</th>\n",
       "      <td>4507</td>\n",
       "      <td>708</td>\n",
       "    </tr>\n",
       "    <tr>\n",
       "      <th>prophetic</th>\n",
       "      <td>2436</td>\n",
       "      <td>465</td>\n",
       "    </tr>\n",
       "    <tr>\n",
       "      <th>poetry</th>\n",
       "      <td>1780</td>\n",
       "      <td>387</td>\n",
       "    </tr>\n",
       "  </tbody>\n",
       "</table>\n",
       "</div>"
      ],
      "text/plain": [
       "disagree      0    1\n",
       "genre               \n",
       "prose      4507  708\n",
       "prophetic  2436  465\n",
       "poetry     1780  387"
      ]
     },
     "metadata": {},
     "output_type": "display_data"
    },
    {
     "name": "stdout",
     "output_type": "stream",
     "text": [
      "\n",
      "proportions 1:\n"
     ]
    },
    {
     "data": {
      "text/html": [
       "<style  type=\"text/css\" >\n",
       "#T_5f1cfea0_2a8c_11eb_88d4_acde48001122row0_col0,#T_5f1cfea0_2a8c_11eb_88d4_acde48001122row1_col0,#T_5f1cfea0_2a8c_11eb_88d4_acde48001122row2_col0{\n",
       "            color:  red;\n",
       "        }</style><table id=\"T_5f1cfea0_2a8c_11eb_88d4_acde48001122\" ><thead>    <tr>        <th class=\"index_name level0\" >disagree</th>        <th class=\"col_heading level0 col0\" >0</th>        <th class=\"col_heading level0 col1\" >1</th>    </tr>    <tr>        <th class=\"index_name level0\" >genre</th>        <th class=\"blank\" ></th>        <th class=\"blank\" ></th>    </tr></thead><tbody>\n",
       "                <tr>\n",
       "                        <th id=\"T_5f1cfea0_2a8c_11eb_88d4_acde48001122level0_row0\" class=\"row_heading level0 row0\" >prose</th>\n",
       "                        <td id=\"T_5f1cfea0_2a8c_11eb_88d4_acde48001122row0_col0\" class=\"data row0 col0\" >0.864238</td>\n",
       "                        <td id=\"T_5f1cfea0_2a8c_11eb_88d4_acde48001122row0_col1\" class=\"data row0 col1\" >0.135762</td>\n",
       "            </tr>\n",
       "            <tr>\n",
       "                        <th id=\"T_5f1cfea0_2a8c_11eb_88d4_acde48001122level0_row1\" class=\"row_heading level0 row1\" >prophetic</th>\n",
       "                        <td id=\"T_5f1cfea0_2a8c_11eb_88d4_acde48001122row1_col0\" class=\"data row1 col0\" >0.839710</td>\n",
       "                        <td id=\"T_5f1cfea0_2a8c_11eb_88d4_acde48001122row1_col1\" class=\"data row1 col1\" >0.160290</td>\n",
       "            </tr>\n",
       "            <tr>\n",
       "                        <th id=\"T_5f1cfea0_2a8c_11eb_88d4_acde48001122level0_row2\" class=\"row_heading level0 row2\" >poetry</th>\n",
       "                        <td id=\"T_5f1cfea0_2a8c_11eb_88d4_acde48001122row2_col0\" class=\"data row2 col0\" >0.821412</td>\n",
       "                        <td id=\"T_5f1cfea0_2a8c_11eb_88d4_acde48001122row2_col1\" class=\"data row2 col1\" >0.178588</td>\n",
       "            </tr>\n",
       "    </tbody></table>"
      ],
      "text/plain": [
       "<pandas.io.formats.style.Styler at 0x7fd40e02ac40>"
      ]
     },
     "metadata": {},
     "output_type": "display_data"
    },
    {
     "name": "stdout",
     "output_type": "stream",
     "text": [
      "\n",
      "proportions 2:\n"
     ]
    },
    {
     "data": {
      "text/html": [
       "<style  type=\"text/css\" >\n",
       "#T_5f1e6736_2a8c_11eb_88d4_acde48001122row0_col0,#T_5f1e6736_2a8c_11eb_88d4_acde48001122row1_col0{\n",
       "            color:  red;\n",
       "        }</style><table id=\"T_5f1e6736_2a8c_11eb_88d4_acde48001122\" ><thead>    <tr>        <th class=\"index_name level0\" >genre</th>        <th class=\"col_heading level0 col0\" >prose</th>        <th class=\"col_heading level0 col1\" >prophetic</th>        <th class=\"col_heading level0 col2\" >poetry</th>    </tr>    <tr>        <th class=\"index_name level0\" >disagree</th>        <th class=\"blank\" ></th>        <th class=\"blank\" ></th>        <th class=\"blank\" ></th>    </tr></thead><tbody>\n",
       "                <tr>\n",
       "                        <th id=\"T_5f1e6736_2a8c_11eb_88d4_acde48001122level0_row0\" class=\"row_heading level0 row0\" >0</th>\n",
       "                        <td id=\"T_5f1e6736_2a8c_11eb_88d4_acde48001122row0_col0\" class=\"data row0 col0\" >0.516680</td>\n",
       "                        <td id=\"T_5f1e6736_2a8c_11eb_88d4_acde48001122row0_col1\" class=\"data row0 col1\" >0.279262</td>\n",
       "                        <td id=\"T_5f1e6736_2a8c_11eb_88d4_acde48001122row0_col2\" class=\"data row0 col2\" >0.204058</td>\n",
       "            </tr>\n",
       "            <tr>\n",
       "                        <th id=\"T_5f1e6736_2a8c_11eb_88d4_acde48001122level0_row1\" class=\"row_heading level0 row1\" >1</th>\n",
       "                        <td id=\"T_5f1e6736_2a8c_11eb_88d4_acde48001122row1_col0\" class=\"data row1 col0\" >0.453846</td>\n",
       "                        <td id=\"T_5f1e6736_2a8c_11eb_88d4_acde48001122row1_col1\" class=\"data row1 col1\" >0.298077</td>\n",
       "                        <td id=\"T_5f1e6736_2a8c_11eb_88d4_acde48001122row1_col2\" class=\"data row1 col2\" >0.248077</td>\n",
       "            </tr>\n",
       "    </tbody></table>"
      ],
      "text/plain": [
       "<pandas.io.formats.style.Styler at 0x7fd40e02a220>"
      ]
     },
     "metadata": {},
     "output_type": "display_data"
    },
    {
     "name": "stdout",
     "output_type": "stream",
     "text": [
      "\n"
     ]
    }
   ],
   "source": [
    "ag_genre = Analyze(eng_df[eng_df.genre.isin(main_genre)], index='genre', columns='disagree', fishers=False)\n",
    "\n",
    "ag_genre.show()"
   ]
  },
  {
   "cell_type": "code",
   "execution_count": 104,
   "metadata": {},
   "outputs": [
    {
     "data": {
      "text/plain": [
       "genre\n",
       "prose       -0.062834\n",
       "prophetic    0.018815\n",
       "poetry       0.044019\n",
       "dtype: float64"
      ]
     },
     "execution_count": 104,
     "metadata": {},
     "output_type": "execute_result"
    }
   ],
   "source": [
    "# difference proportions between agree/disagree\n",
    "dp_agree = ag_genre.pr2.loc[1] - ag_genre.pr2.loc[0]\n",
    "\n",
    "dp_agree"
   ]
  },
  {
   "cell_type": "code",
   "execution_count": 105,
   "metadata": {},
   "outputs": [
    {
     "data": {
      "text/plain": [
       "0.06283388742405138"
      ]
     },
     "execution_count": 105,
     "metadata": {},
     "output_type": "execute_result"
    }
   ],
   "source": [
    "dp_agree['poetry'] + dp_agree['prophetic']"
   ]
  },
  {
   "cell_type": "code",
   "execution_count": 22,
   "metadata": {},
   "outputs": [
    {
     "data": {
      "text/html": [
       "<div>\n",
       "<style scoped>\n",
       "    .dataframe tbody tr th:only-of-type {\n",
       "        vertical-align: middle;\n",
       "    }\n",
       "\n",
       "    .dataframe tbody tr th {\n",
       "        vertical-align: top;\n",
       "    }\n",
       "\n",
       "    .dataframe thead th {\n",
       "        text-align: right;\n",
       "    }\n",
       "</style>\n",
       "<table border=\"1\" class=\"dataframe\">\n",
       "  <thead>\n",
       "    <tr style=\"text-align: right;\">\n",
       "      <th>disagree</th>\n",
       "      <th>0</th>\n",
       "      <th>1</th>\n",
       "    </tr>\n",
       "    <tr>\n",
       "      <th>genre</th>\n",
       "      <th></th>\n",
       "      <th></th>\n",
       "    </tr>\n",
       "  </thead>\n",
       "  <tbody>\n",
       "    <tr>\n",
       "      <th>prose</th>\n",
       "      <td>1.157089</td>\n",
       "      <td>7.365819</td>\n",
       "    </tr>\n",
       "    <tr>\n",
       "      <th>prophetic</th>\n",
       "      <td>1.190887</td>\n",
       "      <td>6.238710</td>\n",
       "    </tr>\n",
       "    <tr>\n",
       "      <th>poetry</th>\n",
       "      <td>1.217416</td>\n",
       "      <td>5.599483</td>\n",
       "    </tr>\n",
       "    <tr>\n",
       "      <th>instruction</th>\n",
       "      <td>1.288288</td>\n",
       "      <td>4.468750</td>\n",
       "    </tr>\n",
       "    <tr>\n",
       "      <th>list</th>\n",
       "      <td>1.081395</td>\n",
       "      <td>13.285714</td>\n",
       "    </tr>\n",
       "  </tbody>\n",
       "</table>\n",
       "</div>"
      ],
      "text/plain": [
       "disagree            0          1\n",
       "genre                           \n",
       "prose        1.157089   7.365819\n",
       "prophetic    1.190887   6.238710\n",
       "poetry       1.217416   5.599483\n",
       "instruction  1.288288   4.468750\n",
       "list         1.081395  13.285714"
      ]
     },
     "execution_count": 22,
     "metadata": {},
     "output_type": "execute_result"
    }
   ],
   "source": [
    "ag_genre.oneN"
   ]
  },
  {
   "cell_type": "markdown",
   "metadata": {},
   "source": [
    "### Disagreement by Domain"
   ]
  },
  {
   "cell_type": "code",
   "execution_count": 23,
   "metadata": {},
   "outputs": [
    {
     "name": "stdout",
     "output_type": "stream",
     "text": [
      "counts:\n"
     ]
    },
    {
     "data": {
      "text/html": [
       "<div>\n",
       "<style scoped>\n",
       "    .dataframe tbody tr th:only-of-type {\n",
       "        vertical-align: middle;\n",
       "    }\n",
       "\n",
       "    .dataframe tbody tr th {\n",
       "        vertical-align: top;\n",
       "    }\n",
       "\n",
       "    .dataframe thead th {\n",
       "        text-align: right;\n",
       "    }\n",
       "</style>\n",
       "<table border=\"1\" class=\"dataframe\">\n",
       "  <thead>\n",
       "    <tr style=\"text-align: right;\">\n",
       "      <th>disagree</th>\n",
       "      <th>0</th>\n",
       "      <th>1</th>\n",
       "    </tr>\n",
       "    <tr>\n",
       "      <th>domain2</th>\n",
       "      <th></th>\n",
       "      <th></th>\n",
       "    </tr>\n",
       "  </thead>\n",
       "  <tbody>\n",
       "    <tr>\n",
       "      <th>Q</th>\n",
       "      <td>6184</td>\n",
       "      <td>1287</td>\n",
       "    </tr>\n",
       "    <tr>\n",
       "      <th>N</th>\n",
       "      <td>2363</td>\n",
       "      <td>322</td>\n",
       "    </tr>\n",
       "    <tr>\n",
       "      <th>?</th>\n",
       "      <td>629</td>\n",
       "      <td>47</td>\n",
       "    </tr>\n",
       "    <tr>\n",
       "      <th>D</th>\n",
       "      <td>138</td>\n",
       "      <td>21</td>\n",
       "    </tr>\n",
       "  </tbody>\n",
       "</table>\n",
       "</div>"
      ],
      "text/plain": [
       "disagree     0     1\n",
       "domain2             \n",
       "Q         6184  1287\n",
       "N         2363   322\n",
       "?          629    47\n",
       "D          138    21"
      ]
     },
     "metadata": {},
     "output_type": "display_data"
    },
    {
     "name": "stdout",
     "output_type": "stream",
     "text": [
      "\n",
      "proportions 1:\n"
     ]
    },
    {
     "data": {
      "text/html": [
       "<style  type=\"text/css\" >\n",
       "#T_35860d02_2a6e_11eb_88d4_acde48001122row0_col0,#T_35860d02_2a6e_11eb_88d4_acde48001122row1_col0,#T_35860d02_2a6e_11eb_88d4_acde48001122row2_col0,#T_35860d02_2a6e_11eb_88d4_acde48001122row3_col0{\n",
       "            color:  red;\n",
       "        }</style><table id=\"T_35860d02_2a6e_11eb_88d4_acde48001122\" ><thead>    <tr>        <th class=\"index_name level0\" >disagree</th>        <th class=\"col_heading level0 col0\" >0</th>        <th class=\"col_heading level0 col1\" >1</th>    </tr>    <tr>        <th class=\"index_name level0\" >domain2</th>        <th class=\"blank\" ></th>        <th class=\"blank\" ></th>    </tr></thead><tbody>\n",
       "                <tr>\n",
       "                        <th id=\"T_35860d02_2a6e_11eb_88d4_acde48001122level0_row0\" class=\"row_heading level0 row0\" >Q</th>\n",
       "                        <td id=\"T_35860d02_2a6e_11eb_88d4_acde48001122row0_col0\" class=\"data row0 col0\" >0.827734</td>\n",
       "                        <td id=\"T_35860d02_2a6e_11eb_88d4_acde48001122row0_col1\" class=\"data row0 col1\" >0.172266</td>\n",
       "            </tr>\n",
       "            <tr>\n",
       "                        <th id=\"T_35860d02_2a6e_11eb_88d4_acde48001122level0_row1\" class=\"row_heading level0 row1\" >N</th>\n",
       "                        <td id=\"T_35860d02_2a6e_11eb_88d4_acde48001122row1_col0\" class=\"data row1 col0\" >0.880074</td>\n",
       "                        <td id=\"T_35860d02_2a6e_11eb_88d4_acde48001122row1_col1\" class=\"data row1 col1\" >0.119926</td>\n",
       "            </tr>\n",
       "            <tr>\n",
       "                        <th id=\"T_35860d02_2a6e_11eb_88d4_acde48001122level0_row2\" class=\"row_heading level0 row2\" >?</th>\n",
       "                        <td id=\"T_35860d02_2a6e_11eb_88d4_acde48001122row2_col0\" class=\"data row2 col0\" >0.930473</td>\n",
       "                        <td id=\"T_35860d02_2a6e_11eb_88d4_acde48001122row2_col1\" class=\"data row2 col1\" >0.069527</td>\n",
       "            </tr>\n",
       "            <tr>\n",
       "                        <th id=\"T_35860d02_2a6e_11eb_88d4_acde48001122level0_row3\" class=\"row_heading level0 row3\" >D</th>\n",
       "                        <td id=\"T_35860d02_2a6e_11eb_88d4_acde48001122row3_col0\" class=\"data row3 col0\" >0.867925</td>\n",
       "                        <td id=\"T_35860d02_2a6e_11eb_88d4_acde48001122row3_col1\" class=\"data row3 col1\" >0.132075</td>\n",
       "            </tr>\n",
       "    </tbody></table>"
      ],
      "text/plain": [
       "<pandas.io.formats.style.Styler at 0x7fd409a31fa0>"
      ]
     },
     "metadata": {},
     "output_type": "display_data"
    },
    {
     "name": "stdout",
     "output_type": "stream",
     "text": [
      "\n",
      "proportions 2:\n"
     ]
    },
    {
     "data": {
      "text/html": [
       "<style  type=\"text/css\" >\n",
       "#T_358a8940_2a6e_11eb_88d4_acde48001122row0_col0,#T_358a8940_2a6e_11eb_88d4_acde48001122row1_col0{\n",
       "            color:  red;\n",
       "        }</style><table id=\"T_358a8940_2a6e_11eb_88d4_acde48001122\" ><thead>    <tr>        <th class=\"index_name level0\" >domain2</th>        <th class=\"col_heading level0 col0\" >Q</th>        <th class=\"col_heading level0 col1\" >N</th>        <th class=\"col_heading level0 col2\" >?</th>        <th class=\"col_heading level0 col3\" >D</th>    </tr>    <tr>        <th class=\"index_name level0\" >disagree</th>        <th class=\"blank\" ></th>        <th class=\"blank\" ></th>        <th class=\"blank\" ></th>        <th class=\"blank\" ></th>    </tr></thead><tbody>\n",
       "                <tr>\n",
       "                        <th id=\"T_358a8940_2a6e_11eb_88d4_acde48001122level0_row0\" class=\"row_heading level0 row0\" >0</th>\n",
       "                        <td id=\"T_358a8940_2a6e_11eb_88d4_acde48001122row0_col0\" class=\"data row0 col0\" >0.663947</td>\n",
       "                        <td id=\"T_358a8940_2a6e_11eb_88d4_acde48001122row0_col1\" class=\"data row0 col1\" >0.253704</td>\n",
       "                        <td id=\"T_358a8940_2a6e_11eb_88d4_acde48001122row0_col2\" class=\"data row0 col2\" >0.067533</td>\n",
       "                        <td id=\"T_358a8940_2a6e_11eb_88d4_acde48001122row0_col3\" class=\"data row0 col3\" >0.014816</td>\n",
       "            </tr>\n",
       "            <tr>\n",
       "                        <th id=\"T_358a8940_2a6e_11eb_88d4_acde48001122level0_row1\" class=\"row_heading level0 row1\" >1</th>\n",
       "                        <td id=\"T_358a8940_2a6e_11eb_88d4_acde48001122row1_col0\" class=\"data row1 col0\" >0.767442</td>\n",
       "                        <td id=\"T_358a8940_2a6e_11eb_88d4_acde48001122row1_col1\" class=\"data row1 col1\" >0.192010</td>\n",
       "                        <td id=\"T_358a8940_2a6e_11eb_88d4_acde48001122row1_col2\" class=\"data row1 col2\" >0.028026</td>\n",
       "                        <td id=\"T_358a8940_2a6e_11eb_88d4_acde48001122row1_col3\" class=\"data row1 col3\" >0.012522</td>\n",
       "            </tr>\n",
       "    </tbody></table>"
      ],
      "text/plain": [
       "<pandas.io.formats.style.Styler at 0x7fd41ba7a9a0>"
      ]
     },
     "metadata": {},
     "output_type": "display_data"
    },
    {
     "name": "stdout",
     "output_type": "stream",
     "text": [
      "\n",
      "Fisher's test with log transform:\n"
     ]
    },
    {
     "data": {
      "image/png": "[encoded data removed]",
      "text/plain": [
       "<Figure size 432x288 with 2 Axes>"
      ]
     },
     "metadata": {
      "needs_background": "light"
     },
     "output_type": "display_data"
    }
   ],
   "source": [
    "disc_disag = Analyze(eng_df, index='domain2', columns='disagree')\n",
    "\n",
    "disc_disag.show()"
   ]
  },
  {
   "cell_type": "code",
   "execution_count": 92,
   "metadata": {},
   "outputs": [
    {
     "data": {
      "text/plain": [
       "disagree\n",
       "0   -0.052341\n",
       "1    0.052341\n",
       "dtype: float64"
      ]
     },
     "execution_count": 92,
     "metadata": {},
     "output_type": "execute_result"
    }
   ],
   "source": [
    "# diff in prop by genre between N and Q\n",
    "disc_disag.pr.loc['Q'] - disc_disag.pr.loc['N']"
   ]
  },
  {
   "cell_type": "code",
   "execution_count": 90,
   "metadata": {},
   "outputs": [
    {
     "data": {
      "text/plain": [
       "domain2\n",
       "Q    0.103495\n",
       "N   -0.061695\n",
       "?   -0.039507\n",
       "D   -0.002294\n",
       "dtype: float64"
      ]
     },
     "execution_count": 90,
     "metadata": {},
     "output_type": "execute_result"
    }
   ],
   "source": [
    "# diff in prop by agreement\n",
    "disc_disag.pr2.loc[1] - disc_disag.pr2.loc[0]"
   ]
  },
  {
   "cell_type": "markdown",
   "metadata": {},
   "source": [
    "### Disagreement by Genre + Domain"
   ]
  },
  {
   "cell_type": "code",
   "execution_count": 98,
   "metadata": {},
   "outputs": [
    {
     "name": "stdout",
     "output_type": "stream",
     "text": [
      "counts:\n"
     ]
    },
    {
     "data": {
      "text/html": [
       "<div>\n",
       "<style scoped>\n",
       "    .dataframe tbody tr th:only-of-type {\n",
       "        vertical-align: middle;\n",
       "    }\n",
       "\n",
       "    .dataframe tbody tr th {\n",
       "        vertical-align: top;\n",
       "    }\n",
       "\n",
       "    .dataframe thead th {\n",
       "        text-align: right;\n",
       "    }\n",
       "</style>\n",
       "<table border=\"1\" class=\"dataframe\">\n",
       "  <thead>\n",
       "    <tr style=\"text-align: right;\">\n",
       "      <th></th>\n",
       "      <th>disagree</th>\n",
       "      <th>0</th>\n",
       "      <th>1</th>\n",
       "    </tr>\n",
       "    <tr>\n",
       "      <th>genre</th>\n",
       "      <th>domain2</th>\n",
       "      <th></th>\n",
       "      <th></th>\n",
       "    </tr>\n",
       "  </thead>\n",
       "  <tbody>\n",
       "    <tr>\n",
       "      <th>prose</th>\n",
       "      <th>Q</th>\n",
       "      <td>2257</td>\n",
       "      <td>419</td>\n",
       "    </tr>\n",
       "    <tr>\n",
       "      <th>prophetic</th>\n",
       "      <th>Q</th>\n",
       "      <td>2125</td>\n",
       "      <td>435</td>\n",
       "    </tr>\n",
       "    <tr>\n",
       "      <th>prose</th>\n",
       "      <th>N</th>\n",
       "      <td>1992</td>\n",
       "      <td>273</td>\n",
       "    </tr>\n",
       "    <tr>\n",
       "      <th>poetry</th>\n",
       "      <th>Q</th>\n",
       "      <td>1579</td>\n",
       "      <td>361</td>\n",
       "    </tr>\n",
       "    <tr>\n",
       "      <th>prophetic</th>\n",
       "      <th>N</th>\n",
       "      <td>117</td>\n",
       "      <td>18</td>\n",
       "    </tr>\n",
       "    <tr>\n",
       "      <th>poetry</th>\n",
       "      <th>N</th>\n",
       "      <td>24</td>\n",
       "      <td>3</td>\n",
       "    </tr>\n",
       "  </tbody>\n",
       "</table>\n",
       "</div>"
      ],
      "text/plain": [
       "disagree              0    1\n",
       "genre     domain2           \n",
       "prose     Q        2257  419\n",
       "prophetic Q        2125  435\n",
       "prose     N        1992  273\n",
       "poetry    Q        1579  361\n",
       "prophetic N         117   18\n",
       "poetry    N          24    3"
      ]
     },
     "metadata": {},
     "output_type": "display_data"
    },
    {
     "name": "stdout",
     "output_type": "stream",
     "text": [
      "\n",
      "proportions 1:\n"
     ]
    },
    {
     "data": {
      "text/html": [
       "<style  type=\"text/css\" >\n",
       "#T_67144d22_2a8a_11eb_88d4_acde48001122row0_col0,#T_67144d22_2a8a_11eb_88d4_acde48001122row1_col0,#T_67144d22_2a8a_11eb_88d4_acde48001122row2_col0,#T_67144d22_2a8a_11eb_88d4_acde48001122row3_col0,#T_67144d22_2a8a_11eb_88d4_acde48001122row4_col0,#T_67144d22_2a8a_11eb_88d4_acde48001122row5_col0{\n",
       "            color:  red;\n",
       "        }</style><table id=\"T_67144d22_2a8a_11eb_88d4_acde48001122\" ><thead>    <tr>        <th class=\"blank\" ></th>        <th class=\"index_name level0\" >disagree</th>        <th class=\"col_heading level0 col0\" >0</th>        <th class=\"col_heading level0 col1\" >1</th>    </tr>    <tr>        <th class=\"index_name level0\" >genre</th>        <th class=\"index_name level1\" >domain2</th>        <th class=\"blank\" ></th>        <th class=\"blank\" ></th>    </tr></thead><tbody>\n",
       "                <tr>\n",
       "                        <th id=\"T_67144d22_2a8a_11eb_88d4_acde48001122level0_row0\" class=\"row_heading level0 row0\" >prose</th>\n",
       "                        <th id=\"T_67144d22_2a8a_11eb_88d4_acde48001122level1_row0\" class=\"row_heading level1 row0\" >Q</th>\n",
       "                        <td id=\"T_67144d22_2a8a_11eb_88d4_acde48001122row0_col0\" class=\"data row0 col0\" >0.843423</td>\n",
       "                        <td id=\"T_67144d22_2a8a_11eb_88d4_acde48001122row0_col1\" class=\"data row0 col1\" >0.156577</td>\n",
       "            </tr>\n",
       "            <tr>\n",
       "                        <th id=\"T_67144d22_2a8a_11eb_88d4_acde48001122level0_row1\" class=\"row_heading level0 row1\" >prophetic</th>\n",
       "                        <th id=\"T_67144d22_2a8a_11eb_88d4_acde48001122level1_row1\" class=\"row_heading level1 row1\" >Q</th>\n",
       "                        <td id=\"T_67144d22_2a8a_11eb_88d4_acde48001122row1_col0\" class=\"data row1 col0\" >0.830078</td>\n",
       "                        <td id=\"T_67144d22_2a8a_11eb_88d4_acde48001122row1_col1\" class=\"data row1 col1\" >0.169922</td>\n",
       "            </tr>\n",
       "            <tr>\n",
       "                        <th id=\"T_67144d22_2a8a_11eb_88d4_acde48001122level0_row2\" class=\"row_heading level0 row2\" >prose</th>\n",
       "                        <th id=\"T_67144d22_2a8a_11eb_88d4_acde48001122level1_row2\" class=\"row_heading level1 row2\" >N</th>\n",
       "                        <td id=\"T_67144d22_2a8a_11eb_88d4_acde48001122row2_col0\" class=\"data row2 col0\" >0.879470</td>\n",
       "                        <td id=\"T_67144d22_2a8a_11eb_88d4_acde48001122row2_col1\" class=\"data row2 col1\" >0.120530</td>\n",
       "            </tr>\n",
       "            <tr>\n",
       "                        <th id=\"T_67144d22_2a8a_11eb_88d4_acde48001122level0_row3\" class=\"row_heading level0 row3\" >poetry</th>\n",
       "                        <th id=\"T_67144d22_2a8a_11eb_88d4_acde48001122level1_row3\" class=\"row_heading level1 row3\" >Q</th>\n",
       "                        <td id=\"T_67144d22_2a8a_11eb_88d4_acde48001122row3_col0\" class=\"data row3 col0\" >0.813918</td>\n",
       "                        <td id=\"T_67144d22_2a8a_11eb_88d4_acde48001122row3_col1\" class=\"data row3 col1\" >0.186082</td>\n",
       "            </tr>\n",
       "            <tr>\n",
       "                        <th id=\"T_67144d22_2a8a_11eb_88d4_acde48001122level0_row4\" class=\"row_heading level0 row4\" >prophetic</th>\n",
       "                        <th id=\"T_67144d22_2a8a_11eb_88d4_acde48001122level1_row4\" class=\"row_heading level1 row4\" >N</th>\n",
       "                        <td id=\"T_67144d22_2a8a_11eb_88d4_acde48001122row4_col0\" class=\"data row4 col0\" >0.866667</td>\n",
       "                        <td id=\"T_67144d22_2a8a_11eb_88d4_acde48001122row4_col1\" class=\"data row4 col1\" >0.133333</td>\n",
       "            </tr>\n",
       "            <tr>\n",
       "                        <th id=\"T_67144d22_2a8a_11eb_88d4_acde48001122level0_row5\" class=\"row_heading level0 row5\" >poetry</th>\n",
       "                        <th id=\"T_67144d22_2a8a_11eb_88d4_acde48001122level1_row5\" class=\"row_heading level1 row5\" >N</th>\n",
       "                        <td id=\"T_67144d22_2a8a_11eb_88d4_acde48001122row5_col0\" class=\"data row5 col0\" >0.888889</td>\n",
       "                        <td id=\"T_67144d22_2a8a_11eb_88d4_acde48001122row5_col1\" class=\"data row5 col1\" >0.111111</td>\n",
       "            </tr>\n",
       "    </tbody></table>"
      ],
      "text/plain": [
       "<pandas.io.formats.style.Styler at 0x7fd40e5923a0>"
      ]
     },
     "metadata": {},
     "output_type": "display_data"
    },
    {
     "name": "stdout",
     "output_type": "stream",
     "text": [
      "\n",
      "proportions 2:\n"
     ]
    },
    {
     "data": {
      "text/html": [
       "<style  type=\"text/css\" >\n",
       "#T_67193d78_2a8a_11eb_88d4_acde48001122row0_col0,#T_67193d78_2a8a_11eb_88d4_acde48001122row1_col1{\n",
       "            color:  red;\n",
       "        }</style><table id=\"T_67193d78_2a8a_11eb_88d4_acde48001122\" ><thead>    <tr>        <th class=\"index_name level0\" >genre</th>        <th class=\"col_heading level0 col0\" >prose</th>        <th class=\"col_heading level0 col1\" >prophetic</th>        <th class=\"col_heading level0 col2\" >prose</th>        <th class=\"col_heading level0 col3\" >poetry</th>        <th class=\"col_heading level0 col4\" >prophetic</th>        <th class=\"col_heading level0 col5\" >poetry</th>    </tr>    <tr>        <th class=\"index_name level1\" >domain2</th>        <th class=\"col_heading level1 col0\" >Q</th>        <th class=\"col_heading level1 col1\" >Q</th>        <th class=\"col_heading level1 col2\" >N</th>        <th class=\"col_heading level1 col3\" >Q</th>        <th class=\"col_heading level1 col4\" >N</th>        <th class=\"col_heading level1 col5\" >N</th>    </tr>    <tr>        <th class=\"index_name level0\" >disagree</th>        <th class=\"blank\" ></th>        <th class=\"blank\" ></th>        <th class=\"blank\" ></th>        <th class=\"blank\" ></th>        <th class=\"blank\" ></th>        <th class=\"blank\" ></th>    </tr></thead><tbody>\n",
       "                <tr>\n",
       "                        <th id=\"T_67193d78_2a8a_11eb_88d4_acde48001122level0_row0\" class=\"row_heading level0 row0\" >0</th>\n",
       "                        <td id=\"T_67193d78_2a8a_11eb_88d4_acde48001122row0_col0\" class=\"data row0 col0\" >0.278849</td>\n",
       "                        <td id=\"T_67193d78_2a8a_11eb_88d4_acde48001122row0_col1\" class=\"data row0 col1\" >0.262540</td>\n",
       "                        <td id=\"T_67193d78_2a8a_11eb_88d4_acde48001122row0_col2\" class=\"data row0 col2\" >0.246108</td>\n",
       "                        <td id=\"T_67193d78_2a8a_11eb_88d4_acde48001122row0_col3\" class=\"data row0 col3\" >0.195083</td>\n",
       "                        <td id=\"T_67193d78_2a8a_11eb_88d4_acde48001122row0_col4\" class=\"data row0 col4\" >0.014455</td>\n",
       "                        <td id=\"T_67193d78_2a8a_11eb_88d4_acde48001122row0_col5\" class=\"data row0 col5\" >0.002965</td>\n",
       "            </tr>\n",
       "            <tr>\n",
       "                        <th id=\"T_67193d78_2a8a_11eb_88d4_acde48001122level0_row1\" class=\"row_heading level0 row1\" >1</th>\n",
       "                        <td id=\"T_67193d78_2a8a_11eb_88d4_acde48001122row1_col0\" class=\"data row1 col0\" >0.277667</td>\n",
       "                        <td id=\"T_67193d78_2a8a_11eb_88d4_acde48001122row1_col1\" class=\"data row1 col1\" >0.288270</td>\n",
       "                        <td id=\"T_67193d78_2a8a_11eb_88d4_acde48001122row1_col2\" class=\"data row1 col2\" >0.180915</td>\n",
       "                        <td id=\"T_67193d78_2a8a_11eb_88d4_acde48001122row1_col3\" class=\"data row1 col3\" >0.239231</td>\n",
       "                        <td id=\"T_67193d78_2a8a_11eb_88d4_acde48001122row1_col4\" class=\"data row1 col4\" >0.011928</td>\n",
       "                        <td id=\"T_67193d78_2a8a_11eb_88d4_acde48001122row1_col5\" class=\"data row1 col5\" >0.001988</td>\n",
       "            </tr>\n",
       "    </tbody></table>"
      ],
      "text/plain": [
       "<pandas.io.formats.style.Styler at 0x7fd40e592430>"
      ]
     },
     "metadata": {},
     "output_type": "display_data"
    },
    {
     "name": "stdout",
     "output_type": "stream",
     "text": [
      "\n",
      "Fisher's test with log transform:\n"
     ]
    },
    {
     "data": {
      "image/png": "[encoded data removed]",
      "text/plain": [
       "<Figure size 432x288 with 2 Axes>"
      ]
     },
     "metadata": {
      "needs_background": "light"
     },
     "output_type": "display_data"
    }
   ],
   "source": [
    "ag_gendom = Analyze(\n",
    "    eng_df[(eng_df.domain2.isin(main_dom)) & (eng_df.genre.isin(main_genre))], \n",
    "    index=['genre', 'domain2'],\n",
    "    columns='disagree',\n",
    ")\n",
    "\n",
    "ag_gendom.show()"
   ]
  },
  {
   "cell_type": "code",
   "execution_count": 100,
   "metadata": {},
   "outputs": [
    {
     "data": {
      "text/plain": [
       "genre      domain2\n",
       "prose      Q         -0.001181\n",
       "prophetic  Q          0.025730\n",
       "prose      N         -0.065194\n",
       "poetry     Q          0.044149\n",
       "prophetic  N         -0.002527\n",
       "poetry     N         -0.000977\n",
       "dtype: float64"
      ]
     },
     "execution_count": 100,
     "metadata": {},
     "output_type": "execute_result"
    }
   ],
   "source": [
    "# dif of props\n",
    "ag_gendom.pr2.loc[1] - ag_gendom.pr2.loc[0]"
   ]
  },
  {
   "cell_type": "markdown",
   "metadata": {},
   "source": [
    "### TAM interchanges by Genre"
   ]
  },
  {
   "cell_type": "code",
   "execution_count": 106,
   "metadata": {},
   "outputs": [
    {
     "name": "stdout",
     "output_type": "stream",
     "text": [
      "counts:\n"
     ]
    },
    {
     "data": {
      "text/html": [
       "<div>\n",
       "<style scoped>\n",
       "    .dataframe tbody tr th:only-of-type {\n",
       "        vertical-align: middle;\n",
       "    }\n",
       "\n",
       "    .dataframe tbody tr th {\n",
       "        vertical-align: top;\n",
       "    }\n",
       "\n",
       "    .dataframe thead th {\n",
       "        text-align: right;\n",
       "    }\n",
       "</style>\n",
       "<table border=\"1\" class=\"dataframe\">\n",
       "  <thead>\n",
       "    <tr style=\"text-align: right;\">\n",
       "      <th>TAM_inter</th>\n",
       "      <th>PAST..IND ~ PRES.PERF.IND</th>\n",
       "      <th>PRES..IND ~ PRES.PERF.IND</th>\n",
       "      <th>PAST..IND ~ PAST.PERF.IND</th>\n",
       "      <th>PAST..IND ~ PRES..IND</th>\n",
       "      <th>PAST.PERF.IND ~ PRES.PERF.IND</th>\n",
       "      <th>PAST.PERF.IND ~ PRES..IND</th>\n",
       "    </tr>\n",
       "    <tr>\n",
       "      <th>genre</th>\n",
       "      <th></th>\n",
       "      <th></th>\n",
       "      <th></th>\n",
       "      <th></th>\n",
       "      <th></th>\n",
       "      <th></th>\n",
       "    </tr>\n",
       "  </thead>\n",
       "  <tbody>\n",
       "    <tr>\n",
       "      <th>prose</th>\n",
       "      <td>249</td>\n",
       "      <td>75</td>\n",
       "      <td>305</td>\n",
       "      <td>44</td>\n",
       "      <td>34</td>\n",
       "      <td>1</td>\n",
       "    </tr>\n",
       "    <tr>\n",
       "      <th>prophetic</th>\n",
       "      <td>180</td>\n",
       "      <td>169</td>\n",
       "      <td>46</td>\n",
       "      <td>61</td>\n",
       "      <td>9</td>\n",
       "      <td>0</td>\n",
       "    </tr>\n",
       "    <tr>\n",
       "      <th>poetry</th>\n",
       "      <td>132</td>\n",
       "      <td>148</td>\n",
       "      <td>18</td>\n",
       "      <td>82</td>\n",
       "      <td>5</td>\n",
       "      <td>2</td>\n",
       "    </tr>\n",
       "  </tbody>\n",
       "</table>\n",
       "</div>"
      ],
      "text/plain": [
       "TAM_inter  PAST..IND ~ PRES.PERF.IND  ...  PAST.PERF.IND ~ PRES..IND\n",
       "genre                                 ...                           \n",
       "prose                            249  ...                          1\n",
       "prophetic                        180  ...                          0\n",
       "poetry                           132  ...                          2\n",
       "\n",
       "[3 rows x 6 columns]"
      ]
     },
     "metadata": {},
     "output_type": "display_data"
    },
    {
     "name": "stdout",
     "output_type": "stream",
     "text": [
      "\n",
      "proportions 1:\n"
     ]
    },
    {
     "data": {
      "text/html": [
       "<style  type=\"text/css\" >\n",
       "#T_cc9636fe_2a8c_11eb_88d4_acde48001122row0_col2,#T_cc9636fe_2a8c_11eb_88d4_acde48001122row1_col0,#T_cc9636fe_2a8c_11eb_88d4_acde48001122row2_col1{\n",
       "            color:  red;\n",
       "        }</style><table id=\"T_cc9636fe_2a8c_11eb_88d4_acde48001122\" ><thead>    <tr>        <th class=\"index_name level0\" >TAM_inter</th>        <th class=\"col_heading level0 col0\" >PAST..IND ~ PRES.PERF.IND</th>        <th class=\"col_heading level0 col1\" >PRES..IND ~ PRES.PERF.IND</th>        <th class=\"col_heading level0 col2\" >PAST..IND ~ PAST.PERF.IND</th>        <th class=\"col_heading level0 col3\" >PAST..IND ~ PRES..IND</th>        <th class=\"col_heading level0 col4\" >PAST.PERF.IND ~ PRES.PERF.IND</th>        <th class=\"col_heading level0 col5\" >PAST.PERF.IND ~ PRES..IND</th>    </tr>    <tr>        <th class=\"index_name level0\" >genre</th>        <th class=\"blank\" ></th>        <th class=\"blank\" ></th>        <th class=\"blank\" ></th>        <th class=\"blank\" ></th>        <th class=\"blank\" ></th>        <th class=\"blank\" ></th>    </tr></thead><tbody>\n",
       "                <tr>\n",
       "                        <th id=\"T_cc9636fe_2a8c_11eb_88d4_acde48001122level0_row0\" class=\"row_heading level0 row0\" >prose</th>\n",
       "                        <td id=\"T_cc9636fe_2a8c_11eb_88d4_acde48001122row0_col0\" class=\"data row0 col0\" >0.351695</td>\n",
       "                        <td id=\"T_cc9636fe_2a8c_11eb_88d4_acde48001122row0_col1\" class=\"data row0 col1\" >0.105932</td>\n",
       "                        <td id=\"T_cc9636fe_2a8c_11eb_88d4_acde48001122row0_col2\" class=\"data row0 col2\" >0.430791</td>\n",
       "                        <td id=\"T_cc9636fe_2a8c_11eb_88d4_acde48001122row0_col3\" class=\"data row0 col3\" >0.062147</td>\n",
       "                        <td id=\"T_cc9636fe_2a8c_11eb_88d4_acde48001122row0_col4\" class=\"data row0 col4\" >0.048023</td>\n",
       "                        <td id=\"T_cc9636fe_2a8c_11eb_88d4_acde48001122row0_col5\" class=\"data row0 col5\" >0.001412</td>\n",
       "            </tr>\n",
       "            <tr>\n",
       "                        <th id=\"T_cc9636fe_2a8c_11eb_88d4_acde48001122level0_row1\" class=\"row_heading level0 row1\" >prophetic</th>\n",
       "                        <td id=\"T_cc9636fe_2a8c_11eb_88d4_acde48001122row1_col0\" class=\"data row1 col0\" >0.387097</td>\n",
       "                        <td id=\"T_cc9636fe_2a8c_11eb_88d4_acde48001122row1_col1\" class=\"data row1 col1\" >0.363441</td>\n",
       "                        <td id=\"T_cc9636fe_2a8c_11eb_88d4_acde48001122row1_col2\" class=\"data row1 col2\" >0.098925</td>\n",
       "                        <td id=\"T_cc9636fe_2a8c_11eb_88d4_acde48001122row1_col3\" class=\"data row1 col3\" >0.131183</td>\n",
       "                        <td id=\"T_cc9636fe_2a8c_11eb_88d4_acde48001122row1_col4\" class=\"data row1 col4\" >0.019355</td>\n",
       "                        <td id=\"T_cc9636fe_2a8c_11eb_88d4_acde48001122row1_col5\" class=\"data row1 col5\" >0.000000</td>\n",
       "            </tr>\n",
       "            <tr>\n",
       "                        <th id=\"T_cc9636fe_2a8c_11eb_88d4_acde48001122level0_row2\" class=\"row_heading level0 row2\" >poetry</th>\n",
       "                        <td id=\"T_cc9636fe_2a8c_11eb_88d4_acde48001122row2_col0\" class=\"data row2 col0\" >0.341085</td>\n",
       "                        <td id=\"T_cc9636fe_2a8c_11eb_88d4_acde48001122row2_col1\" class=\"data row2 col1\" >0.382429</td>\n",
       "                        <td id=\"T_cc9636fe_2a8c_11eb_88d4_acde48001122row2_col2\" class=\"data row2 col2\" >0.046512</td>\n",
       "                        <td id=\"T_cc9636fe_2a8c_11eb_88d4_acde48001122row2_col3\" class=\"data row2 col3\" >0.211886</td>\n",
       "                        <td id=\"T_cc9636fe_2a8c_11eb_88d4_acde48001122row2_col4\" class=\"data row2 col4\" >0.012920</td>\n",
       "                        <td id=\"T_cc9636fe_2a8c_11eb_88d4_acde48001122row2_col5\" class=\"data row2 col5\" >0.005168</td>\n",
       "            </tr>\n",
       "    </tbody></table>"
      ],
      "text/plain": [
       "<pandas.io.formats.style.Styler at 0x7fd40e0546a0>"
      ]
     },
     "metadata": {},
     "output_type": "display_data"
    },
    {
     "name": "stdout",
     "output_type": "stream",
     "text": [
      "\n",
      "proportions 2:\n"
     ]
    },
    {
     "data": {
      "text/html": [
       "<style  type=\"text/css\" >\n",
       "#T_cc997dd2_2a8c_11eb_88d4_acde48001122row0_col0,#T_cc997dd2_2a8c_11eb_88d4_acde48001122row1_col1,#T_cc997dd2_2a8c_11eb_88d4_acde48001122row2_col0,#T_cc997dd2_2a8c_11eb_88d4_acde48001122row3_col2,#T_cc997dd2_2a8c_11eb_88d4_acde48001122row4_col0,#T_cc997dd2_2a8c_11eb_88d4_acde48001122row5_col2{\n",
       "            color:  red;\n",
       "        }</style><table id=\"T_cc997dd2_2a8c_11eb_88d4_acde48001122\" ><thead>    <tr>        <th class=\"index_name level0\" >genre</th>        <th class=\"col_heading level0 col0\" >prose</th>        <th class=\"col_heading level0 col1\" >prophetic</th>        <th class=\"col_heading level0 col2\" >poetry</th>    </tr>    <tr>        <th class=\"index_name level0\" >TAM_inter</th>        <th class=\"blank\" ></th>        <th class=\"blank\" ></th>        <th class=\"blank\" ></th>    </tr></thead><tbody>\n",
       "                <tr>\n",
       "                        <th id=\"T_cc997dd2_2a8c_11eb_88d4_acde48001122level0_row0\" class=\"row_heading level0 row0\" >PAST..IND ~ PRES.PERF.IND</th>\n",
       "                        <td id=\"T_cc997dd2_2a8c_11eb_88d4_acde48001122row0_col0\" class=\"data row0 col0\" >0.443850</td>\n",
       "                        <td id=\"T_cc997dd2_2a8c_11eb_88d4_acde48001122row0_col1\" class=\"data row0 col1\" >0.320856</td>\n",
       "                        <td id=\"T_cc997dd2_2a8c_11eb_88d4_acde48001122row0_col2\" class=\"data row0 col2\" >0.235294</td>\n",
       "            </tr>\n",
       "            <tr>\n",
       "                        <th id=\"T_cc997dd2_2a8c_11eb_88d4_acde48001122level0_row1\" class=\"row_heading level0 row1\" >PRES..IND ~ PRES.PERF.IND</th>\n",
       "                        <td id=\"T_cc997dd2_2a8c_11eb_88d4_acde48001122row1_col0\" class=\"data row1 col0\" >0.191327</td>\n",
       "                        <td id=\"T_cc997dd2_2a8c_11eb_88d4_acde48001122row1_col1\" class=\"data row1 col1\" >0.431122</td>\n",
       "                        <td id=\"T_cc997dd2_2a8c_11eb_88d4_acde48001122row1_col2\" class=\"data row1 col2\" >0.377551</td>\n",
       "            </tr>\n",
       "            <tr>\n",
       "                        <th id=\"T_cc997dd2_2a8c_11eb_88d4_acde48001122level0_row2\" class=\"row_heading level0 row2\" >PAST..IND ~ PAST.PERF.IND</th>\n",
       "                        <td id=\"T_cc997dd2_2a8c_11eb_88d4_acde48001122row2_col0\" class=\"data row2 col0\" >0.826558</td>\n",
       "                        <td id=\"T_cc997dd2_2a8c_11eb_88d4_acde48001122row2_col1\" class=\"data row2 col1\" >0.124661</td>\n",
       "                        <td id=\"T_cc997dd2_2a8c_11eb_88d4_acde48001122row2_col2\" class=\"data row2 col2\" >0.048780</td>\n",
       "            </tr>\n",
       "            <tr>\n",
       "                        <th id=\"T_cc997dd2_2a8c_11eb_88d4_acde48001122level0_row3\" class=\"row_heading level0 row3\" >PAST..IND ~ PRES..IND</th>\n",
       "                        <td id=\"T_cc997dd2_2a8c_11eb_88d4_acde48001122row3_col0\" class=\"data row3 col0\" >0.235294</td>\n",
       "                        <td id=\"T_cc997dd2_2a8c_11eb_88d4_acde48001122row3_col1\" class=\"data row3 col1\" >0.326203</td>\n",
       "                        <td id=\"T_cc997dd2_2a8c_11eb_88d4_acde48001122row3_col2\" class=\"data row3 col2\" >0.438503</td>\n",
       "            </tr>\n",
       "            <tr>\n",
       "                        <th id=\"T_cc997dd2_2a8c_11eb_88d4_acde48001122level0_row4\" class=\"row_heading level0 row4\" >PAST.PERF.IND ~ PRES.PERF.IND</th>\n",
       "                        <td id=\"T_cc997dd2_2a8c_11eb_88d4_acde48001122row4_col0\" class=\"data row4 col0\" >0.708333</td>\n",
       "                        <td id=\"T_cc997dd2_2a8c_11eb_88d4_acde48001122row4_col1\" class=\"data row4 col1\" >0.187500</td>\n",
       "                        <td id=\"T_cc997dd2_2a8c_11eb_88d4_acde48001122row4_col2\" class=\"data row4 col2\" >0.104167</td>\n",
       "            </tr>\n",
       "            <tr>\n",
       "                        <th id=\"T_cc997dd2_2a8c_11eb_88d4_acde48001122level0_row5\" class=\"row_heading level0 row5\" >PAST.PERF.IND ~ PRES..IND</th>\n",
       "                        <td id=\"T_cc997dd2_2a8c_11eb_88d4_acde48001122row5_col0\" class=\"data row5 col0\" >0.333333</td>\n",
       "                        <td id=\"T_cc997dd2_2a8c_11eb_88d4_acde48001122row5_col1\" class=\"data row5 col1\" >0.000000</td>\n",
       "                        <td id=\"T_cc997dd2_2a8c_11eb_88d4_acde48001122row5_col2\" class=\"data row5 col2\" >0.666667</td>\n",
       "            </tr>\n",
       "    </tbody></table>"
      ],
      "text/plain": [
       "<pandas.io.formats.style.Styler at 0x7fd40e054f70>"
      ]
     },
     "metadata": {},
     "output_type": "display_data"
    },
    {
     "name": "stdout",
     "output_type": "stream",
     "text": [
      "\n",
      "Fisher's test with log transform:\n"
     ]
    },
    {
     "data": {
      "image/png": "[encoded data removed]",
      "text/plain": [
       "<Figure size 432x288 with 2 Axes>"
      ]
     },
     "metadata": {
      "needs_background": "light"
     },
     "output_type": "display_data"
    }
   ],
   "source": [
    "gen_tami = Analyze(eng_df[eng_df.genre.isin(main_genre)], index='genre', columns='TAM_inter')\n",
    "\n",
    "gen_tami.show()"
   ]
  },
  {
   "cell_type": "code",
   "execution_count": 125,
   "metadata": {},
   "outputs": [
    {
     "data": {
      "text/html": [
       "<style  type=\"text/css\" >\n",
       "#T_ea7335ea_2a8d_11eb_88d4_acde48001122row0_col1,#T_ea7335ea_2a8d_11eb_88d4_acde48001122row1_col1,#T_ea7335ea_2a8d_11eb_88d4_acde48001122row2_col0,#T_ea7335ea_2a8d_11eb_88d4_acde48001122row3_col1,#T_ea7335ea_2a8d_11eb_88d4_acde48001122row4_col0,#T_ea7335ea_2a8d_11eb_88d4_acde48001122row5_col1{\n",
       "            color:  red;\n",
       "        }</style><table id=\"T_ea7335ea_2a8d_11eb_88d4_acde48001122\" ><thead>    <tr>        <th class=\"index_name level0\" >genre</th>        <th class=\"col_heading level0 col0\" >prose</th>        <th class=\"col_heading level0 col1\" >poetry+prophecy</th>    </tr>    <tr>        <th class=\"index_name level0\" >TAM_inter</th>        <th class=\"blank\" ></th>        <th class=\"blank\" ></th>    </tr></thead><tbody>\n",
       "                <tr>\n",
       "                        <th id=\"T_ea7335ea_2a8d_11eb_88d4_acde48001122level0_row0\" class=\"row_heading level0 row0\" >PAST..IND ~ PRES.PERF.IND</th>\n",
       "                        <td id=\"T_ea7335ea_2a8d_11eb_88d4_acde48001122row0_col0\" class=\"data row0 col0\" >0.443850</td>\n",
       "                        <td id=\"T_ea7335ea_2a8d_11eb_88d4_acde48001122row0_col1\" class=\"data row0 col1\" >0.556150</td>\n",
       "            </tr>\n",
       "            <tr>\n",
       "                        <th id=\"T_ea7335ea_2a8d_11eb_88d4_acde48001122level0_row1\" class=\"row_heading level0 row1\" >PRES..IND ~ PRES.PERF.IND</th>\n",
       "                        <td id=\"T_ea7335ea_2a8d_11eb_88d4_acde48001122row1_col0\" class=\"data row1 col0\" >0.191327</td>\n",
       "                        <td id=\"T_ea7335ea_2a8d_11eb_88d4_acde48001122row1_col1\" class=\"data row1 col1\" >0.808673</td>\n",
       "            </tr>\n",
       "            <tr>\n",
       "                        <th id=\"T_ea7335ea_2a8d_11eb_88d4_acde48001122level0_row2\" class=\"row_heading level0 row2\" >PAST..IND ~ PAST.PERF.IND</th>\n",
       "                        <td id=\"T_ea7335ea_2a8d_11eb_88d4_acde48001122row2_col0\" class=\"data row2 col0\" >0.826558</td>\n",
       "                        <td id=\"T_ea7335ea_2a8d_11eb_88d4_acde48001122row2_col1\" class=\"data row2 col1\" >0.173442</td>\n",
       "            </tr>\n",
       "            <tr>\n",
       "                        <th id=\"T_ea7335ea_2a8d_11eb_88d4_acde48001122level0_row3\" class=\"row_heading level0 row3\" >PAST..IND ~ PRES..IND</th>\n",
       "                        <td id=\"T_ea7335ea_2a8d_11eb_88d4_acde48001122row3_col0\" class=\"data row3 col0\" >0.235294</td>\n",
       "                        <td id=\"T_ea7335ea_2a8d_11eb_88d4_acde48001122row3_col1\" class=\"data row3 col1\" >0.764706</td>\n",
       "            </tr>\n",
       "            <tr>\n",
       "                        <th id=\"T_ea7335ea_2a8d_11eb_88d4_acde48001122level0_row4\" class=\"row_heading level0 row4\" >PAST.PERF.IND ~ PRES.PERF.IND</th>\n",
       "                        <td id=\"T_ea7335ea_2a8d_11eb_88d4_acde48001122row4_col0\" class=\"data row4 col0\" >0.708333</td>\n",
       "                        <td id=\"T_ea7335ea_2a8d_11eb_88d4_acde48001122row4_col1\" class=\"data row4 col1\" >0.291667</td>\n",
       "            </tr>\n",
       "            <tr>\n",
       "                        <th id=\"T_ea7335ea_2a8d_11eb_88d4_acde48001122level0_row5\" class=\"row_heading level0 row5\" >PAST.PERF.IND ~ PRES..IND</th>\n",
       "                        <td id=\"T_ea7335ea_2a8d_11eb_88d4_acde48001122row5_col0\" class=\"data row5 col0\" >0.333333</td>\n",
       "                        <td id=\"T_ea7335ea_2a8d_11eb_88d4_acde48001122row5_col1\" class=\"data row5 col1\" >0.666667</td>\n",
       "            </tr>\n",
       "    </tbody></table>"
      ],
      "text/plain": [
       "<pandas.io.formats.style.Styler at 0x7fd40c8a34c0>"
      ]
     },
     "execution_count": 125,
     "metadata": {},
     "output_type": "execute_result"
    }
   ],
   "source": [
    "gen_tami_pr2_2 = gen_tami.pr2.iloc[:,:1].copy()\n",
    "gen_tami_pr2_2['poetry+prophecy'] = gen_tami.pr2.iloc[:,1] + gen_tami.pr2.iloc[:,2]\n",
    "\n",
    "max_highlighter(gen_tami_pr2_2)"
   ]
  },
  {
   "cell_type": "code",
   "execution_count": 128,
   "metadata": {},
   "outputs": [
    {
     "name": "stdout",
     "output_type": "stream",
     "text": [
      "showing 10 of 207\n"
     ]
    },
    {
     "data": {
      "text/html": [
       "<style  type=\"text/css\" >\n",
       "#T_ae84dd8e_2a8f_11eb_88d4_acde48001122row0_col1,#T_ae84dd8e_2a8f_11eb_88d4_acde48001122row0_col2,#T_ae84dd8e_2a8f_11eb_88d4_acde48001122row1_col1,#T_ae84dd8e_2a8f_11eb_88d4_acde48001122row1_col2,#T_ae84dd8e_2a8f_11eb_88d4_acde48001122row2_col1,#T_ae84dd8e_2a8f_11eb_88d4_acde48001122row2_col2,#T_ae84dd8e_2a8f_11eb_88d4_acde48001122row3_col1,#T_ae84dd8e_2a8f_11eb_88d4_acde48001122row3_col2,#T_ae84dd8e_2a8f_11eb_88d4_acde48001122row4_col1,#T_ae84dd8e_2a8f_11eb_88d4_acde48001122row4_col2,#T_ae84dd8e_2a8f_11eb_88d4_acde48001122row5_col1,#T_ae84dd8e_2a8f_11eb_88d4_acde48001122row5_col2,#T_ae84dd8e_2a8f_11eb_88d4_acde48001122row6_col1,#T_ae84dd8e_2a8f_11eb_88d4_acde48001122row6_col2,#T_ae84dd8e_2a8f_11eb_88d4_acde48001122row7_col1,#T_ae84dd8e_2a8f_11eb_88d4_acde48001122row7_col2,#T_ae84dd8e_2a8f_11eb_88d4_acde48001122row8_col1,#T_ae84dd8e_2a8f_11eb_88d4_acde48001122row8_col2,#T_ae84dd8e_2a8f_11eb_88d4_acde48001122row9_col1,#T_ae84dd8e_2a8f_11eb_88d4_acde48001122row9_col2{\n",
       "            font-size: 20px;\n",
       "             font-family:  Times New Roman;\n",
       "             text-align:  right;\n",
       "             max-width:  500px;\n",
       "        }</style><table id=\"T_ae84dd8e_2a8f_11eb_88d4_acde48001122\" ><thead>    <tr>        <th class=\"blank level0\" ></th>        <th class=\"col_heading level0 col0\" >ref</th>        <th class=\"col_heading level0 col1\" >text_full</th>        <th class=\"col_heading level0 col2\" >sentence</th>        <th class=\"col_heading level0 col3\" >esv_TAMspan</th>        <th class=\"col_heading level0 col4\" >esv_TAM</th>        <th class=\"col_heading level0 col5\" >niv_TAMspan</th>        <th class=\"col_heading level0 col6\" >niv_TAM</th>    </tr>    <tr>        <th class=\"index_name level0\" >bhsa_node</th>        <th class=\"blank\" ></th>        <th class=\"blank\" ></th>        <th class=\"blank\" ></th>        <th class=\"blank\" ></th>        <th class=\"blank\" ></th>        <th class=\"blank\" ></th>        <th class=\"blank\" ></th>    </tr></thead><tbody>\n",
       "                <tr>\n",
       "                        <th id=\"T_ae84dd8e_2a8f_11eb_88d4_acde48001122level0_row0\" class=\"row_heading level0 row0\" >229660</th>\n",
       "                        <td id=\"T_ae84dd8e_2a8f_11eb_88d4_acde48001122row0_col0\" class=\"data row0 col0\" >Isaiah 50:2</td>\n",
       "                        <td id=\"T_ae84dd8e_2a8f_11eb_88d4_acde48001122row0_col1\" class=\"data row0 col1\" >קָצְרָ֤ה</td>\n",
       "                        <td id=\"T_ae84dd8e_2a8f_11eb_88d4_acde48001122row0_col2\" class=\"data row0 col2\" >הֲקָצֹ֨ור קָצְרָ֤ה יָדִי֙ מִפְּד֔וּת </td>\n",
       "                        <td id=\"T_ae84dd8e_2a8f_11eb_88d4_acde48001122row0_col3\" class=\"data row0 col3\" >Is</td>\n",
       "                        <td id=\"T_ae84dd8e_2a8f_11eb_88d4_acde48001122row0_col4\" class=\"data row0 col4\" >PRES..IND</td>\n",
       "                        <td id=\"T_ae84dd8e_2a8f_11eb_88d4_acde48001122row0_col5\" class=\"data row0 col5\" >Was</td>\n",
       "                        <td id=\"T_ae84dd8e_2a8f_11eb_88d4_acde48001122row0_col6\" class=\"data row0 col6\" >PAST..IND</td>\n",
       "            </tr>\n",
       "            <tr>\n",
       "                        <th id=\"T_ae84dd8e_2a8f_11eb_88d4_acde48001122level0_row1\" class=\"row_heading level0 row1\" >365071</th>\n",
       "                        <td id=\"T_ae84dd8e_2a8f_11eb_88d4_acde48001122row1_col0\" class=\"data row1 col0\" >Lamentations 4:9</td>\n",
       "                        <td id=\"T_ae84dd8e_2a8f_11eb_88d4_acde48001122row1_col1\" class=\"data row1 col1\" >הָיוּ֙</td>\n",
       "                        <td id=\"T_ae84dd8e_2a8f_11eb_88d4_acde48001122row1_col2\" class=\"data row1 col2\" >טֹובִ֤ים הָיוּ֙ חַלְלֵי־חֶ֔רֶב מֵֽחַלְלֵ֖י רָעָ֑ב שֶׁ֣הֵ֤ם יָז֨וּבוּ֙ מְדֻקָּרִ֔ים מִתְּנוּבֹ֖ת שָׂדָֽי׃ ס </td>\n",
       "                        <td id=\"T_ae84dd8e_2a8f_11eb_88d4_acde48001122row1_col3\" class=\"data row1 col3\" >were</td>\n",
       "                        <td id=\"T_ae84dd8e_2a8f_11eb_88d4_acde48001122row1_col4\" class=\"data row1 col4\" >PAST..IND</td>\n",
       "                        <td id=\"T_ae84dd8e_2a8f_11eb_88d4_acde48001122row1_col5\" class=\"data row1 col5\" >are</td>\n",
       "                        <td id=\"T_ae84dd8e_2a8f_11eb_88d4_acde48001122row1_col6\" class=\"data row1 col6\" >PRES..IND</td>\n",
       "            </tr>\n",
       "            <tr>\n",
       "                        <th id=\"T_ae84dd8e_2a8f_11eb_88d4_acde48001122level0_row2\" class=\"row_heading level0 row2\" >40567</th>\n",
       "                        <td id=\"T_ae84dd8e_2a8f_11eb_88d4_acde48001122row2_col0\" class=\"data row2 col0\" >Exodus 21:36</td>\n",
       "                        <td id=\"T_ae84dd8e_2a8f_11eb_88d4_acde48001122row2_col1\" class=\"data row2 col1\" >נֹודַ֗ע</td>\n",
       "                        <td id=\"T_ae84dd8e_2a8f_11eb_88d4_acde48001122row2_col2\" class=\"data row2 col2\" >אֹ֣ו נֹודַ֗ע כִּ֠י שֹׁ֣ור נַגָּ֥ח הוּא֙ מִתְּמֹ֣ול שִׁלְשֹׁ֔ם </td>\n",
       "                        <td id=\"T_ae84dd8e_2a8f_11eb_88d4_acde48001122row2_col3\" class=\"data row2 col3\" >is</td>\n",
       "                        <td id=\"T_ae84dd8e_2a8f_11eb_88d4_acde48001122row2_col4\" class=\"data row2 col4\" >PRES..IND</td>\n",
       "                        <td id=\"T_ae84dd8e_2a8f_11eb_88d4_acde48001122row2_col5\" class=\"data row2 col5\" >was</td>\n",
       "                        <td id=\"T_ae84dd8e_2a8f_11eb_88d4_acde48001122row2_col6\" class=\"data row2 col6\" >PAST..IND</td>\n",
       "            </tr>\n",
       "            <tr>\n",
       "                        <th id=\"T_ae84dd8e_2a8f_11eb_88d4_acde48001122level0_row3\" class=\"row_heading level0 row3\" >241171</th>\n",
       "                        <td id=\"T_ae84dd8e_2a8f_11eb_88d4_acde48001122row3_col0\" class=\"data row3 col0\" >Jeremiah 13:1</td>\n",
       "                        <td id=\"T_ae84dd8e_2a8f_11eb_88d4_acde48001122row3_col1\" class=\"data row3 col1\" >אָמַ֨ר</td>\n",
       "                        <td id=\"T_ae84dd8e_2a8f_11eb_88d4_acde48001122row3_col2\" class=\"data row3 col2\" >כֹּֽה־אָמַ֨ר יְהוָ֜ה אֵלַ֗י </td>\n",
       "                        <td id=\"T_ae84dd8e_2a8f_11eb_88d4_acde48001122row3_col3\" class=\"data row3 col3\" >says</td>\n",
       "                        <td id=\"T_ae84dd8e_2a8f_11eb_88d4_acde48001122row3_col4\" class=\"data row3 col4\" >PRES..IND</td>\n",
       "                        <td id=\"T_ae84dd8e_2a8f_11eb_88d4_acde48001122row3_col5\" class=\"data row3 col5\" >said</td>\n",
       "                        <td id=\"T_ae84dd8e_2a8f_11eb_88d4_acde48001122row3_col6\" class=\"data row3 col6\" >PAST..IND</td>\n",
       "            </tr>\n",
       "            <tr>\n",
       "                        <th id=\"T_ae84dd8e_2a8f_11eb_88d4_acde48001122level0_row4\" class=\"row_heading level0 row4\" >277733</th>\n",
       "                        <td id=\"T_ae84dd8e_2a8f_11eb_88d4_acde48001122row4_col0\" class=\"data row4 col0\" >Ezekiel 26:17</td>\n",
       "                        <td id=\"T_ae84dd8e_2a8f_11eb_88d4_acde48001122row4_col1\" class=\"data row4 col1\" >נָתְנ֥וּ</td>\n",
       "                        <td id=\"T_ae84dd8e_2a8f_11eb_88d4_acde48001122row4_col2\" class=\"data row4 col2\" >הָעִ֣יר הַהֻלָּ֗לָה אֲשֶׁר֩ הָיְתָ֨ה חֲזָקָ֤ה בַיָּם֙ הִ֣יא וְיֹשְׁבֶ֔יהָ אֲשֶׁר־נָתְנ֥וּ חִתִּיתָ֖ם לְכָל־יֹושְׁבֶֽיהָ׃ </td>\n",
       "                        <td id=\"T_ae84dd8e_2a8f_11eb_88d4_acde48001122row4_col3\" class=\"data row4 col3\" >imposed</td>\n",
       "                        <td id=\"T_ae84dd8e_2a8f_11eb_88d4_acde48001122row4_col4\" class=\"data row4 col4\" >PAST..IND</td>\n",
       "                        <td id=\"T_ae84dd8e_2a8f_11eb_88d4_acde48001122row4_col5\" class=\"data row4 col5\" >put</td>\n",
       "                        <td id=\"T_ae84dd8e_2a8f_11eb_88d4_acde48001122row4_col6\" class=\"data row4 col6\" >PRES..IND</td>\n",
       "            </tr>\n",
       "            <tr>\n",
       "                        <th id=\"T_ae84dd8e_2a8f_11eb_88d4_acde48001122level0_row5\" class=\"row_heading level0 row5\" >218031</th>\n",
       "                        <td id=\"T_ae84dd8e_2a8f_11eb_88d4_acde48001122row5_col0\" class=\"data row5 col0\" >Isaiah 18:4</td>\n",
       "                        <td id=\"T_ae84dd8e_2a8f_11eb_88d4_acde48001122row5_col1\" class=\"data row5 col1\" >אָמַ֤ר</td>\n",
       "                        <td id=\"T_ae84dd8e_2a8f_11eb_88d4_acde48001122row5_col2\" class=\"data row5 col2\" >כִּי֩ כֹ֨ה אָמַ֤ר יְהוָה֙ אֵלַ֔י </td>\n",
       "                        <td id=\"T_ae84dd8e_2a8f_11eb_88d4_acde48001122row5_col3\" class=\"data row5 col3\" >said</td>\n",
       "                        <td id=\"T_ae84dd8e_2a8f_11eb_88d4_acde48001122row5_col4\" class=\"data row5 col4\" >PAST..IND</td>\n",
       "                        <td id=\"T_ae84dd8e_2a8f_11eb_88d4_acde48001122row5_col5\" class=\"data row5 col5\" >says</td>\n",
       "                        <td id=\"T_ae84dd8e_2a8f_11eb_88d4_acde48001122row5_col6\" class=\"data row5 col6\" >PRES..IND</td>\n",
       "            </tr>\n",
       "            <tr>\n",
       "                        <th id=\"T_ae84dd8e_2a8f_11eb_88d4_acde48001122level0_row6\" class=\"row_heading level0 row6\" >319568</th>\n",
       "                        <td id=\"T_ae84dd8e_2a8f_11eb_88d4_acde48001122row6_col0\" class=\"data row6 col0\" >Psalms 55:21</td>\n",
       "                        <td id=\"T_ae84dd8e_2a8f_11eb_88d4_acde48001122row6_col1\" class=\"data row6 col1\" >שָׁלַ֣ח</td>\n",
       "                        <td id=\"T_ae84dd8e_2a8f_11eb_88d4_acde48001122row6_col2\" class=\"data row6 col2\" >שָׁלַ֣ח יָ֭דָיו בִּשְׁלֹמָ֗יו </td>\n",
       "                        <td id=\"T_ae84dd8e_2a8f_11eb_88d4_acde48001122row6_col3\" class=\"data row6 col3\" >stretched</td>\n",
       "                        <td id=\"T_ae84dd8e_2a8f_11eb_88d4_acde48001122row6_col4\" class=\"data row6 col4\" >PAST..IND</td>\n",
       "                        <td id=\"T_ae84dd8e_2a8f_11eb_88d4_acde48001122row6_col5\" class=\"data row6 col5\" >attacks</td>\n",
       "                        <td id=\"T_ae84dd8e_2a8f_11eb_88d4_acde48001122row6_col6\" class=\"data row6 col6\" >PRES..IND</td>\n",
       "            </tr>\n",
       "            <tr>\n",
       "                        <th id=\"T_ae84dd8e_2a8f_11eb_88d4_acde48001122level0_row7\" class=\"row_heading level0 row7\" >322686</th>\n",
       "                        <td id=\"T_ae84dd8e_2a8f_11eb_88d4_acde48001122row7_col0\" class=\"data row7 col0\" >Psalms 73:18</td>\n",
       "                        <td id=\"T_ae84dd8e_2a8f_11eb_88d4_acde48001122row7_col1\" class=\"data row7 col1\" >הִ֝פַּלְתָּ֗ם</td>\n",
       "                        <td id=\"T_ae84dd8e_2a8f_11eb_88d4_acde48001122row7_col2\" class=\"data row7 col2\" >הִ֝פַּלְתָּ֗ם לְמַשּׁוּאֹֽות׃ </td>\n",
       "                        <td id=\"T_ae84dd8e_2a8f_11eb_88d4_acde48001122row7_col3\" class=\"data row7 col3\" >make</td>\n",
       "                        <td id=\"T_ae84dd8e_2a8f_11eb_88d4_acde48001122row7_col4\" class=\"data row7 col4\" >PRES..IND</td>\n",
       "                        <td id=\"T_ae84dd8e_2a8f_11eb_88d4_acde48001122row7_col5\" class=\"data row7 col5\" >cast</td>\n",
       "                        <td id=\"T_ae84dd8e_2a8f_11eb_88d4_acde48001122row7_col6\" class=\"data row7 col6\" >PAST..IND</td>\n",
       "            </tr>\n",
       "            <tr>\n",
       "                        <th id=\"T_ae84dd8e_2a8f_11eb_88d4_acde48001122level0_row8\" class=\"row_heading level0 row8\" >357720</th>\n",
       "                        <td id=\"T_ae84dd8e_2a8f_11eb_88d4_acde48001122row8_col0\" class=\"data row8 col0\" >Song_of_songs 1:9</td>\n",
       "                        <td id=\"T_ae84dd8e_2a8f_11eb_88d4_acde48001122row8_col1\" class=\"data row8 col1\" >דִּמִּיתִ֖יךְ</td>\n",
       "                        <td id=\"T_ae84dd8e_2a8f_11eb_88d4_acde48001122row8_col2\" class=\"data row8 col2\" >לְסֻסָתִי֙ בְּרִכְבֵ֣י פַרְעֹ֔ה דִּמִּיתִ֖יךְ רַעְיָתִֽי׃ </td>\n",
       "                        <td id=\"T_ae84dd8e_2a8f_11eb_88d4_acde48001122row8_col3\" class=\"data row8 col3\" >compare</td>\n",
       "                        <td id=\"T_ae84dd8e_2a8f_11eb_88d4_acde48001122row8_col4\" class=\"data row8 col4\" >PRES..IND</td>\n",
       "                        <td id=\"T_ae84dd8e_2a8f_11eb_88d4_acde48001122row8_col5\" class=\"data row8 col5\" >liken</td>\n",
       "                        <td id=\"T_ae84dd8e_2a8f_11eb_88d4_acde48001122row8_col6\" class=\"data row8 col6\" >PAST..IND</td>\n",
       "            </tr>\n",
       "            <tr>\n",
       "                        <th id=\"T_ae84dd8e_2a8f_11eb_88d4_acde48001122level0_row9\" class=\"row_heading level0 row9\" >360332</th>\n",
       "                        <td id=\"T_ae84dd8e_2a8f_11eb_88d4_acde48001122row9_col0\" class=\"data row9 col0\" >Ecclesiastes 3:14</td>\n",
       "                        <td id=\"T_ae84dd8e_2a8f_11eb_88d4_acde48001122row9_col1\" class=\"data row9 col1\" >יָדַ֗עְתִּי</td>\n",
       "                        <td id=\"T_ae84dd8e_2a8f_11eb_88d4_acde48001122row9_col2\" class=\"data row9 col2\" >יָדַ֗עְתִּי כִּ֠י כָּל־אֲשֶׁ֨ר יַעֲשֶׂ֤ה הָאֱלֹהִים֙ ה֚וּא יִהְיֶ֣ה לְעֹולָ֔ם </td>\n",
       "                        <td id=\"T_ae84dd8e_2a8f_11eb_88d4_acde48001122row9_col3\" class=\"data row9 col3\" >perceived</td>\n",
       "                        <td id=\"T_ae84dd8e_2a8f_11eb_88d4_acde48001122row9_col4\" class=\"data row9 col4\" >PAST..IND</td>\n",
       "                        <td id=\"T_ae84dd8e_2a8f_11eb_88d4_acde48001122row9_col5\" class=\"data row9 col5\" >know</td>\n",
       "                        <td id=\"T_ae84dd8e_2a8f_11eb_88d4_acde48001122row9_col6\" class=\"data row9 col6\" >PRES..IND</td>\n",
       "            </tr>\n",
       "    </tbody></table>"
      ],
      "text/plain": [
       "<pandas.io.formats.style.Styler at 0x7fd40d9f4070>"
      ]
     },
     "execution_count": 128,
     "metadata": {},
     "output_type": "execute_result"
    }
   ],
   "source": [
    "ts.show(eng_df[eng_df.TAM_inter == 'PAST..IND ~ PRES..IND'], spread=10)"
   ]
  },
  {
   "cell_type": "markdown",
   "metadata": {},
   "source": [
    "### TAM interchanges by discourse type"
   ]
  },
  {
   "cell_type": "code",
   "execution_count": 25,
   "metadata": {},
   "outputs": [
    {
     "name": "stdout",
     "output_type": "stream",
     "text": [
      "counts:\n"
     ]
    },
    {
     "data": {
      "text/html": [
       "<div>\n",
       "<style scoped>\n",
       "    .dataframe tbody tr th:only-of-type {\n",
       "        vertical-align: middle;\n",
       "    }\n",
       "\n",
       "    .dataframe tbody tr th {\n",
       "        vertical-align: top;\n",
       "    }\n",
       "\n",
       "    .dataframe thead th {\n",
       "        text-align: right;\n",
       "    }\n",
       "</style>\n",
       "<table border=\"1\" class=\"dataframe\">\n",
       "  <thead>\n",
       "    <tr style=\"text-align: right;\">\n",
       "      <th>TAM_inter</th>\n",
       "      <th>PAST..IND ~ PRES.PERF.IND</th>\n",
       "      <th>PRES..IND ~ PRES.PERF.IND</th>\n",
       "      <th>PAST..IND ~ PAST.PERF.IND</th>\n",
       "      <th>PAST..IND ~ PRES..IND</th>\n",
       "      <th>PAST.PERF.IND ~ PRES.PERF.IND</th>\n",
       "      <th>PAST.PERF.IND ~ PRES..IND</th>\n",
       "    </tr>\n",
       "    <tr>\n",
       "      <th>domain2</th>\n",
       "      <th></th>\n",
       "      <th></th>\n",
       "      <th></th>\n",
       "      <th></th>\n",
       "      <th></th>\n",
       "      <th></th>\n",
       "    </tr>\n",
       "  </thead>\n",
       "  <tbody>\n",
       "    <tr>\n",
       "      <th>Q</th>\n",
       "      <td>575</td>\n",
       "      <td>397</td>\n",
       "      <td>86</td>\n",
       "      <td>180</td>\n",
       "      <td>46</td>\n",
       "      <td>3</td>\n",
       "    </tr>\n",
       "    <tr>\n",
       "      <th>N</th>\n",
       "      <td>3</td>\n",
       "      <td>8</td>\n",
       "      <td>297</td>\n",
       "      <td>12</td>\n",
       "      <td>2</td>\n",
       "      <td>0</td>\n",
       "    </tr>\n",
       "    <tr>\n",
       "      <th>?</th>\n",
       "      <td>6</td>\n",
       "      <td>10</td>\n",
       "      <td>25</td>\n",
       "      <td>6</td>\n",
       "      <td>0</td>\n",
       "      <td>0</td>\n",
       "    </tr>\n",
       "    <tr>\n",
       "      <th>D</th>\n",
       "      <td>6</td>\n",
       "      <td>5</td>\n",
       "      <td>1</td>\n",
       "      <td>9</td>\n",
       "      <td>0</td>\n",
       "      <td>0</td>\n",
       "    </tr>\n",
       "  </tbody>\n",
       "</table>\n",
       "</div>"
      ],
      "text/plain": [
       "TAM_inter  PAST..IND ~ PRES.PERF.IND  ...  PAST.PERF.IND ~ PRES..IND\n",
       "domain2                               ...                           \n",
       "Q                                575  ...                          3\n",
       "N                                  3  ...                          0\n",
       "?                                  6  ...                          0\n",
       "D                                  6  ...                          0\n",
       "\n",
       "[4 rows x 6 columns]"
      ]
     },
     "metadata": {},
     "output_type": "display_data"
    },
    {
     "name": "stdout",
     "output_type": "stream",
     "text": [
      "\n",
      "proportions 1:\n"
     ]
    },
    {
     "data": {
      "text/html": [
       "<style  type=\"text/css\" >\n",
       "#T_367c3aba_2a6e_11eb_88d4_acde48001122row0_col0,#T_367c3aba_2a6e_11eb_88d4_acde48001122row1_col2,#T_367c3aba_2a6e_11eb_88d4_acde48001122row2_col2,#T_367c3aba_2a6e_11eb_88d4_acde48001122row3_col3{\n",
       "            color:  red;\n",
       "        }</style><table id=\"T_367c3aba_2a6e_11eb_88d4_acde48001122\" ><thead>    <tr>        <th class=\"index_name level0\" >TAM_inter</th>        <th class=\"col_heading level0 col0\" >PAST..IND ~ PRES.PERF.IND</th>        <th class=\"col_heading level0 col1\" >PRES..IND ~ PRES.PERF.IND</th>        <th class=\"col_heading level0 col2\" >PAST..IND ~ PAST.PERF.IND</th>        <th class=\"col_heading level0 col3\" >PAST..IND ~ PRES..IND</th>        <th class=\"col_heading level0 col4\" >PAST.PERF.IND ~ PRES.PERF.IND</th>        <th class=\"col_heading level0 col5\" >PAST.PERF.IND ~ PRES..IND</th>    </tr>    <tr>        <th class=\"index_name level0\" >domain2</th>        <th class=\"blank\" ></th>        <th class=\"blank\" ></th>        <th class=\"blank\" ></th>        <th class=\"blank\" ></th>        <th class=\"blank\" ></th>        <th class=\"blank\" ></th>    </tr></thead><tbody>\n",
       "                <tr>\n",
       "                        <th id=\"T_367c3aba_2a6e_11eb_88d4_acde48001122level0_row0\" class=\"row_heading level0 row0\" >Q</th>\n",
       "                        <td id=\"T_367c3aba_2a6e_11eb_88d4_acde48001122row0_col0\" class=\"data row0 col0\" >0.446775</td>\n",
       "                        <td id=\"T_367c3aba_2a6e_11eb_88d4_acde48001122row0_col1\" class=\"data row0 col1\" >0.308469</td>\n",
       "                        <td id=\"T_367c3aba_2a6e_11eb_88d4_acde48001122row0_col2\" class=\"data row0 col2\" >0.066822</td>\n",
       "                        <td id=\"T_367c3aba_2a6e_11eb_88d4_acde48001122row0_col3\" class=\"data row0 col3\" >0.139860</td>\n",
       "                        <td id=\"T_367c3aba_2a6e_11eb_88d4_acde48001122row0_col4\" class=\"data row0 col4\" >0.035742</td>\n",
       "                        <td id=\"T_367c3aba_2a6e_11eb_88d4_acde48001122row0_col5\" class=\"data row0 col5\" >0.002331</td>\n",
       "            </tr>\n",
       "            <tr>\n",
       "                        <th id=\"T_367c3aba_2a6e_11eb_88d4_acde48001122level0_row1\" class=\"row_heading level0 row1\" >N</th>\n",
       "                        <td id=\"T_367c3aba_2a6e_11eb_88d4_acde48001122row1_col0\" class=\"data row1 col0\" >0.009317</td>\n",
       "                        <td id=\"T_367c3aba_2a6e_11eb_88d4_acde48001122row1_col1\" class=\"data row1 col1\" >0.024845</td>\n",
       "                        <td id=\"T_367c3aba_2a6e_11eb_88d4_acde48001122row1_col2\" class=\"data row1 col2\" >0.922360</td>\n",
       "                        <td id=\"T_367c3aba_2a6e_11eb_88d4_acde48001122row1_col3\" class=\"data row1 col3\" >0.037267</td>\n",
       "                        <td id=\"T_367c3aba_2a6e_11eb_88d4_acde48001122row1_col4\" class=\"data row1 col4\" >0.006211</td>\n",
       "                        <td id=\"T_367c3aba_2a6e_11eb_88d4_acde48001122row1_col5\" class=\"data row1 col5\" >0.000000</td>\n",
       "            </tr>\n",
       "            <tr>\n",
       "                        <th id=\"T_367c3aba_2a6e_11eb_88d4_acde48001122level0_row2\" class=\"row_heading level0 row2\" >?</th>\n",
       "                        <td id=\"T_367c3aba_2a6e_11eb_88d4_acde48001122row2_col0\" class=\"data row2 col0\" >0.127660</td>\n",
       "                        <td id=\"T_367c3aba_2a6e_11eb_88d4_acde48001122row2_col1\" class=\"data row2 col1\" >0.212766</td>\n",
       "                        <td id=\"T_367c3aba_2a6e_11eb_88d4_acde48001122row2_col2\" class=\"data row2 col2\" >0.531915</td>\n",
       "                        <td id=\"T_367c3aba_2a6e_11eb_88d4_acde48001122row2_col3\" class=\"data row2 col3\" >0.127660</td>\n",
       "                        <td id=\"T_367c3aba_2a6e_11eb_88d4_acde48001122row2_col4\" class=\"data row2 col4\" >0.000000</td>\n",
       "                        <td id=\"T_367c3aba_2a6e_11eb_88d4_acde48001122row2_col5\" class=\"data row2 col5\" >0.000000</td>\n",
       "            </tr>\n",
       "            <tr>\n",
       "                        <th id=\"T_367c3aba_2a6e_11eb_88d4_acde48001122level0_row3\" class=\"row_heading level0 row3\" >D</th>\n",
       "                        <td id=\"T_367c3aba_2a6e_11eb_88d4_acde48001122row3_col0\" class=\"data row3 col0\" >0.285714</td>\n",
       "                        <td id=\"T_367c3aba_2a6e_11eb_88d4_acde48001122row3_col1\" class=\"data row3 col1\" >0.238095</td>\n",
       "                        <td id=\"T_367c3aba_2a6e_11eb_88d4_acde48001122row3_col2\" class=\"data row3 col2\" >0.047619</td>\n",
       "                        <td id=\"T_367c3aba_2a6e_11eb_88d4_acde48001122row3_col3\" class=\"data row3 col3\" >0.428571</td>\n",
       "                        <td id=\"T_367c3aba_2a6e_11eb_88d4_acde48001122row3_col4\" class=\"data row3 col4\" >0.000000</td>\n",
       "                        <td id=\"T_367c3aba_2a6e_11eb_88d4_acde48001122row3_col5\" class=\"data row3 col5\" >0.000000</td>\n",
       "            </tr>\n",
       "    </tbody></table>"
      ],
      "text/plain": [
       "<pandas.io.formats.style.Styler at 0x7fd40c304490>"
      ]
     },
     "metadata": {},
     "output_type": "display_data"
    },
    {
     "name": "stdout",
     "output_type": "stream",
     "text": [
      "\n",
      "proportions 2:\n"
     ]
    },
    {
     "data": {
      "text/html": [
       "<style  type=\"text/css\" >\n",
       "#T_3694e010_2a6e_11eb_88d4_acde48001122row0_col0,#T_3694e010_2a6e_11eb_88d4_acde48001122row1_col0,#T_3694e010_2a6e_11eb_88d4_acde48001122row2_col1,#T_3694e010_2a6e_11eb_88d4_acde48001122row3_col0,#T_3694e010_2a6e_11eb_88d4_acde48001122row4_col0,#T_3694e010_2a6e_11eb_88d4_acde48001122row5_col0{\n",
       "            color:  red;\n",
       "        }</style><table id=\"T_3694e010_2a6e_11eb_88d4_acde48001122\" ><thead>    <tr>        <th class=\"index_name level0\" >domain2</th>        <th class=\"col_heading level0 col0\" >Q</th>        <th class=\"col_heading level0 col1\" >N</th>        <th class=\"col_heading level0 col2\" >?</th>        <th class=\"col_heading level0 col3\" >D</th>    </tr>    <tr>        <th class=\"index_name level0\" >TAM_inter</th>        <th class=\"blank\" ></th>        <th class=\"blank\" ></th>        <th class=\"blank\" ></th>        <th class=\"blank\" ></th>    </tr></thead><tbody>\n",
       "                <tr>\n",
       "                        <th id=\"T_3694e010_2a6e_11eb_88d4_acde48001122level0_row0\" class=\"row_heading level0 row0\" >PAST..IND ~ PRES.PERF.IND</th>\n",
       "                        <td id=\"T_3694e010_2a6e_11eb_88d4_acde48001122row0_col0\" class=\"data row0 col0\" >0.974576</td>\n",
       "                        <td id=\"T_3694e010_2a6e_11eb_88d4_acde48001122row0_col1\" class=\"data row0 col1\" >0.005085</td>\n",
       "                        <td id=\"T_3694e010_2a6e_11eb_88d4_acde48001122row0_col2\" class=\"data row0 col2\" >0.010169</td>\n",
       "                        <td id=\"T_3694e010_2a6e_11eb_88d4_acde48001122row0_col3\" class=\"data row0 col3\" >0.010169</td>\n",
       "            </tr>\n",
       "            <tr>\n",
       "                        <th id=\"T_3694e010_2a6e_11eb_88d4_acde48001122level0_row1\" class=\"row_heading level0 row1\" >PRES..IND ~ PRES.PERF.IND</th>\n",
       "                        <td id=\"T_3694e010_2a6e_11eb_88d4_acde48001122row1_col0\" class=\"data row1 col0\" >0.945238</td>\n",
       "                        <td id=\"T_3694e010_2a6e_11eb_88d4_acde48001122row1_col1\" class=\"data row1 col1\" >0.019048</td>\n",
       "                        <td id=\"T_3694e010_2a6e_11eb_88d4_acde48001122row1_col2\" class=\"data row1 col2\" >0.023810</td>\n",
       "                        <td id=\"T_3694e010_2a6e_11eb_88d4_acde48001122row1_col3\" class=\"data row1 col3\" >0.011905</td>\n",
       "            </tr>\n",
       "            <tr>\n",
       "                        <th id=\"T_3694e010_2a6e_11eb_88d4_acde48001122level0_row2\" class=\"row_heading level0 row2\" >PAST..IND ~ PAST.PERF.IND</th>\n",
       "                        <td id=\"T_3694e010_2a6e_11eb_88d4_acde48001122row2_col0\" class=\"data row2 col0\" >0.210269</td>\n",
       "                        <td id=\"T_3694e010_2a6e_11eb_88d4_acde48001122row2_col1\" class=\"data row2 col1\" >0.726161</td>\n",
       "                        <td id=\"T_3694e010_2a6e_11eb_88d4_acde48001122row2_col2\" class=\"data row2 col2\" >0.061125</td>\n",
       "                        <td id=\"T_3694e010_2a6e_11eb_88d4_acde48001122row2_col3\" class=\"data row2 col3\" >0.002445</td>\n",
       "            </tr>\n",
       "            <tr>\n",
       "                        <th id=\"T_3694e010_2a6e_11eb_88d4_acde48001122level0_row3\" class=\"row_heading level0 row3\" >PAST..IND ~ PRES..IND</th>\n",
       "                        <td id=\"T_3694e010_2a6e_11eb_88d4_acde48001122row3_col0\" class=\"data row3 col0\" >0.869565</td>\n",
       "                        <td id=\"T_3694e010_2a6e_11eb_88d4_acde48001122row3_col1\" class=\"data row3 col1\" >0.057971</td>\n",
       "                        <td id=\"T_3694e010_2a6e_11eb_88d4_acde48001122row3_col2\" class=\"data row3 col2\" >0.028986</td>\n",
       "                        <td id=\"T_3694e010_2a6e_11eb_88d4_acde48001122row3_col3\" class=\"data row3 col3\" >0.043478</td>\n",
       "            </tr>\n",
       "            <tr>\n",
       "                        <th id=\"T_3694e010_2a6e_11eb_88d4_acde48001122level0_row4\" class=\"row_heading level0 row4\" >PAST.PERF.IND ~ PRES.PERF.IND</th>\n",
       "                        <td id=\"T_3694e010_2a6e_11eb_88d4_acde48001122row4_col0\" class=\"data row4 col0\" >0.958333</td>\n",
       "                        <td id=\"T_3694e010_2a6e_11eb_88d4_acde48001122row4_col1\" class=\"data row4 col1\" >0.041667</td>\n",
       "                        <td id=\"T_3694e010_2a6e_11eb_88d4_acde48001122row4_col2\" class=\"data row4 col2\" >0.000000</td>\n",
       "                        <td id=\"T_3694e010_2a6e_11eb_88d4_acde48001122row4_col3\" class=\"data row4 col3\" >0.000000</td>\n",
       "            </tr>\n",
       "            <tr>\n",
       "                        <th id=\"T_3694e010_2a6e_11eb_88d4_acde48001122level0_row5\" class=\"row_heading level0 row5\" >PAST.PERF.IND ~ PRES..IND</th>\n",
       "                        <td id=\"T_3694e010_2a6e_11eb_88d4_acde48001122row5_col0\" class=\"data row5 col0\" >1.000000</td>\n",
       "                        <td id=\"T_3694e010_2a6e_11eb_88d4_acde48001122row5_col1\" class=\"data row5 col1\" >0.000000</td>\n",
       "                        <td id=\"T_3694e010_2a6e_11eb_88d4_acde48001122row5_col2\" class=\"data row5 col2\" >0.000000</td>\n",
       "                        <td id=\"T_3694e010_2a6e_11eb_88d4_acde48001122row5_col3\" class=\"data row5 col3\" >0.000000</td>\n",
       "            </tr>\n",
       "    </tbody></table>"
      ],
      "text/plain": [
       "<pandas.io.formats.style.Styler at 0x7fd40c2ff250>"
      ]
     },
     "metadata": {},
     "output_type": "display_data"
    },
    {
     "name": "stdout",
     "output_type": "stream",
     "text": [
      "\n",
      "Fisher's test with log transform:\n"
     ]
    },
    {
     "data": {
      "image/png": "[encoded data removed]",
      "text/plain": [
       "<Figure size 432x288 with 2 Axes>"
      ]
     },
     "metadata": {
      "needs_background": "light"
     },
     "output_type": "display_data"
    }
   ],
   "source": [
    "disc_tami = Analyze(eng_df, index='domain2', columns='TAM_inter')\n",
    "\n",
    "disc_tami.show()"
   ]
  },
  {
   "cell_type": "markdown",
   "metadata": {},
   "source": [
    "## English TAM by Context"
   ]
  },
  {
   "cell_type": "code",
   "execution_count": 147,
   "metadata": {},
   "outputs": [
    {
     "name": "stdout",
     "output_type": "stream",
     "text": [
      "setting up analyses...\n",
      "\tdone!\n"
     ]
    }
   ],
   "source": [
    "engag_df = eng_df[eng_df.disagree == 0]\n",
    "\n",
    "engdat = AnalysisSet(\n",
    "    ['genre', [engag_df[engag_df.genre.isin(main_genre)]], {'index': 'esv_TAM', 'columns':'genre'}],\n",
    "    ['domain', [engag_df], {'index': 'esv_TAM', 'columns': 'domain2'}],\n",
    "    ['period', [engag_df], {'index': 'esv_TAM', 'columns': 'period'}],\n",
    "    [\n",
    "        'pergen', \n",
    "        [engag_df[engag_df.genre.isin(main_genre)]], \n",
    "        {'index': 'esv_TAM', 'columns': ['period', 'genre']}\n",
    "    ],\n",
    "    [\n",
    "        'perdom', \n",
    "        [engag_df[(engag_df.genre.isin(main_genre)) & (engag_df.domain2.isin(main_dom))]],\n",
    "        {'index': 'esv_TAM', 'columns': ['period', 'domain2']},\n",
    "    ],\n",
    "    [\n",
    "        'gendom', \n",
    "        [engag_df[(engag_df.domain2.isin(main_dom)) & (engag_df.genre.isin(main_genre))]], \n",
    "        {'index': ['genre','domain2'], 'columns': 'esv_TAM'},\n",
    "    ],\n",
    ")"
   ]
  },
  {
   "cell_type": "markdown",
   "metadata": {},
   "source": [
    "### Genre"
   ]
  },
  {
   "cell_type": "code",
   "execution_count": 148,
   "metadata": {},
   "outputs": [
    {
     "name": "stdout",
     "output_type": "stream",
     "text": [
      "counts:\n"
     ]
    },
    {
     "data": {
      "text/html": [
       "<div>\n",
       "<style scoped>\n",
       "    .dataframe tbody tr th:only-of-type {\n",
       "        vertical-align: middle;\n",
       "    }\n",
       "\n",
       "    .dataframe tbody tr th {\n",
       "        vertical-align: top;\n",
       "    }\n",
       "\n",
       "    .dataframe thead th {\n",
       "        text-align: right;\n",
       "    }\n",
       "</style>\n",
       "<table border=\"1\" class=\"dataframe\">\n",
       "  <thead>\n",
       "    <tr style=\"text-align: right;\">\n",
       "      <th>genre</th>\n",
       "      <th>prose</th>\n",
       "      <th>prophetic</th>\n",
       "      <th>poetry</th>\n",
       "    </tr>\n",
       "    <tr>\n",
       "      <th>esv_TAM</th>\n",
       "      <th></th>\n",
       "      <th></th>\n",
       "      <th></th>\n",
       "    </tr>\n",
       "  </thead>\n",
       "  <tbody>\n",
       "    <tr>\n",
       "      <th>PAST..IND</th>\n",
       "      <td>2472</td>\n",
       "      <td>703</td>\n",
       "      <td>559</td>\n",
       "    </tr>\n",
       "    <tr>\n",
       "      <th>PRES.PERF.IND</th>\n",
       "      <td>1031</td>\n",
       "      <td>720</td>\n",
       "      <td>468</td>\n",
       "    </tr>\n",
       "    <tr>\n",
       "      <th>PRES..IND</th>\n",
       "      <td>350</td>\n",
       "      <td>940</td>\n",
       "      <td>723</td>\n",
       "    </tr>\n",
       "    <tr>\n",
       "      <th>PAST.PERF.IND</th>\n",
       "      <td>654</td>\n",
       "      <td>73</td>\n",
       "      <td>30</td>\n",
       "    </tr>\n",
       "  </tbody>\n",
       "</table>\n",
       "</div>"
      ],
      "text/plain": [
       "genre          prose  prophetic  poetry\n",
       "esv_TAM                                \n",
       "PAST..IND       2472        703     559\n",
       "PRES.PERF.IND   1031        720     468\n",
       "PRES..IND        350        940     723\n",
       "PAST.PERF.IND    654         73      30"
      ]
     },
     "metadata": {},
     "output_type": "display_data"
    },
    {
     "name": "stdout",
     "output_type": "stream",
     "text": [
      "\n",
      "proportions 1:\n"
     ]
    },
    {
     "data": {
      "text/html": [
       "<style  type=\"text/css\" >\n",
       "#T_e4406d82_2a92_11eb_88d4_acde48001122row0_col0,#T_e4406d82_2a92_11eb_88d4_acde48001122row1_col0,#T_e4406d82_2a92_11eb_88d4_acde48001122row2_col1,#T_e4406d82_2a92_11eb_88d4_acde48001122row3_col0{\n",
       "            color:  red;\n",
       "        }</style><table id=\"T_e4406d82_2a92_11eb_88d4_acde48001122\" ><thead>    <tr>        <th class=\"index_name level0\" >genre</th>        <th class=\"col_heading level0 col0\" >prose</th>        <th class=\"col_heading level0 col1\" >prophetic</th>        <th class=\"col_heading level0 col2\" >poetry</th>    </tr>    <tr>        <th class=\"index_name level0\" >esv_TAM</th>        <th class=\"blank\" ></th>        <th class=\"blank\" ></th>        <th class=\"blank\" ></th>    </tr></thead><tbody>\n",
       "                <tr>\n",
       "                        <th id=\"T_e4406d82_2a92_11eb_88d4_acde48001122level0_row0\" class=\"row_heading level0 row0\" >PAST..IND</th>\n",
       "                        <td id=\"T_e4406d82_2a92_11eb_88d4_acde48001122row0_col0\" class=\"data row0 col0\" >0.662025</td>\n",
       "                        <td id=\"T_e4406d82_2a92_11eb_88d4_acde48001122row0_col1\" class=\"data row0 col1\" >0.188270</td>\n",
       "                        <td id=\"T_e4406d82_2a92_11eb_88d4_acde48001122row0_col2\" class=\"data row0 col2\" >0.149705</td>\n",
       "            </tr>\n",
       "            <tr>\n",
       "                        <th id=\"T_e4406d82_2a92_11eb_88d4_acde48001122level0_row1\" class=\"row_heading level0 row1\" >PRES.PERF.IND</th>\n",
       "                        <td id=\"T_e4406d82_2a92_11eb_88d4_acde48001122row1_col0\" class=\"data row1 col0\" >0.464624</td>\n",
       "                        <td id=\"T_e4406d82_2a92_11eb_88d4_acde48001122row1_col1\" class=\"data row1 col1\" >0.324470</td>\n",
       "                        <td id=\"T_e4406d82_2a92_11eb_88d4_acde48001122row1_col2\" class=\"data row1 col2\" >0.210906</td>\n",
       "            </tr>\n",
       "            <tr>\n",
       "                        <th id=\"T_e4406d82_2a92_11eb_88d4_acde48001122level0_row2\" class=\"row_heading level0 row2\" >PRES..IND</th>\n",
       "                        <td id=\"T_e4406d82_2a92_11eb_88d4_acde48001122row2_col0\" class=\"data row2 col0\" >0.173870</td>\n",
       "                        <td id=\"T_e4406d82_2a92_11eb_88d4_acde48001122row2_col1\" class=\"data row2 col1\" >0.466965</td>\n",
       "                        <td id=\"T_e4406d82_2a92_11eb_88d4_acde48001122row2_col2\" class=\"data row2 col2\" >0.359165</td>\n",
       "            </tr>\n",
       "            <tr>\n",
       "                        <th id=\"T_e4406d82_2a92_11eb_88d4_acde48001122level0_row3\" class=\"row_heading level0 row3\" >PAST.PERF.IND</th>\n",
       "                        <td id=\"T_e4406d82_2a92_11eb_88d4_acde48001122row3_col0\" class=\"data row3 col0\" >0.863937</td>\n",
       "                        <td id=\"T_e4406d82_2a92_11eb_88d4_acde48001122row3_col1\" class=\"data row3 col1\" >0.096433</td>\n",
       "                        <td id=\"T_e4406d82_2a92_11eb_88d4_acde48001122row3_col2\" class=\"data row3 col2\" >0.039630</td>\n",
       "            </tr>\n",
       "    </tbody></table>"
      ],
      "text/plain": [
       "<pandas.io.formats.style.Styler at 0x7fd4105cac10>"
      ]
     },
     "metadata": {},
     "output_type": "display_data"
    },
    {
     "name": "stdout",
     "output_type": "stream",
     "text": [
      "\n",
      "proportions 2:\n"
     ]
    },
    {
     "data": {
      "text/html": [
       "<style  type=\"text/css\" >\n",
       "#T_e4420fc0_2a92_11eb_88d4_acde48001122row0_col0,#T_e4420fc0_2a92_11eb_88d4_acde48001122row1_col2,#T_e4420fc0_2a92_11eb_88d4_acde48001122row2_col2{\n",
       "            color:  red;\n",
       "        }</style><table id=\"T_e4420fc0_2a92_11eb_88d4_acde48001122\" ><thead>    <tr>        <th class=\"index_name level0\" >esv_TAM</th>        <th class=\"col_heading level0 col0\" >PAST..IND</th>        <th class=\"col_heading level0 col1\" >PRES.PERF.IND</th>        <th class=\"col_heading level0 col2\" >PRES..IND</th>        <th class=\"col_heading level0 col3\" >PAST.PERF.IND</th>    </tr>    <tr>        <th class=\"index_name level0\" >genre</th>        <th class=\"blank\" ></th>        <th class=\"blank\" ></th>        <th class=\"blank\" ></th>        <th class=\"blank\" ></th>    </tr></thead><tbody>\n",
       "                <tr>\n",
       "                        <th id=\"T_e4420fc0_2a92_11eb_88d4_acde48001122level0_row0\" class=\"row_heading level0 row0\" >prose</th>\n",
       "                        <td id=\"T_e4420fc0_2a92_11eb_88d4_acde48001122row0_col0\" class=\"data row0 col0\" >0.548480</td>\n",
       "                        <td id=\"T_e4420fc0_2a92_11eb_88d4_acde48001122row0_col1\" class=\"data row0 col1\" >0.228755</td>\n",
       "                        <td id=\"T_e4420fc0_2a92_11eb_88d4_acde48001122row0_col2\" class=\"data row0 col2\" >0.077657</td>\n",
       "                        <td id=\"T_e4420fc0_2a92_11eb_88d4_acde48001122row0_col3\" class=\"data row0 col3\" >0.145108</td>\n",
       "            </tr>\n",
       "            <tr>\n",
       "                        <th id=\"T_e4420fc0_2a92_11eb_88d4_acde48001122level0_row1\" class=\"row_heading level0 row1\" >prophetic</th>\n",
       "                        <td id=\"T_e4420fc0_2a92_11eb_88d4_acde48001122row1_col0\" class=\"data row1 col0\" >0.288588</td>\n",
       "                        <td id=\"T_e4420fc0_2a92_11eb_88d4_acde48001122row1_col1\" class=\"data row1 col1\" >0.295567</td>\n",
       "                        <td id=\"T_e4420fc0_2a92_11eb_88d4_acde48001122row1_col2\" class=\"data row1 col2\" >0.385878</td>\n",
       "                        <td id=\"T_e4420fc0_2a92_11eb_88d4_acde48001122row1_col3\" class=\"data row1 col3\" >0.029967</td>\n",
       "            </tr>\n",
       "            <tr>\n",
       "                        <th id=\"T_e4420fc0_2a92_11eb_88d4_acde48001122level0_row2\" class=\"row_heading level0 row2\" >poetry</th>\n",
       "                        <td id=\"T_e4420fc0_2a92_11eb_88d4_acde48001122row2_col0\" class=\"data row2 col0\" >0.314045</td>\n",
       "                        <td id=\"T_e4420fc0_2a92_11eb_88d4_acde48001122row2_col1\" class=\"data row2 col1\" >0.262921</td>\n",
       "                        <td id=\"T_e4420fc0_2a92_11eb_88d4_acde48001122row2_col2\" class=\"data row2 col2\" >0.406180</td>\n",
       "                        <td id=\"T_e4420fc0_2a92_11eb_88d4_acde48001122row2_col3\" class=\"data row2 col3\" >0.016854</td>\n",
       "            </tr>\n",
       "    </tbody></table>"
      ],
      "text/plain": [
       "<pandas.io.formats.style.Styler at 0x7fd4105ca670>"
      ]
     },
     "metadata": {},
     "output_type": "display_data"
    },
    {
     "name": "stdout",
     "output_type": "stream",
     "text": [
      "\n",
      "Fisher's test with log transform:\n"
     ]
    },
    {
     "data": {
      "image/png": "[encoded data removed]",
      "text/plain": [
       "<Figure size 432x288 with 2 Axes>"
      ]
     },
     "metadata": {
      "needs_background": "light"
     },
     "output_type": "display_data"
    }
   ],
   "source": [
    "engdat.genre.show()"
   ]
  },
  {
   "cell_type": "code",
   "execution_count": 139,
   "metadata": {},
   "outputs": [
    {
     "data": {
      "text/html": [
       "<div>\n",
       "<style scoped>\n",
       "    .dataframe tbody tr th:only-of-type {\n",
       "        vertical-align: middle;\n",
       "    }\n",
       "\n",
       "    .dataframe tbody tr th {\n",
       "        vertical-align: top;\n",
       "    }\n",
       "\n",
       "    .dataframe thead th {\n",
       "        text-align: right;\n",
       "    }\n",
       "</style>\n",
       "<table border=\"1\" class=\"dataframe\">\n",
       "  <thead>\n",
       "    <tr style=\"text-align: right;\">\n",
       "      <th></th>\n",
       "      <th>prose</th>\n",
       "      <th>prophetic</th>\n",
       "      <th>poetry</th>\n",
       "      <th>instruction</th>\n",
       "      <th>list</th>\n",
       "    </tr>\n",
       "  </thead>\n",
       "  <tbody>\n",
       "    <tr>\n",
       "      <th>PAST..IND</th>\n",
       "      <td>89.255030</td>\n",
       "      <td>-71.627093</td>\n",
       "      <td>-33.561776</td>\n",
       "      <td>0.108563</td>\n",
       "      <td>54.588954</td>\n",
       "    </tr>\n",
       "    <tr>\n",
       "      <th>PRES.PERF.IND</th>\n",
       "      <td>-6.595242</td>\n",
       "      <td>7.651804</td>\n",
       "      <td>0.560545</td>\n",
       "      <td>6.803566</td>\n",
       "      <td>-21.792034</td>\n",
       "    </tr>\n",
       "    <tr>\n",
       "      <th>PRES..IND</th>\n",
       "      <td>-246.053063</td>\n",
       "      <td>105.535599</td>\n",
       "      <td>86.559691</td>\n",
       "      <td>-3.449138</td>\n",
       "      <td>-26.411916</td>\n",
       "    </tr>\n",
       "    <tr>\n",
       "      <th>PAST.PERF.IND</th>\n",
       "      <td>100.436380</td>\n",
       "      <td>-33.745117</td>\n",
       "      <td>-38.676563</td>\n",
       "      <td>-5.148619</td>\n",
       "      <td>-0.442208</td>\n",
       "    </tr>\n",
       "  </tbody>\n",
       "</table>\n",
       "</div>"
      ],
      "text/plain": [
       "                    prose   prophetic     poetry  instruction       list\n",
       "PAST..IND       89.255030  -71.627093 -33.561776     0.108563  54.588954\n",
       "PRES.PERF.IND   -6.595242    7.651804   0.560545     6.803566 -21.792034\n",
       "PRES..IND     -246.053063  105.535599  86.559691    -3.449138 -26.411916\n",
       "PAST.PERF.IND  100.436380  -33.745117 -38.676563    -5.148619  -0.442208"
      ]
     },
     "execution_count": 139,
     "metadata": {},
     "output_type": "execute_result"
    }
   ],
   "source": [
    "engdat.genre.fish"
   ]
  },
  {
   "cell_type": "markdown",
   "metadata": {},
   "source": [
    "### domain"
   ]
  },
  {
   "cell_type": "code",
   "execution_count": 140,
   "metadata": {},
   "outputs": [
    {
     "name": "stdout",
     "output_type": "stream",
     "text": [
      "counts:\n"
     ]
    },
    {
     "data": {
      "text/html": [
       "<div>\n",
       "<style scoped>\n",
       "    .dataframe tbody tr th:only-of-type {\n",
       "        vertical-align: middle;\n",
       "    }\n",
       "\n",
       "    .dataframe tbody tr th {\n",
       "        vertical-align: top;\n",
       "    }\n",
       "\n",
       "    .dataframe thead th {\n",
       "        text-align: right;\n",
       "    }\n",
       "</style>\n",
       "<table border=\"1\" class=\"dataframe\">\n",
       "  <thead>\n",
       "    <tr style=\"text-align: right;\">\n",
       "      <th>domain2</th>\n",
       "      <th>Q</th>\n",
       "      <th>N</th>\n",
       "      <th>?</th>\n",
       "      <th>D</th>\n",
       "    </tr>\n",
       "    <tr>\n",
       "      <th>esv_TAM</th>\n",
       "      <th></th>\n",
       "      <th></th>\n",
       "      <th></th>\n",
       "      <th></th>\n",
       "    </tr>\n",
       "  </thead>\n",
       "  <tbody>\n",
       "    <tr>\n",
       "      <th>PAST..IND</th>\n",
       "      <td>1960</td>\n",
       "      <td>1729</td>\n",
       "      <td>379</td>\n",
       "      <td>48</td>\n",
       "    </tr>\n",
       "    <tr>\n",
       "      <th>PRES.PERF.IND</th>\n",
       "      <td>2258</td>\n",
       "      <td>14</td>\n",
       "      <td>42</td>\n",
       "      <td>40</td>\n",
       "    </tr>\n",
       "    <tr>\n",
       "      <th>PRES..IND</th>\n",
       "      <td>1823</td>\n",
       "      <td>28</td>\n",
       "      <td>170</td>\n",
       "      <td>41</td>\n",
       "    </tr>\n",
       "    <tr>\n",
       "      <th>PAST.PERF.IND</th>\n",
       "      <td>143</td>\n",
       "      <td>592</td>\n",
       "      <td>38</td>\n",
       "      <td>9</td>\n",
       "    </tr>\n",
       "  </tbody>\n",
       "</table>\n",
       "</div>"
      ],
      "text/plain": [
       "domain2           Q     N    ?   D\n",
       "esv_TAM                           \n",
       "PAST..IND      1960  1729  379  48\n",
       "PRES.PERF.IND  2258    14   42  40\n",
       "PRES..IND      1823    28  170  41\n",
       "PAST.PERF.IND   143   592   38   9"
      ]
     },
     "metadata": {},
     "output_type": "display_data"
    },
    {
     "name": "stdout",
     "output_type": "stream",
     "text": [
      "\n",
      "proportions 1:\n"
     ]
    },
    {
     "data": {
      "text/html": [
       "<style  type=\"text/css\" >\n",
       "#T_571048ce_2a92_11eb_88d4_acde48001122row0_col0,#T_571048ce_2a92_11eb_88d4_acde48001122row1_col0,#T_571048ce_2a92_11eb_88d4_acde48001122row2_col0,#T_571048ce_2a92_11eb_88d4_acde48001122row3_col1{\n",
       "            color:  red;\n",
       "        }</style><table id=\"T_571048ce_2a92_11eb_88d4_acde48001122\" ><thead>    <tr>        <th class=\"index_name level0\" >domain2</th>        <th class=\"col_heading level0 col0\" >Q</th>        <th class=\"col_heading level0 col1\" >N</th>        <th class=\"col_heading level0 col2\" >?</th>        <th class=\"col_heading level0 col3\" >D</th>    </tr>    <tr>        <th class=\"index_name level0\" >esv_TAM</th>        <th class=\"blank\" ></th>        <th class=\"blank\" ></th>        <th class=\"blank\" ></th>        <th class=\"blank\" ></th>    </tr></thead><tbody>\n",
       "                <tr>\n",
       "                        <th id=\"T_571048ce_2a92_11eb_88d4_acde48001122level0_row0\" class=\"row_heading level0 row0\" >PAST..IND</th>\n",
       "                        <td id=\"T_571048ce_2a92_11eb_88d4_acde48001122row0_col0\" class=\"data row0 col0\" >0.476190</td>\n",
       "                        <td id=\"T_571048ce_2a92_11eb_88d4_acde48001122row0_col1\" class=\"data row0 col1\" >0.420068</td>\n",
       "                        <td id=\"T_571048ce_2a92_11eb_88d4_acde48001122row0_col2\" class=\"data row0 col2\" >0.092080</td>\n",
       "                        <td id=\"T_571048ce_2a92_11eb_88d4_acde48001122row0_col3\" class=\"data row0 col3\" >0.011662</td>\n",
       "            </tr>\n",
       "            <tr>\n",
       "                        <th id=\"T_571048ce_2a92_11eb_88d4_acde48001122level0_row1\" class=\"row_heading level0 row1\" >PRES.PERF.IND</th>\n",
       "                        <td id=\"T_571048ce_2a92_11eb_88d4_acde48001122row1_col0\" class=\"data row1 col0\" >0.959218</td>\n",
       "                        <td id=\"T_571048ce_2a92_11eb_88d4_acde48001122row1_col1\" class=\"data row1 col1\" >0.005947</td>\n",
       "                        <td id=\"T_571048ce_2a92_11eb_88d4_acde48001122row1_col2\" class=\"data row1 col2\" >0.017842</td>\n",
       "                        <td id=\"T_571048ce_2a92_11eb_88d4_acde48001122row1_col3\" class=\"data row1 col3\" >0.016992</td>\n",
       "            </tr>\n",
       "            <tr>\n",
       "                        <th id=\"T_571048ce_2a92_11eb_88d4_acde48001122level0_row2\" class=\"row_heading level0 row2\" >PRES..IND</th>\n",
       "                        <td id=\"T_571048ce_2a92_11eb_88d4_acde48001122row2_col0\" class=\"data row2 col0\" >0.884093</td>\n",
       "                        <td id=\"T_571048ce_2a92_11eb_88d4_acde48001122row2_col1\" class=\"data row2 col1\" >0.013579</td>\n",
       "                        <td id=\"T_571048ce_2a92_11eb_88d4_acde48001122row2_col2\" class=\"data row2 col2\" >0.082444</td>\n",
       "                        <td id=\"T_571048ce_2a92_11eb_88d4_acde48001122row2_col3\" class=\"data row2 col3\" >0.019884</td>\n",
       "            </tr>\n",
       "            <tr>\n",
       "                        <th id=\"T_571048ce_2a92_11eb_88d4_acde48001122level0_row3\" class=\"row_heading level0 row3\" >PAST.PERF.IND</th>\n",
       "                        <td id=\"T_571048ce_2a92_11eb_88d4_acde48001122row3_col0\" class=\"data row3 col0\" >0.182864</td>\n",
       "                        <td id=\"T_571048ce_2a92_11eb_88d4_acde48001122row3_col1\" class=\"data row3 col1\" >0.757033</td>\n",
       "                        <td id=\"T_571048ce_2a92_11eb_88d4_acde48001122row3_col2\" class=\"data row3 col2\" >0.048593</td>\n",
       "                        <td id=\"T_571048ce_2a92_11eb_88d4_acde48001122row3_col3\" class=\"data row3 col3\" >0.011509</td>\n",
       "            </tr>\n",
       "    </tbody></table>"
      ],
      "text/plain": [
       "<pandas.io.formats.style.Styler at 0x7fd4109aa280>"
      ]
     },
     "metadata": {},
     "output_type": "display_data"
    },
    {
     "name": "stdout",
     "output_type": "stream",
     "text": [
      "\n",
      "proportions 2:\n"
     ]
    },
    {
     "data": {
      "text/html": [
       "<style  type=\"text/css\" >\n",
       "#T_5712263a_2a92_11eb_88d4_acde48001122row0_col1,#T_5712263a_2a92_11eb_88d4_acde48001122row1_col0,#T_5712263a_2a92_11eb_88d4_acde48001122row2_col0,#T_5712263a_2a92_11eb_88d4_acde48001122row3_col0{\n",
       "            color:  red;\n",
       "        }</style><table id=\"T_5712263a_2a92_11eb_88d4_acde48001122\" ><thead>    <tr>        <th class=\"index_name level0\" >esv_TAM</th>        <th class=\"col_heading level0 col0\" >PAST..IND</th>        <th class=\"col_heading level0 col1\" >PRES.PERF.IND</th>        <th class=\"col_heading level0 col2\" >PRES..IND</th>        <th class=\"col_heading level0 col3\" >PAST.PERF.IND</th>    </tr>    <tr>        <th class=\"index_name level0\" >domain2</th>        <th class=\"blank\" ></th>        <th class=\"blank\" ></th>        <th class=\"blank\" ></th>        <th class=\"blank\" ></th>    </tr></thead><tbody>\n",
       "                <tr>\n",
       "                        <th id=\"T_5712263a_2a92_11eb_88d4_acde48001122level0_row0\" class=\"row_heading level0 row0\" >Q</th>\n",
       "                        <td id=\"T_5712263a_2a92_11eb_88d4_acde48001122row0_col0\" class=\"data row0 col0\" >0.316947</td>\n",
       "                        <td id=\"T_5712263a_2a92_11eb_88d4_acde48001122row0_col1\" class=\"data row0 col1\" >0.365136</td>\n",
       "                        <td id=\"T_5712263a_2a92_11eb_88d4_acde48001122row0_col2\" class=\"data row0 col2\" >0.294793</td>\n",
       "                        <td id=\"T_5712263a_2a92_11eb_88d4_acde48001122row0_col3\" class=\"data row0 col3\" >0.023124</td>\n",
       "            </tr>\n",
       "            <tr>\n",
       "                        <th id=\"T_5712263a_2a92_11eb_88d4_acde48001122level0_row1\" class=\"row_heading level0 row1\" >N</th>\n",
       "                        <td id=\"T_5712263a_2a92_11eb_88d4_acde48001122row1_col0\" class=\"data row1 col0\" >0.731697</td>\n",
       "                        <td id=\"T_5712263a_2a92_11eb_88d4_acde48001122row1_col1\" class=\"data row1 col1\" >0.005925</td>\n",
       "                        <td id=\"T_5712263a_2a92_11eb_88d4_acde48001122row1_col2\" class=\"data row1 col2\" >0.011849</td>\n",
       "                        <td id=\"T_5712263a_2a92_11eb_88d4_acde48001122row1_col3\" class=\"data row1 col3\" >0.250529</td>\n",
       "            </tr>\n",
       "            <tr>\n",
       "                        <th id=\"T_5712263a_2a92_11eb_88d4_acde48001122level0_row2\" class=\"row_heading level0 row2\" >?</th>\n",
       "                        <td id=\"T_5712263a_2a92_11eb_88d4_acde48001122row2_col0\" class=\"data row2 col0\" >0.602544</td>\n",
       "                        <td id=\"T_5712263a_2a92_11eb_88d4_acde48001122row2_col1\" class=\"data row2 col1\" >0.066773</td>\n",
       "                        <td id=\"T_5712263a_2a92_11eb_88d4_acde48001122row2_col2\" class=\"data row2 col2\" >0.270270</td>\n",
       "                        <td id=\"T_5712263a_2a92_11eb_88d4_acde48001122row2_col3\" class=\"data row2 col3\" >0.060413</td>\n",
       "            </tr>\n",
       "            <tr>\n",
       "                        <th id=\"T_5712263a_2a92_11eb_88d4_acde48001122level0_row3\" class=\"row_heading level0 row3\" >D</th>\n",
       "                        <td id=\"T_5712263a_2a92_11eb_88d4_acde48001122row3_col0\" class=\"data row3 col0\" >0.347826</td>\n",
       "                        <td id=\"T_5712263a_2a92_11eb_88d4_acde48001122row3_col1\" class=\"data row3 col1\" >0.289855</td>\n",
       "                        <td id=\"T_5712263a_2a92_11eb_88d4_acde48001122row3_col2\" class=\"data row3 col2\" >0.297101</td>\n",
       "                        <td id=\"T_5712263a_2a92_11eb_88d4_acde48001122row3_col3\" class=\"data row3 col3\" >0.065217</td>\n",
       "            </tr>\n",
       "    </tbody></table>"
      ],
      "text/plain": [
       "<pandas.io.formats.style.Styler at 0x7fd410992d30>"
      ]
     },
     "metadata": {},
     "output_type": "display_data"
    },
    {
     "name": "stdout",
     "output_type": "stream",
     "text": [
      "\n",
      "Fisher's test with log transform:\n"
     ]
    },
    {
     "data": {
      "text/html": [
       "<div>\n",
       "<style scoped>\n",
       "    .dataframe tbody tr th:only-of-type {\n",
       "        vertical-align: middle;\n",
       "    }\n",
       "\n",
       "    .dataframe tbody tr th {\n",
       "        vertical-align: top;\n",
       "    }\n",
       "\n",
       "    .dataframe thead th {\n",
       "        text-align: right;\n",
       "    }\n",
       "</style>\n",
       "<table border=\"1\" class=\"dataframe\">\n",
       "  <thead>\n",
       "    <tr style=\"text-align: right;\">\n",
       "      <th></th>\n",
       "      <th>Q</th>\n",
       "      <th>N</th>\n",
       "      <th>?</th>\n",
       "      <th>D</th>\n",
       "    </tr>\n",
       "  </thead>\n",
       "  <tbody>\n",
       "    <tr>\n",
       "      <th>PAST..IND</th>\n",
       "      <td>-257.766393</td>\n",
       "      <td>239.178226</td>\n",
       "      <td>16.130705</td>\n",
       "      <td>-1.603716</td>\n",
       "    </tr>\n",
       "    <tr>\n",
       "      <th>PRES.PERF.IND</th>\n",
       "      <td>inf</td>\n",
       "      <td>-321.891242</td>\n",
       "      <td>-34.961512</td>\n",
       "      <td>0.489730</td>\n",
       "    </tr>\n",
       "    <tr>\n",
       "      <th>PRES..IND</th>\n",
       "      <td>144.302011</td>\n",
       "      <td>-248.613364</td>\n",
       "      <td>2.550711</td>\n",
       "      <td>1.417550</td>\n",
       "    </tr>\n",
       "    <tr>\n",
       "      <th>PAST.PERF.IND</th>\n",
       "      <td>-184.386279</td>\n",
       "      <td>211.623141</td>\n",
       "      <td>-1.593784</td>\n",
       "      <td>-0.271161</td>\n",
       "    </tr>\n",
       "  </tbody>\n",
       "</table>\n",
       "</div>"
      ],
      "text/plain": [
       "                        Q           N          ?         D\n",
       "PAST..IND     -257.766393  239.178226  16.130705 -1.603716\n",
       "PRES.PERF.IND         inf -321.891242 -34.961512  0.489730\n",
       "PRES..IND      144.302011 -248.613364   2.550711  1.417550\n",
       "PAST.PERF.IND -184.386279  211.623141  -1.593784 -0.271161"
      ]
     },
     "metadata": {},
     "output_type": "display_data"
    },
    {
     "name": "stderr",
     "output_type": "stream",
     "text": [
      "NB: Fisher's test (+/-)np.inf replaced with 300 for plotting"
     ]
    },
    {
     "data": {
      "image/png": "[encoded data removed]",
      "text/plain": [
       "<Figure size 432x288 with 2 Axes>"
      ]
     },
     "metadata": {
      "needs_background": "light"
     },
     "output_type": "display_data"
    }
   ],
   "source": [
    "engdat.domain.show()"
   ]
  },
  {
   "cell_type": "markdown",
   "metadata": {},
   "source": [
    "### period"
   ]
  },
  {
   "cell_type": "code",
   "execution_count": 141,
   "metadata": {},
   "outputs": [
    {
     "name": "stdout",
     "output_type": "stream",
     "text": [
      "counts:\n"
     ]
    },
    {
     "data": {
      "text/html": [
       "<div>\n",
       "<style scoped>\n",
       "    .dataframe tbody tr th:only-of-type {\n",
       "        vertical-align: middle;\n",
       "    }\n",
       "\n",
       "    .dataframe tbody tr th {\n",
       "        vertical-align: top;\n",
       "    }\n",
       "\n",
       "    .dataframe thead th {\n",
       "        text-align: right;\n",
       "    }\n",
       "</style>\n",
       "<table border=\"1\" class=\"dataframe\">\n",
       "  <thead>\n",
       "    <tr style=\"text-align: right;\">\n",
       "      <th>period</th>\n",
       "      <th>EBH</th>\n",
       "      <th>LBH</th>\n",
       "    </tr>\n",
       "    <tr>\n",
       "      <th>esv_TAM</th>\n",
       "      <th></th>\n",
       "      <th></th>\n",
       "    </tr>\n",
       "  </thead>\n",
       "  <tbody>\n",
       "    <tr>\n",
       "      <th>PAST..IND</th>\n",
       "      <td>2139</td>\n",
       "      <td>728</td>\n",
       "    </tr>\n",
       "    <tr>\n",
       "      <th>PRES.PERF.IND</th>\n",
       "      <td>972</td>\n",
       "      <td>171</td>\n",
       "    </tr>\n",
       "    <tr>\n",
       "      <th>PAST.PERF.IND</th>\n",
       "      <td>472</td>\n",
       "      <td>189</td>\n",
       "    </tr>\n",
       "    <tr>\n",
       "      <th>PRES..IND</th>\n",
       "      <td>335</td>\n",
       "      <td>57</td>\n",
       "    </tr>\n",
       "  </tbody>\n",
       "</table>\n",
       "</div>"
      ],
      "text/plain": [
       "period          EBH  LBH\n",
       "esv_TAM                 \n",
       "PAST..IND      2139  728\n",
       "PRES.PERF.IND   972  171\n",
       "PAST.PERF.IND   472  189\n",
       "PRES..IND       335   57"
      ]
     },
     "metadata": {},
     "output_type": "display_data"
    },
    {
     "name": "stdout",
     "output_type": "stream",
     "text": [
      "\n",
      "proportions 1:\n"
     ]
    },
    {
     "data": {
      "text/html": [
       "<style  type=\"text/css\" >\n",
       "#T_5d5b1402_2a92_11eb_88d4_acde48001122row0_col0,#T_5d5b1402_2a92_11eb_88d4_acde48001122row1_col0,#T_5d5b1402_2a92_11eb_88d4_acde48001122row2_col0,#T_5d5b1402_2a92_11eb_88d4_acde48001122row3_col0{\n",
       "            color:  red;\n",
       "        }</style><table id=\"T_5d5b1402_2a92_11eb_88d4_acde48001122\" ><thead>    <tr>        <th class=\"index_name level0\" >period</th>        <th class=\"col_heading level0 col0\" >EBH</th>        <th class=\"col_heading level0 col1\" >LBH</th>    </tr>    <tr>        <th class=\"index_name level0\" >esv_TAM</th>        <th class=\"blank\" ></th>        <th class=\"blank\" ></th>    </tr></thead><tbody>\n",
       "                <tr>\n",
       "                        <th id=\"T_5d5b1402_2a92_11eb_88d4_acde48001122level0_row0\" class=\"row_heading level0 row0\" >PAST..IND</th>\n",
       "                        <td id=\"T_5d5b1402_2a92_11eb_88d4_acde48001122row0_col0\" class=\"data row0 col0\" >0.746076</td>\n",
       "                        <td id=\"T_5d5b1402_2a92_11eb_88d4_acde48001122row0_col1\" class=\"data row0 col1\" >0.253924</td>\n",
       "            </tr>\n",
       "            <tr>\n",
       "                        <th id=\"T_5d5b1402_2a92_11eb_88d4_acde48001122level0_row1\" class=\"row_heading level0 row1\" >PRES.PERF.IND</th>\n",
       "                        <td id=\"T_5d5b1402_2a92_11eb_88d4_acde48001122row1_col0\" class=\"data row1 col0\" >0.850394</td>\n",
       "                        <td id=\"T_5d5b1402_2a92_11eb_88d4_acde48001122row1_col1\" class=\"data row1 col1\" >0.149606</td>\n",
       "            </tr>\n",
       "            <tr>\n",
       "                        <th id=\"T_5d5b1402_2a92_11eb_88d4_acde48001122level0_row2\" class=\"row_heading level0 row2\" >PAST.PERF.IND</th>\n",
       "                        <td id=\"T_5d5b1402_2a92_11eb_88d4_acde48001122row2_col0\" class=\"data row2 col0\" >0.714070</td>\n",
       "                        <td id=\"T_5d5b1402_2a92_11eb_88d4_acde48001122row2_col1\" class=\"data row2 col1\" >0.285930</td>\n",
       "            </tr>\n",
       "            <tr>\n",
       "                        <th id=\"T_5d5b1402_2a92_11eb_88d4_acde48001122level0_row3\" class=\"row_heading level0 row3\" >PRES..IND</th>\n",
       "                        <td id=\"T_5d5b1402_2a92_11eb_88d4_acde48001122row3_col0\" class=\"data row3 col0\" >0.854592</td>\n",
       "                        <td id=\"T_5d5b1402_2a92_11eb_88d4_acde48001122row3_col1\" class=\"data row3 col1\" >0.145408</td>\n",
       "            </tr>\n",
       "    </tbody></table>"
      ],
      "text/plain": [
       "<pandas.io.formats.style.Styler at 0x7fd40ff1fdc0>"
      ]
     },
     "metadata": {},
     "output_type": "display_data"
    },
    {
     "name": "stdout",
     "output_type": "stream",
     "text": [
      "\n",
      "proportions 2:\n"
     ]
    },
    {
     "data": {
      "text/html": [
       "<style  type=\"text/css\" >\n",
       "#T_5d5cd71a_2a92_11eb_88d4_acde48001122row0_col0,#T_5d5cd71a_2a92_11eb_88d4_acde48001122row1_col0{\n",
       "            color:  red;\n",
       "        }</style><table id=\"T_5d5cd71a_2a92_11eb_88d4_acde48001122\" ><thead>    <tr>        <th class=\"index_name level0\" >esv_TAM</th>        <th class=\"col_heading level0 col0\" >PAST..IND</th>        <th class=\"col_heading level0 col1\" >PRES.PERF.IND</th>        <th class=\"col_heading level0 col2\" >PAST.PERF.IND</th>        <th class=\"col_heading level0 col3\" >PRES..IND</th>    </tr>    <tr>        <th class=\"index_name level0\" >period</th>        <th class=\"blank\" ></th>        <th class=\"blank\" ></th>        <th class=\"blank\" ></th>        <th class=\"blank\" ></th>    </tr></thead><tbody>\n",
       "                <tr>\n",
       "                        <th id=\"T_5d5cd71a_2a92_11eb_88d4_acde48001122level0_row0\" class=\"row_heading level0 row0\" >EBH</th>\n",
       "                        <td id=\"T_5d5cd71a_2a92_11eb_88d4_acde48001122row0_col0\" class=\"data row0 col0\" >0.545942</td>\n",
       "                        <td id=\"T_5d5cd71a_2a92_11eb_88d4_acde48001122row0_col1\" class=\"data row0 col1\" >0.248086</td>\n",
       "                        <td id=\"T_5d5cd71a_2a92_11eb_88d4_acde48001122row0_col2\" class=\"data row0 col2\" >0.120470</td>\n",
       "                        <td id=\"T_5d5cd71a_2a92_11eb_88d4_acde48001122row0_col3\" class=\"data row0 col3\" >0.085503</td>\n",
       "            </tr>\n",
       "            <tr>\n",
       "                        <th id=\"T_5d5cd71a_2a92_11eb_88d4_acde48001122level0_row1\" class=\"row_heading level0 row1\" >LBH</th>\n",
       "                        <td id=\"T_5d5cd71a_2a92_11eb_88d4_acde48001122row1_col0\" class=\"data row1 col0\" >0.635808</td>\n",
       "                        <td id=\"T_5d5cd71a_2a92_11eb_88d4_acde48001122row1_col1\" class=\"data row1 col1\" >0.149345</td>\n",
       "                        <td id=\"T_5d5cd71a_2a92_11eb_88d4_acde48001122row1_col2\" class=\"data row1 col2\" >0.165066</td>\n",
       "                        <td id=\"T_5d5cd71a_2a92_11eb_88d4_acde48001122row1_col3\" class=\"data row1 col3\" >0.049782</td>\n",
       "            </tr>\n",
       "    </tbody></table>"
      ],
      "text/plain": [
       "<pandas.io.formats.style.Styler at 0x7fd4103db190>"
      ]
     },
     "metadata": {},
     "output_type": "display_data"
    },
    {
     "name": "stdout",
     "output_type": "stream",
     "text": [
      "\n",
      "Fisher's test with log transform:\n"
     ]
    },
    {
     "data": {
      "image/png": "[encoded data removed]",
      "text/plain": [
       "<Figure size 432x288 with 2 Axes>"
      ]
     },
     "metadata": {
      "needs_background": "light"
     },
     "output_type": "display_data"
    }
   ],
   "source": [
    "engdat.period.show()"
   ]
  },
  {
   "cell_type": "markdown",
   "metadata": {},
   "source": [
    "### Period + Genre"
   ]
  },
  {
   "cell_type": "code",
   "execution_count": 142,
   "metadata": {},
   "outputs": [
    {
     "name": "stdout",
     "output_type": "stream",
     "text": [
      "counts:\n"
     ]
    },
    {
     "data": {
      "text/html": [
       "<div>\n",
       "<style scoped>\n",
       "    .dataframe tbody tr th:only-of-type {\n",
       "        vertical-align: middle;\n",
       "    }\n",
       "\n",
       "    .dataframe tbody tr th {\n",
       "        vertical-align: top;\n",
       "    }\n",
       "\n",
       "    .dataframe thead tr th {\n",
       "        text-align: left;\n",
       "    }\n",
       "\n",
       "    .dataframe thead tr:last-of-type th {\n",
       "        text-align: right;\n",
       "    }\n",
       "</style>\n",
       "<table border=\"1\" class=\"dataframe\">\n",
       "  <thead>\n",
       "    <tr>\n",
       "      <th>period</th>\n",
       "      <th>EBH</th>\n",
       "      <th>LBH</th>\n",
       "      <th>EBH</th>\n",
       "      <th>LBH</th>\n",
       "      <th>EBH</th>\n",
       "    </tr>\n",
       "    <tr>\n",
       "      <th>genre</th>\n",
       "      <th>prose</th>\n",
       "      <th>prose</th>\n",
       "      <th>poetry</th>\n",
       "      <th>poetry</th>\n",
       "      <th>prophetic</th>\n",
       "    </tr>\n",
       "    <tr>\n",
       "      <th>esv_TAM</th>\n",
       "      <th></th>\n",
       "      <th></th>\n",
       "      <th></th>\n",
       "      <th></th>\n",
       "      <th></th>\n",
       "    </tr>\n",
       "  </thead>\n",
       "  <tbody>\n",
       "    <tr>\n",
       "      <th>PAST..IND</th>\n",
       "      <td>1852</td>\n",
       "      <td>538</td>\n",
       "      <td>76</td>\n",
       "      <td>29</td>\n",
       "      <td>2</td>\n",
       "    </tr>\n",
       "    <tr>\n",
       "      <th>PRES.PERF.IND</th>\n",
       "      <td>821</td>\n",
       "      <td>163</td>\n",
       "      <td>12</td>\n",
       "      <td>6</td>\n",
       "      <td>6</td>\n",
       "    </tr>\n",
       "    <tr>\n",
       "      <th>PAST.PERF.IND</th>\n",
       "      <td>454</td>\n",
       "      <td>176</td>\n",
       "      <td>4</td>\n",
       "      <td>2</td>\n",
       "      <td>0</td>\n",
       "    </tr>\n",
       "    <tr>\n",
       "      <th>PRES..IND</th>\n",
       "      <td>279</td>\n",
       "      <td>54</td>\n",
       "      <td>12</td>\n",
       "      <td>2</td>\n",
       "      <td>2</td>\n",
       "    </tr>\n",
       "  </tbody>\n",
       "</table>\n",
       "</div>"
      ],
      "text/plain": [
       "period          EBH   LBH    EBH    LBH       EBH\n",
       "genre         prose prose poetry poetry prophetic\n",
       "esv_TAM                                          \n",
       "PAST..IND      1852   538     76     29         2\n",
       "PRES.PERF.IND   821   163     12      6         6\n",
       "PAST.PERF.IND   454   176      4      2         0\n",
       "PRES..IND       279    54     12      2         2"
      ]
     },
     "metadata": {},
     "output_type": "display_data"
    },
    {
     "name": "stdout",
     "output_type": "stream",
     "text": [
      "\n",
      "proportions 1:\n"
     ]
    },
    {
     "data": {
      "text/html": [
       "<style  type=\"text/css\" >\n",
       "#T_6343f190_2a92_11eb_88d4_acde48001122row0_col0,#T_6343f190_2a92_11eb_88d4_acde48001122row1_col0,#T_6343f190_2a92_11eb_88d4_acde48001122row2_col0,#T_6343f190_2a92_11eb_88d4_acde48001122row3_col0{\n",
       "            color:  red;\n",
       "        }</style><table id=\"T_6343f190_2a92_11eb_88d4_acde48001122\" ><thead>    <tr>        <th class=\"index_name level0\" >period</th>        <th class=\"col_heading level0 col0\" >EBH</th>        <th class=\"col_heading level0 col1\" >LBH</th>        <th class=\"col_heading level0 col2\" >EBH</th>        <th class=\"col_heading level0 col3\" >LBH</th>        <th class=\"col_heading level0 col4\" >EBH</th>    </tr>    <tr>        <th class=\"index_name level1\" >genre</th>        <th class=\"col_heading level1 col0\" >prose</th>        <th class=\"col_heading level1 col1\" >prose</th>        <th class=\"col_heading level1 col2\" >poetry</th>        <th class=\"col_heading level1 col3\" >poetry</th>        <th class=\"col_heading level1 col4\" >prophetic</th>    </tr>    <tr>        <th class=\"index_name level0\" >esv_TAM</th>        <th class=\"blank\" ></th>        <th class=\"blank\" ></th>        <th class=\"blank\" ></th>        <th class=\"blank\" ></th>        <th class=\"blank\" ></th>    </tr></thead><tbody>\n",
       "                <tr>\n",
       "                        <th id=\"T_6343f190_2a92_11eb_88d4_acde48001122level0_row0\" class=\"row_heading level0 row0\" >PAST..IND</th>\n",
       "                        <td id=\"T_6343f190_2a92_11eb_88d4_acde48001122row0_col0\" class=\"data row0 col0\" >0.741690</td>\n",
       "                        <td id=\"T_6343f190_2a92_11eb_88d4_acde48001122row0_col1\" class=\"data row0 col1\" >0.215459</td>\n",
       "                        <td id=\"T_6343f190_2a92_11eb_88d4_acde48001122row0_col2\" class=\"data row0 col2\" >0.030437</td>\n",
       "                        <td id=\"T_6343f190_2a92_11eb_88d4_acde48001122row0_col3\" class=\"data row0 col3\" >0.011614</td>\n",
       "                        <td id=\"T_6343f190_2a92_11eb_88d4_acde48001122row0_col4\" class=\"data row0 col4\" >0.000801</td>\n",
       "            </tr>\n",
       "            <tr>\n",
       "                        <th id=\"T_6343f190_2a92_11eb_88d4_acde48001122level0_row1\" class=\"row_heading level0 row1\" >PRES.PERF.IND</th>\n",
       "                        <td id=\"T_6343f190_2a92_11eb_88d4_acde48001122row1_col0\" class=\"data row1 col0\" >0.814484</td>\n",
       "                        <td id=\"T_6343f190_2a92_11eb_88d4_acde48001122row1_col1\" class=\"data row1 col1\" >0.161706</td>\n",
       "                        <td id=\"T_6343f190_2a92_11eb_88d4_acde48001122row1_col2\" class=\"data row1 col2\" >0.011905</td>\n",
       "                        <td id=\"T_6343f190_2a92_11eb_88d4_acde48001122row1_col3\" class=\"data row1 col3\" >0.005952</td>\n",
       "                        <td id=\"T_6343f190_2a92_11eb_88d4_acde48001122row1_col4\" class=\"data row1 col4\" >0.005952</td>\n",
       "            </tr>\n",
       "            <tr>\n",
       "                        <th id=\"T_6343f190_2a92_11eb_88d4_acde48001122level0_row2\" class=\"row_heading level0 row2\" >PAST.PERF.IND</th>\n",
       "                        <td id=\"T_6343f190_2a92_11eb_88d4_acde48001122row2_col0\" class=\"data row2 col0\" >0.713836</td>\n",
       "                        <td id=\"T_6343f190_2a92_11eb_88d4_acde48001122row2_col1\" class=\"data row2 col1\" >0.276730</td>\n",
       "                        <td id=\"T_6343f190_2a92_11eb_88d4_acde48001122row2_col2\" class=\"data row2 col2\" >0.006289</td>\n",
       "                        <td id=\"T_6343f190_2a92_11eb_88d4_acde48001122row2_col3\" class=\"data row2 col3\" >0.003145</td>\n",
       "                        <td id=\"T_6343f190_2a92_11eb_88d4_acde48001122row2_col4\" class=\"data row2 col4\" >0.000000</td>\n",
       "            </tr>\n",
       "            <tr>\n",
       "                        <th id=\"T_6343f190_2a92_11eb_88d4_acde48001122level0_row3\" class=\"row_heading level0 row3\" >PRES..IND</th>\n",
       "                        <td id=\"T_6343f190_2a92_11eb_88d4_acde48001122row3_col0\" class=\"data row3 col0\" >0.799427</td>\n",
       "                        <td id=\"T_6343f190_2a92_11eb_88d4_acde48001122row3_col1\" class=\"data row3 col1\" >0.154728</td>\n",
       "                        <td id=\"T_6343f190_2a92_11eb_88d4_acde48001122row3_col2\" class=\"data row3 col2\" >0.034384</td>\n",
       "                        <td id=\"T_6343f190_2a92_11eb_88d4_acde48001122row3_col3\" class=\"data row3 col3\" >0.005731</td>\n",
       "                        <td id=\"T_6343f190_2a92_11eb_88d4_acde48001122row3_col4\" class=\"data row3 col4\" >0.005731</td>\n",
       "            </tr>\n",
       "    </tbody></table>"
      ],
      "text/plain": [
       "<pandas.io.formats.style.Styler at 0x7fd4105ca310>"
      ]
     },
     "metadata": {},
     "output_type": "display_data"
    },
    {
     "name": "stdout",
     "output_type": "stream",
     "text": [
      "\n",
      "proportions 2:\n"
     ]
    },
    {
     "data": {
      "text/html": [
       "<style  type=\"text/css\" >\n",
       "#T_6345d6fe_2a92_11eb_88d4_acde48001122row0_col0,#T_6345d6fe_2a92_11eb_88d4_acde48001122row1_col0,#T_6345d6fe_2a92_11eb_88d4_acde48001122row2_col0,#T_6345d6fe_2a92_11eb_88d4_acde48001122row3_col0,#T_6345d6fe_2a92_11eb_88d4_acde48001122row4_col1{\n",
       "            color:  red;\n",
       "        }</style><table id=\"T_6345d6fe_2a92_11eb_88d4_acde48001122\" ><thead>    <tr>        <th class=\"blank\" ></th>        <th class=\"index_name level0\" >esv_TAM</th>        <th class=\"col_heading level0 col0\" >PAST..IND</th>        <th class=\"col_heading level0 col1\" >PRES.PERF.IND</th>        <th class=\"col_heading level0 col2\" >PAST.PERF.IND</th>        <th class=\"col_heading level0 col3\" >PRES..IND</th>    </tr>    <tr>        <th class=\"index_name level0\" >period</th>        <th class=\"index_name level1\" >genre</th>        <th class=\"blank\" ></th>        <th class=\"blank\" ></th>        <th class=\"blank\" ></th>        <th class=\"blank\" ></th>    </tr></thead><tbody>\n",
       "                <tr>\n",
       "                        <th id=\"T_6345d6fe_2a92_11eb_88d4_acde48001122level0_row0\" class=\"row_heading level0 row0\" >EBH</th>\n",
       "                        <th id=\"T_6345d6fe_2a92_11eb_88d4_acde48001122level1_row0\" class=\"row_heading level1 row0\" >prose</th>\n",
       "                        <td id=\"T_6345d6fe_2a92_11eb_88d4_acde48001122row0_col0\" class=\"data row0 col0\" >0.543746</td>\n",
       "                        <td id=\"T_6345d6fe_2a92_11eb_88d4_acde48001122row0_col1\" class=\"data row0 col1\" >0.241045</td>\n",
       "                        <td id=\"T_6345d6fe_2a92_11eb_88d4_acde48001122row0_col2\" class=\"data row0 col2\" >0.133294</td>\n",
       "                        <td id=\"T_6345d6fe_2a92_11eb_88d4_acde48001122row0_col3\" class=\"data row0 col3\" >0.081914</td>\n",
       "            </tr>\n",
       "            <tr>\n",
       "                        <th id=\"T_6345d6fe_2a92_11eb_88d4_acde48001122level0_row1\" class=\"row_heading level0 row1\" >LBH</th>\n",
       "                        <th id=\"T_6345d6fe_2a92_11eb_88d4_acde48001122level1_row1\" class=\"row_heading level1 row1\" >prose</th>\n",
       "                        <td id=\"T_6345d6fe_2a92_11eb_88d4_acde48001122row1_col0\" class=\"data row1 col0\" >0.577873</td>\n",
       "                        <td id=\"T_6345d6fe_2a92_11eb_88d4_acde48001122row1_col1\" class=\"data row1 col1\" >0.175081</td>\n",
       "                        <td id=\"T_6345d6fe_2a92_11eb_88d4_acde48001122row1_col2\" class=\"data row1 col2\" >0.189044</td>\n",
       "                        <td id=\"T_6345d6fe_2a92_11eb_88d4_acde48001122row1_col3\" class=\"data row1 col3\" >0.058002</td>\n",
       "            </tr>\n",
       "            <tr>\n",
       "                        <th id=\"T_6345d6fe_2a92_11eb_88d4_acde48001122level0_row2\" class=\"row_heading level0 row2\" >EBH</th>\n",
       "                        <th id=\"T_6345d6fe_2a92_11eb_88d4_acde48001122level1_row2\" class=\"row_heading level1 row2\" >poetry</th>\n",
       "                        <td id=\"T_6345d6fe_2a92_11eb_88d4_acde48001122row2_col0\" class=\"data row2 col0\" >0.730769</td>\n",
       "                        <td id=\"T_6345d6fe_2a92_11eb_88d4_acde48001122row2_col1\" class=\"data row2 col1\" >0.115385</td>\n",
       "                        <td id=\"T_6345d6fe_2a92_11eb_88d4_acde48001122row2_col2\" class=\"data row2 col2\" >0.038462</td>\n",
       "                        <td id=\"T_6345d6fe_2a92_11eb_88d4_acde48001122row2_col3\" class=\"data row2 col3\" >0.115385</td>\n",
       "            </tr>\n",
       "            <tr>\n",
       "                        <th id=\"T_6345d6fe_2a92_11eb_88d4_acde48001122level0_row3\" class=\"row_heading level0 row3\" >LBH</th>\n",
       "                        <th id=\"T_6345d6fe_2a92_11eb_88d4_acde48001122level1_row3\" class=\"row_heading level1 row3\" >poetry</th>\n",
       "                        <td id=\"T_6345d6fe_2a92_11eb_88d4_acde48001122row3_col0\" class=\"data row3 col0\" >0.743590</td>\n",
       "                        <td id=\"T_6345d6fe_2a92_11eb_88d4_acde48001122row3_col1\" class=\"data row3 col1\" >0.153846</td>\n",
       "                        <td id=\"T_6345d6fe_2a92_11eb_88d4_acde48001122row3_col2\" class=\"data row3 col2\" >0.051282</td>\n",
       "                        <td id=\"T_6345d6fe_2a92_11eb_88d4_acde48001122row3_col3\" class=\"data row3 col3\" >0.051282</td>\n",
       "            </tr>\n",
       "            <tr>\n",
       "                        <th id=\"T_6345d6fe_2a92_11eb_88d4_acde48001122level0_row4\" class=\"row_heading level0 row4\" >EBH</th>\n",
       "                        <th id=\"T_6345d6fe_2a92_11eb_88d4_acde48001122level1_row4\" class=\"row_heading level1 row4\" >prophetic</th>\n",
       "                        <td id=\"T_6345d6fe_2a92_11eb_88d4_acde48001122row4_col0\" class=\"data row4 col0\" >0.200000</td>\n",
       "                        <td id=\"T_6345d6fe_2a92_11eb_88d4_acde48001122row4_col1\" class=\"data row4 col1\" >0.600000</td>\n",
       "                        <td id=\"T_6345d6fe_2a92_11eb_88d4_acde48001122row4_col2\" class=\"data row4 col2\" >0.000000</td>\n",
       "                        <td id=\"T_6345d6fe_2a92_11eb_88d4_acde48001122row4_col3\" class=\"data row4 col3\" >0.200000</td>\n",
       "            </tr>\n",
       "    </tbody></table>"
      ],
      "text/plain": [
       "<pandas.io.formats.style.Styler at 0x7fd4105ca6d0>"
      ]
     },
     "metadata": {},
     "output_type": "display_data"
    },
    {
     "name": "stdout",
     "output_type": "stream",
     "text": [
      "\n",
      "Fisher's test with log transform:\n"
     ]
    },
    {
     "data": {
      "image/png": "[encoded data removed]",
      "text/plain": [
       "<Figure size 432x288 with 2 Axes>"
      ]
     },
     "metadata": {
      "needs_background": "light"
     },
     "output_type": "display_data"
    }
   ],
   "source": [
    "engdat.pergen.show()"
   ]
  },
  {
   "cell_type": "markdown",
   "metadata": {},
   "source": [
    "### period + domain"
   ]
  },
  {
   "cell_type": "code",
   "execution_count": 143,
   "metadata": {},
   "outputs": [
    {
     "name": "stdout",
     "output_type": "stream",
     "text": [
      "counts:\n"
     ]
    },
    {
     "data": {
      "text/html": [
       "<div>\n",
       "<style scoped>\n",
       "    .dataframe tbody tr th:only-of-type {\n",
       "        vertical-align: middle;\n",
       "    }\n",
       "\n",
       "    .dataframe tbody tr th {\n",
       "        vertical-align: top;\n",
       "    }\n",
       "\n",
       "    .dataframe thead tr th {\n",
       "        text-align: left;\n",
       "    }\n",
       "\n",
       "    .dataframe thead tr:last-of-type th {\n",
       "        text-align: right;\n",
       "    }\n",
       "</style>\n",
       "<table border=\"1\" class=\"dataframe\">\n",
       "  <thead>\n",
       "    <tr>\n",
       "      <th>period</th>\n",
       "      <th colspan=\"2\" halign=\"left\">EBH</th>\n",
       "      <th colspan=\"2\" halign=\"left\">LBH</th>\n",
       "    </tr>\n",
       "    <tr>\n",
       "      <th>domain2</th>\n",
       "      <th>Q</th>\n",
       "      <th>N</th>\n",
       "      <th>N</th>\n",
       "      <th>Q</th>\n",
       "    </tr>\n",
       "    <tr>\n",
       "      <th>esv_TAM</th>\n",
       "      <th></th>\n",
       "      <th></th>\n",
       "      <th></th>\n",
       "      <th></th>\n",
       "    </tr>\n",
       "  </thead>\n",
       "  <tbody>\n",
       "    <tr>\n",
       "      <th>PAST..IND</th>\n",
       "      <td>737</td>\n",
       "      <td>1049</td>\n",
       "      <td>361</td>\n",
       "      <td>138</td>\n",
       "    </tr>\n",
       "    <tr>\n",
       "      <th>PRES.PERF.IND</th>\n",
       "      <td>832</td>\n",
       "      <td>5</td>\n",
       "      <td>0</td>\n",
       "      <td>169</td>\n",
       "    </tr>\n",
       "    <tr>\n",
       "      <th>PAST.PERF.IND</th>\n",
       "      <td>72</td>\n",
       "      <td>363</td>\n",
       "      <td>150</td>\n",
       "      <td>14</td>\n",
       "    </tr>\n",
       "    <tr>\n",
       "      <th>PRES..IND</th>\n",
       "      <td>289</td>\n",
       "      <td>4</td>\n",
       "      <td>2</td>\n",
       "      <td>54</td>\n",
       "    </tr>\n",
       "  </tbody>\n",
       "</table>\n",
       "</div>"
      ],
      "text/plain": [
       "period         EBH        LBH     \n",
       "domain2          Q     N    N    Q\n",
       "esv_TAM                           \n",
       "PAST..IND      737  1049  361  138\n",
       "PRES.PERF.IND  832     5    0  169\n",
       "PAST.PERF.IND   72   363  150   14\n",
       "PRES..IND      289     4    2   54"
      ]
     },
     "metadata": {},
     "output_type": "display_data"
    },
    {
     "name": "stdout",
     "output_type": "stream",
     "text": [
      "\n",
      "proportions 1:\n"
     ]
    },
    {
     "data": {
      "text/html": [
       "<style  type=\"text/css\" >\n",
       "#T_6aedd96a_2a92_11eb_88d4_acde48001122row0_col1,#T_6aedd96a_2a92_11eb_88d4_acde48001122row1_col0,#T_6aedd96a_2a92_11eb_88d4_acde48001122row2_col1,#T_6aedd96a_2a92_11eb_88d4_acde48001122row3_col0{\n",
       "            color:  red;\n",
       "        }</style><table id=\"T_6aedd96a_2a92_11eb_88d4_acde48001122\" ><thead>    <tr>        <th class=\"index_name level0\" >period</th>        <th class=\"col_heading level0 col0\" colspan=2>EBH</th>        <th class=\"col_heading level0 col2\" colspan=2>LBH</th>    </tr>    <tr>        <th class=\"index_name level1\" >domain2</th>        <th class=\"col_heading level1 col0\" >Q</th>        <th class=\"col_heading level1 col1\" >N</th>        <th class=\"col_heading level1 col2\" >N</th>        <th class=\"col_heading level1 col3\" >Q</th>    </tr>    <tr>        <th class=\"index_name level0\" >esv_TAM</th>        <th class=\"blank\" ></th>        <th class=\"blank\" ></th>        <th class=\"blank\" ></th>        <th class=\"blank\" ></th>    </tr></thead><tbody>\n",
       "                <tr>\n",
       "                        <th id=\"T_6aedd96a_2a92_11eb_88d4_acde48001122level0_row0\" class=\"row_heading level0 row0\" >PAST..IND</th>\n",
       "                        <td id=\"T_6aedd96a_2a92_11eb_88d4_acde48001122row0_col0\" class=\"data row0 col0\" >0.322538</td>\n",
       "                        <td id=\"T_6aedd96a_2a92_11eb_88d4_acde48001122row0_col1\" class=\"data row0 col1\" >0.459081</td>\n",
       "                        <td id=\"T_6aedd96a_2a92_11eb_88d4_acde48001122row0_col2\" class=\"data row0 col2\" >0.157987</td>\n",
       "                        <td id=\"T_6aedd96a_2a92_11eb_88d4_acde48001122row0_col3\" class=\"data row0 col3\" >0.060394</td>\n",
       "            </tr>\n",
       "            <tr>\n",
       "                        <th id=\"T_6aedd96a_2a92_11eb_88d4_acde48001122level0_row1\" class=\"row_heading level0 row1\" >PRES.PERF.IND</th>\n",
       "                        <td id=\"T_6aedd96a_2a92_11eb_88d4_acde48001122row1_col0\" class=\"data row1 col0\" >0.827038</td>\n",
       "                        <td id=\"T_6aedd96a_2a92_11eb_88d4_acde48001122row1_col1\" class=\"data row1 col1\" >0.004970</td>\n",
       "                        <td id=\"T_6aedd96a_2a92_11eb_88d4_acde48001122row1_col2\" class=\"data row1 col2\" >0.000000</td>\n",
       "                        <td id=\"T_6aedd96a_2a92_11eb_88d4_acde48001122row1_col3\" class=\"data row1 col3\" >0.167992</td>\n",
       "            </tr>\n",
       "            <tr>\n",
       "                        <th id=\"T_6aedd96a_2a92_11eb_88d4_acde48001122level0_row2\" class=\"row_heading level0 row2\" >PAST.PERF.IND</th>\n",
       "                        <td id=\"T_6aedd96a_2a92_11eb_88d4_acde48001122row2_col0\" class=\"data row2 col0\" >0.120200</td>\n",
       "                        <td id=\"T_6aedd96a_2a92_11eb_88d4_acde48001122row2_col1\" class=\"data row2 col1\" >0.606010</td>\n",
       "                        <td id=\"T_6aedd96a_2a92_11eb_88d4_acde48001122row2_col2\" class=\"data row2 col2\" >0.250417</td>\n",
       "                        <td id=\"T_6aedd96a_2a92_11eb_88d4_acde48001122row2_col3\" class=\"data row2 col3\" >0.023372</td>\n",
       "            </tr>\n",
       "            <tr>\n",
       "                        <th id=\"T_6aedd96a_2a92_11eb_88d4_acde48001122level0_row3\" class=\"row_heading level0 row3\" >PRES..IND</th>\n",
       "                        <td id=\"T_6aedd96a_2a92_11eb_88d4_acde48001122row3_col0\" class=\"data row3 col0\" >0.828080</td>\n",
       "                        <td id=\"T_6aedd96a_2a92_11eb_88d4_acde48001122row3_col1\" class=\"data row3 col1\" >0.011461</td>\n",
       "                        <td id=\"T_6aedd96a_2a92_11eb_88d4_acde48001122row3_col2\" class=\"data row3 col2\" >0.005731</td>\n",
       "                        <td id=\"T_6aedd96a_2a92_11eb_88d4_acde48001122row3_col3\" class=\"data row3 col3\" >0.154728</td>\n",
       "            </tr>\n",
       "    </tbody></table>"
      ],
      "text/plain": [
       "<pandas.io.formats.style.Styler at 0x7fd4106bbdc0>"
      ]
     },
     "metadata": {},
     "output_type": "display_data"
    },
    {
     "name": "stdout",
     "output_type": "stream",
     "text": [
      "\n",
      "proportions 2:\n"
     ]
    },
    {
     "data": {
      "text/html": [
       "<style  type=\"text/css\" >\n",
       "#T_6aef793c_2a92_11eb_88d4_acde48001122row0_col1,#T_6aef793c_2a92_11eb_88d4_acde48001122row1_col0,#T_6aef793c_2a92_11eb_88d4_acde48001122row2_col0,#T_6aef793c_2a92_11eb_88d4_acde48001122row3_col1{\n",
       "            color:  red;\n",
       "        }</style><table id=\"T_6aef793c_2a92_11eb_88d4_acde48001122\" ><thead>    <tr>        <th class=\"blank\" ></th>        <th class=\"index_name level0\" >esv_TAM</th>        <th class=\"col_heading level0 col0\" >PAST..IND</th>        <th class=\"col_heading level0 col1\" >PRES.PERF.IND</th>        <th class=\"col_heading level0 col2\" >PAST.PERF.IND</th>        <th class=\"col_heading level0 col3\" >PRES..IND</th>    </tr>    <tr>        <th class=\"index_name level0\" >period</th>        <th class=\"index_name level1\" >domain2</th>        <th class=\"blank\" ></th>        <th class=\"blank\" ></th>        <th class=\"blank\" ></th>        <th class=\"blank\" ></th>    </tr></thead><tbody>\n",
       "                <tr>\n",
       "                        <th id=\"T_6aef793c_2a92_11eb_88d4_acde48001122level0_row0\" class=\"row_heading level0 row0\" rowspan=2>EBH</th>\n",
       "                        <th id=\"T_6aef793c_2a92_11eb_88d4_acde48001122level1_row0\" class=\"row_heading level1 row0\" >Q</th>\n",
       "                        <td id=\"T_6aef793c_2a92_11eb_88d4_acde48001122row0_col0\" class=\"data row0 col0\" >0.381865</td>\n",
       "                        <td id=\"T_6aef793c_2a92_11eb_88d4_acde48001122row0_col1\" class=\"data row0 col1\" >0.431088</td>\n",
       "                        <td id=\"T_6aef793c_2a92_11eb_88d4_acde48001122row0_col2\" class=\"data row0 col2\" >0.037306</td>\n",
       "                        <td id=\"T_6aef793c_2a92_11eb_88d4_acde48001122row0_col3\" class=\"data row0 col3\" >0.149741</td>\n",
       "            </tr>\n",
       "            <tr>\n",
       "                                <th id=\"T_6aef793c_2a92_11eb_88d4_acde48001122level1_row1\" class=\"row_heading level1 row1\" >N</th>\n",
       "                        <td id=\"T_6aef793c_2a92_11eb_88d4_acde48001122row1_col0\" class=\"data row1 col0\" >0.738213</td>\n",
       "                        <td id=\"T_6aef793c_2a92_11eb_88d4_acde48001122row1_col1\" class=\"data row1 col1\" >0.003519</td>\n",
       "                        <td id=\"T_6aef793c_2a92_11eb_88d4_acde48001122row1_col2\" class=\"data row1 col2\" >0.255454</td>\n",
       "                        <td id=\"T_6aef793c_2a92_11eb_88d4_acde48001122row1_col3\" class=\"data row1 col3\" >0.002815</td>\n",
       "            </tr>\n",
       "            <tr>\n",
       "                        <th id=\"T_6aef793c_2a92_11eb_88d4_acde48001122level0_row2\" class=\"row_heading level0 row2\" rowspan=2>LBH</th>\n",
       "                        <th id=\"T_6aef793c_2a92_11eb_88d4_acde48001122level1_row2\" class=\"row_heading level1 row2\" >N</th>\n",
       "                        <td id=\"T_6aef793c_2a92_11eb_88d4_acde48001122row2_col0\" class=\"data row2 col0\" >0.703704</td>\n",
       "                        <td id=\"T_6aef793c_2a92_11eb_88d4_acde48001122row2_col1\" class=\"data row2 col1\" >0.000000</td>\n",
       "                        <td id=\"T_6aef793c_2a92_11eb_88d4_acde48001122row2_col2\" class=\"data row2 col2\" >0.292398</td>\n",
       "                        <td id=\"T_6aef793c_2a92_11eb_88d4_acde48001122row2_col3\" class=\"data row2 col3\" >0.003899</td>\n",
       "            </tr>\n",
       "            <tr>\n",
       "                                <th id=\"T_6aef793c_2a92_11eb_88d4_acde48001122level1_row3\" class=\"row_heading level1 row3\" >Q</th>\n",
       "                        <td id=\"T_6aef793c_2a92_11eb_88d4_acde48001122row3_col0\" class=\"data row3 col0\" >0.368000</td>\n",
       "                        <td id=\"T_6aef793c_2a92_11eb_88d4_acde48001122row3_col1\" class=\"data row3 col1\" >0.450667</td>\n",
       "                        <td id=\"T_6aef793c_2a92_11eb_88d4_acde48001122row3_col2\" class=\"data row3 col2\" >0.037333</td>\n",
       "                        <td id=\"T_6aef793c_2a92_11eb_88d4_acde48001122row3_col3\" class=\"data row3 col3\" >0.144000</td>\n",
       "            </tr>\n",
       "    </tbody></table>"
      ],
      "text/plain": [
       "<pandas.io.formats.style.Styler at 0x7fd40c5360d0>"
      ]
     },
     "metadata": {},
     "output_type": "display_data"
    },
    {
     "name": "stdout",
     "output_type": "stream",
     "text": [
      "\n",
      "Fisher's test with log transform:\n"
     ]
    },
    {
     "data": {
      "image/png": "[encoded data removed]",
      "text/plain": [
       "<Figure size 432x288 with 2 Axes>"
      ]
     },
     "metadata": {
      "needs_background": "light"
     },
     "output_type": "display_data"
    }
   ],
   "source": [
    "engdat.perdom.show()"
   ]
  },
  {
   "cell_type": "markdown",
   "metadata": {},
   "source": [
    "### genre + domain"
   ]
  },
  {
   "cell_type": "code",
   "execution_count": 144,
   "metadata": {},
   "outputs": [
    {
     "name": "stdout",
     "output_type": "stream",
     "text": [
      "counts:\n"
     ]
    },
    {
     "data": {
      "text/html": [
       "<div>\n",
       "<style scoped>\n",
       "    .dataframe tbody tr th:only-of-type {\n",
       "        vertical-align: middle;\n",
       "    }\n",
       "\n",
       "    .dataframe tbody tr th {\n",
       "        vertical-align: top;\n",
       "    }\n",
       "\n",
       "    .dataframe thead th {\n",
       "        text-align: right;\n",
       "    }\n",
       "</style>\n",
       "<table border=\"1\" class=\"dataframe\">\n",
       "  <thead>\n",
       "    <tr style=\"text-align: right;\">\n",
       "      <th></th>\n",
       "      <th>esv_TAM</th>\n",
       "      <th>PAST..IND</th>\n",
       "      <th>PRES.PERF.IND</th>\n",
       "      <th>PRES..IND</th>\n",
       "      <th>PAST.PERF.IND</th>\n",
       "    </tr>\n",
       "    <tr>\n",
       "      <th>genre</th>\n",
       "      <th>domain2</th>\n",
       "      <th></th>\n",
       "      <th></th>\n",
       "      <th></th>\n",
       "      <th></th>\n",
       "    </tr>\n",
       "  </thead>\n",
       "  <tbody>\n",
       "    <tr>\n",
       "      <th>prose</th>\n",
       "      <th>Q</th>\n",
       "      <td>807</td>\n",
       "      <td>1024</td>\n",
       "      <td>344</td>\n",
       "      <td>82</td>\n",
       "    </tr>\n",
       "    <tr>\n",
       "      <th>prophetic</th>\n",
       "      <th>Q</th>\n",
       "      <td>576</td>\n",
       "      <td>690</td>\n",
       "      <td>825</td>\n",
       "      <td>34</td>\n",
       "    </tr>\n",
       "    <tr>\n",
       "      <th>prose</th>\n",
       "      <th>N</th>\n",
       "      <td>1446</td>\n",
       "      <td>5</td>\n",
       "      <td>6</td>\n",
       "      <td>535</td>\n",
       "    </tr>\n",
       "    <tr>\n",
       "      <th>poetry</th>\n",
       "      <th>Q</th>\n",
       "      <td>510</td>\n",
       "      <td>428</td>\n",
       "      <td>616</td>\n",
       "      <td>25</td>\n",
       "    </tr>\n",
       "    <tr>\n",
       "      <th>prophetic</th>\n",
       "      <th>N</th>\n",
       "      <td>61</td>\n",
       "      <td>4</td>\n",
       "      <td>17</td>\n",
       "      <td>35</td>\n",
       "    </tr>\n",
       "    <tr>\n",
       "      <th>poetry</th>\n",
       "      <th>N</th>\n",
       "      <td>15</td>\n",
       "      <td>4</td>\n",
       "      <td>3</td>\n",
       "      <td>2</td>\n",
       "    </tr>\n",
       "  </tbody>\n",
       "</table>\n",
       "</div>"
      ],
      "text/plain": [
       "esv_TAM            PAST..IND  PRES.PERF.IND  PRES..IND  PAST.PERF.IND\n",
       "genre     domain2                                                    \n",
       "prose     Q              807           1024        344             82\n",
       "prophetic Q              576            690        825             34\n",
       "prose     N             1446              5          6            535\n",
       "poetry    Q              510            428        616             25\n",
       "prophetic N               61              4         17             35\n",
       "poetry    N               15              4          3              2"
      ]
     },
     "metadata": {},
     "output_type": "display_data"
    },
    {
     "name": "stdout",
     "output_type": "stream",
     "text": [
      "\n",
      "proportions 1:\n"
     ]
    },
    {
     "data": {
      "text/html": [
       "<style  type=\"text/css\" >\n",
       "#T_70a4358e_2a92_11eb_88d4_acde48001122row0_col1,#T_70a4358e_2a92_11eb_88d4_acde48001122row1_col2,#T_70a4358e_2a92_11eb_88d4_acde48001122row2_col0,#T_70a4358e_2a92_11eb_88d4_acde48001122row3_col2,#T_70a4358e_2a92_11eb_88d4_acde48001122row4_col0,#T_70a4358e_2a92_11eb_88d4_acde48001122row5_col0{\n",
       "            color:  red;\n",
       "        }</style><table id=\"T_70a4358e_2a92_11eb_88d4_acde48001122\" ><thead>    <tr>        <th class=\"blank\" ></th>        <th class=\"index_name level0\" >esv_TAM</th>        <th class=\"col_heading level0 col0\" >PAST..IND</th>        <th class=\"col_heading level0 col1\" >PRES.PERF.IND</th>        <th class=\"col_heading level0 col2\" >PRES..IND</th>        <th class=\"col_heading level0 col3\" >PAST.PERF.IND</th>    </tr>    <tr>        <th class=\"index_name level0\" >genre</th>        <th class=\"index_name level1\" >domain2</th>        <th class=\"blank\" ></th>        <th class=\"blank\" ></th>        <th class=\"blank\" ></th>        <th class=\"blank\" ></th>    </tr></thead><tbody>\n",
       "                <tr>\n",
       "                        <th id=\"T_70a4358e_2a92_11eb_88d4_acde48001122level0_row0\" class=\"row_heading level0 row0\" >prose</th>\n",
       "                        <th id=\"T_70a4358e_2a92_11eb_88d4_acde48001122level1_row0\" class=\"row_heading level1 row0\" >Q</th>\n",
       "                        <td id=\"T_70a4358e_2a92_11eb_88d4_acde48001122row0_col0\" class=\"data row0 col0\" >0.357554</td>\n",
       "                        <td id=\"T_70a4358e_2a92_11eb_88d4_acde48001122row0_col1\" class=\"data row0 col1\" >0.453700</td>\n",
       "                        <td id=\"T_70a4358e_2a92_11eb_88d4_acde48001122row0_col2\" class=\"data row0 col2\" >0.152415</td>\n",
       "                        <td id=\"T_70a4358e_2a92_11eb_88d4_acde48001122row0_col3\" class=\"data row0 col3\" >0.036331</td>\n",
       "            </tr>\n",
       "            <tr>\n",
       "                        <th id=\"T_70a4358e_2a92_11eb_88d4_acde48001122level0_row1\" class=\"row_heading level0 row1\" >prophetic</th>\n",
       "                        <th id=\"T_70a4358e_2a92_11eb_88d4_acde48001122level1_row1\" class=\"row_heading level1 row1\" >Q</th>\n",
       "                        <td id=\"T_70a4358e_2a92_11eb_88d4_acde48001122row1_col0\" class=\"data row1 col0\" >0.271059</td>\n",
       "                        <td id=\"T_70a4358e_2a92_11eb_88d4_acde48001122row1_col1\" class=\"data row1 col1\" >0.324706</td>\n",
       "                        <td id=\"T_70a4358e_2a92_11eb_88d4_acde48001122row1_col2\" class=\"data row1 col2\" >0.388235</td>\n",
       "                        <td id=\"T_70a4358e_2a92_11eb_88d4_acde48001122row1_col3\" class=\"data row1 col3\" >0.016000</td>\n",
       "            </tr>\n",
       "            <tr>\n",
       "                        <th id=\"T_70a4358e_2a92_11eb_88d4_acde48001122level0_row2\" class=\"row_heading level0 row2\" >prose</th>\n",
       "                        <th id=\"T_70a4358e_2a92_11eb_88d4_acde48001122level1_row2\" class=\"row_heading level1 row2\" >N</th>\n",
       "                        <td id=\"T_70a4358e_2a92_11eb_88d4_acde48001122row2_col0\" class=\"data row2 col0\" >0.725904</td>\n",
       "                        <td id=\"T_70a4358e_2a92_11eb_88d4_acde48001122row2_col1\" class=\"data row2 col1\" >0.002510</td>\n",
       "                        <td id=\"T_70a4358e_2a92_11eb_88d4_acde48001122row2_col2\" class=\"data row2 col2\" >0.003012</td>\n",
       "                        <td id=\"T_70a4358e_2a92_11eb_88d4_acde48001122row2_col3\" class=\"data row2 col3\" >0.268574</td>\n",
       "            </tr>\n",
       "            <tr>\n",
       "                        <th id=\"T_70a4358e_2a92_11eb_88d4_acde48001122level0_row3\" class=\"row_heading level0 row3\" >poetry</th>\n",
       "                        <th id=\"T_70a4358e_2a92_11eb_88d4_acde48001122level1_row3\" class=\"row_heading level1 row3\" >Q</th>\n",
       "                        <td id=\"T_70a4358e_2a92_11eb_88d4_acde48001122row3_col0\" class=\"data row3 col0\" >0.322989</td>\n",
       "                        <td id=\"T_70a4358e_2a92_11eb_88d4_acde48001122row3_col1\" class=\"data row3 col1\" >0.271058</td>\n",
       "                        <td id=\"T_70a4358e_2a92_11eb_88d4_acde48001122row3_col2\" class=\"data row3 col2\" >0.390120</td>\n",
       "                        <td id=\"T_70a4358e_2a92_11eb_88d4_acde48001122row3_col3\" class=\"data row3 col3\" >0.015833</td>\n",
       "            </tr>\n",
       "            <tr>\n",
       "                        <th id=\"T_70a4358e_2a92_11eb_88d4_acde48001122level0_row4\" class=\"row_heading level0 row4\" >prophetic</th>\n",
       "                        <th id=\"T_70a4358e_2a92_11eb_88d4_acde48001122level1_row4\" class=\"row_heading level1 row4\" >N</th>\n",
       "                        <td id=\"T_70a4358e_2a92_11eb_88d4_acde48001122row4_col0\" class=\"data row4 col0\" >0.521368</td>\n",
       "                        <td id=\"T_70a4358e_2a92_11eb_88d4_acde48001122row4_col1\" class=\"data row4 col1\" >0.034188</td>\n",
       "                        <td id=\"T_70a4358e_2a92_11eb_88d4_acde48001122row4_col2\" class=\"data row4 col2\" >0.145299</td>\n",
       "                        <td id=\"T_70a4358e_2a92_11eb_88d4_acde48001122row4_col3\" class=\"data row4 col3\" >0.299145</td>\n",
       "            </tr>\n",
       "            <tr>\n",
       "                        <th id=\"T_70a4358e_2a92_11eb_88d4_acde48001122level0_row5\" class=\"row_heading level0 row5\" >poetry</th>\n",
       "                        <th id=\"T_70a4358e_2a92_11eb_88d4_acde48001122level1_row5\" class=\"row_heading level1 row5\" >N</th>\n",
       "                        <td id=\"T_70a4358e_2a92_11eb_88d4_acde48001122row5_col0\" class=\"data row5 col0\" >0.625000</td>\n",
       "                        <td id=\"T_70a4358e_2a92_11eb_88d4_acde48001122row5_col1\" class=\"data row5 col1\" >0.166667</td>\n",
       "                        <td id=\"T_70a4358e_2a92_11eb_88d4_acde48001122row5_col2\" class=\"data row5 col2\" >0.125000</td>\n",
       "                        <td id=\"T_70a4358e_2a92_11eb_88d4_acde48001122row5_col3\" class=\"data row5 col3\" >0.083333</td>\n",
       "            </tr>\n",
       "    </tbody></table>"
      ],
      "text/plain": [
       "<pandas.io.formats.style.Styler at 0x7fd4104655b0>"
      ]
     },
     "metadata": {},
     "output_type": "display_data"
    },
    {
     "name": "stdout",
     "output_type": "stream",
     "text": [
      "\n",
      "proportions 2:\n"
     ]
    },
    {
     "data": {
      "text/html": [
       "<style  type=\"text/css\" >\n",
       "#T_70b030d2_2a92_11eb_88d4_acde48001122row0_col2,#T_70b030d2_2a92_11eb_88d4_acde48001122row1_col0,#T_70b030d2_2a92_11eb_88d4_acde48001122row2_col1,#T_70b030d2_2a92_11eb_88d4_acde48001122row3_col2{\n",
       "            color:  red;\n",
       "        }</style><table id=\"T_70b030d2_2a92_11eb_88d4_acde48001122\" ><thead>    <tr>        <th class=\"index_name level0\" >genre</th>        <th class=\"col_heading level0 col0\" >prose</th>        <th class=\"col_heading level0 col1\" >prophetic</th>        <th class=\"col_heading level0 col2\" >prose</th>        <th class=\"col_heading level0 col3\" >poetry</th>        <th class=\"col_heading level0 col4\" >prophetic</th>        <th class=\"col_heading level0 col5\" >poetry</th>    </tr>    <tr>        <th class=\"index_name level1\" >domain2</th>        <th class=\"col_heading level1 col0\" >Q</th>        <th class=\"col_heading level1 col1\" >Q</th>        <th class=\"col_heading level1 col2\" >N</th>        <th class=\"col_heading level1 col3\" >Q</th>        <th class=\"col_heading level1 col4\" >N</th>        <th class=\"col_heading level1 col5\" >N</th>    </tr>    <tr>        <th class=\"index_name level0\" >esv_TAM</th>        <th class=\"blank\" ></th>        <th class=\"blank\" ></th>        <th class=\"blank\" ></th>        <th class=\"blank\" ></th>        <th class=\"blank\" ></th>        <th class=\"blank\" ></th>    </tr></thead><tbody>\n",
       "                <tr>\n",
       "                        <th id=\"T_70b030d2_2a92_11eb_88d4_acde48001122level0_row0\" class=\"row_heading level0 row0\" >PAST..IND</th>\n",
       "                        <td id=\"T_70b030d2_2a92_11eb_88d4_acde48001122row0_col0\" class=\"data row0 col0\" >0.236310</td>\n",
       "                        <td id=\"T_70b030d2_2a92_11eb_88d4_acde48001122row0_col1\" class=\"data row0 col1\" >0.168668</td>\n",
       "                        <td id=\"T_70b030d2_2a92_11eb_88d4_acde48001122row0_col2\" class=\"data row0 col2\" >0.423426</td>\n",
       "                        <td id=\"T_70b030d2_2a92_11eb_88d4_acde48001122row0_col3\" class=\"data row0 col3\" >0.149341</td>\n",
       "                        <td id=\"T_70b030d2_2a92_11eb_88d4_acde48001122row0_col4\" class=\"data row0 col4\" >0.017862</td>\n",
       "                        <td id=\"T_70b030d2_2a92_11eb_88d4_acde48001122row0_col5\" class=\"data row0 col5\" >0.004392</td>\n",
       "            </tr>\n",
       "            <tr>\n",
       "                        <th id=\"T_70b030d2_2a92_11eb_88d4_acde48001122level0_row1\" class=\"row_heading level0 row1\" >PRES.PERF.IND</th>\n",
       "                        <td id=\"T_70b030d2_2a92_11eb_88d4_acde48001122row1_col0\" class=\"data row1 col0\" >0.475174</td>\n",
       "                        <td id=\"T_70b030d2_2a92_11eb_88d4_acde48001122row1_col1\" class=\"data row1 col1\" >0.320186</td>\n",
       "                        <td id=\"T_70b030d2_2a92_11eb_88d4_acde48001122row1_col2\" class=\"data row1 col2\" >0.002320</td>\n",
       "                        <td id=\"T_70b030d2_2a92_11eb_88d4_acde48001122row1_col3\" class=\"data row1 col3\" >0.198608</td>\n",
       "                        <td id=\"T_70b030d2_2a92_11eb_88d4_acde48001122row1_col4\" class=\"data row1 col4\" >0.001856</td>\n",
       "                        <td id=\"T_70b030d2_2a92_11eb_88d4_acde48001122row1_col5\" class=\"data row1 col5\" >0.001856</td>\n",
       "            </tr>\n",
       "            <tr>\n",
       "                        <th id=\"T_70b030d2_2a92_11eb_88d4_acde48001122level0_row2\" class=\"row_heading level0 row2\" >PRES..IND</th>\n",
       "                        <td id=\"T_70b030d2_2a92_11eb_88d4_acde48001122row2_col0\" class=\"data row2 col0\" >0.189950</td>\n",
       "                        <td id=\"T_70b030d2_2a92_11eb_88d4_acde48001122row2_col1\" class=\"data row2 col1\" >0.455549</td>\n",
       "                        <td id=\"T_70b030d2_2a92_11eb_88d4_acde48001122row2_col2\" class=\"data row2 col2\" >0.003313</td>\n",
       "                        <td id=\"T_70b030d2_2a92_11eb_88d4_acde48001122row2_col3\" class=\"data row2 col3\" >0.340144</td>\n",
       "                        <td id=\"T_70b030d2_2a92_11eb_88d4_acde48001122row2_col4\" class=\"data row2 col4\" >0.009387</td>\n",
       "                        <td id=\"T_70b030d2_2a92_11eb_88d4_acde48001122row2_col5\" class=\"data row2 col5\" >0.001657</td>\n",
       "            </tr>\n",
       "            <tr>\n",
       "                        <th id=\"T_70b030d2_2a92_11eb_88d4_acde48001122level0_row3\" class=\"row_heading level0 row3\" >PAST.PERF.IND</th>\n",
       "                        <td id=\"T_70b030d2_2a92_11eb_88d4_acde48001122row3_col0\" class=\"data row3 col0\" >0.115007</td>\n",
       "                        <td id=\"T_70b030d2_2a92_11eb_88d4_acde48001122row3_col1\" class=\"data row3 col1\" >0.047686</td>\n",
       "                        <td id=\"T_70b030d2_2a92_11eb_88d4_acde48001122row3_col2\" class=\"data row3 col2\" >0.750351</td>\n",
       "                        <td id=\"T_70b030d2_2a92_11eb_88d4_acde48001122row3_col3\" class=\"data row3 col3\" >0.035063</td>\n",
       "                        <td id=\"T_70b030d2_2a92_11eb_88d4_acde48001122row3_col4\" class=\"data row3 col4\" >0.049088</td>\n",
       "                        <td id=\"T_70b030d2_2a92_11eb_88d4_acde48001122row3_col5\" class=\"data row3 col5\" >0.002805</td>\n",
       "            </tr>\n",
       "    </tbody></table>"
      ],
      "text/plain": [
       "<pandas.io.formats.style.Styler at 0x7fd410992eb0>"
      ]
     },
     "metadata": {},
     "output_type": "display_data"
    },
    {
     "name": "stdout",
     "output_type": "stream",
     "text": [
      "\n",
      "Fisher's test with log transform:\n"
     ]
    },
    {
     "data": {
      "image/png": "[encoded data removed]",
      "text/plain": [
       "<Figure size 432x288 with 2 Axes>"
      ]
     },
     "metadata": {
      "needs_background": "light"
     },
     "output_type": "display_data"
    }
   ],
   "source": [
    "engdat.gendom.show()"
   ]
  },
  {
   "cell_type": "code",
   "execution_count": null,
   "metadata": {},
   "outputs": [],
   "source": []
  }
 ],
 "metadata": {
  "kernelspec": {
   "display_name": "Python 3",
   "language": "python",
   "name": "python3"
  },
  "language_info": {
   "codemirror_mode": {
    "name": "ipython",
    "version": 3
   },
   "file_extension": ".py",
   "mimetype": "text/x-python",
   "name": "python",
   "nbconvert_exporter": "python",
   "pygments_lexer": "ipython3",
   "version": "3.8.0"
  }
 },
 "nbformat": 4,
 "nbformat_minor": 4
}

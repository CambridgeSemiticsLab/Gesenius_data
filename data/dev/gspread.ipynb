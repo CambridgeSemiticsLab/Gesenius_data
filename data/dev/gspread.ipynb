{
 "cells": [
  {
   "cell_type": "code",
   "execution_count": 8,
   "metadata": {},
   "outputs": [],
   "source": [
    "import sys\n",
    "import pandas as pd\n",
    "import gspread\n",
    "from gspread_pandas import Spread, Client\n",
    "gc = gspread.service_account()\n",
    "sys.path.append('/Users/cody/github/CambridgeSemiticsLab/Gesenius_data/tools')\n",
    "from load_dfs import *"
   ]
  },
  {
   "cell_type": "code",
   "execution_count": 9,
   "metadata": {},
   "outputs": [
    {
     "data": {
      "text/html": [
       "<div>\n",
       "<style scoped>\n",
       "    .dataframe tbody tr th:only-of-type {\n",
       "        vertical-align: middle;\n",
       "    }\n",
       "\n",
       "    .dataframe tbody tr th {\n",
       "        vertical-align: top;\n",
       "    }\n",
       "\n",
       "    .dataframe thead th {\n",
       "        text-align: right;\n",
       "    }\n",
       "</style>\n",
       "<table border=\"1\" class=\"dataframe\">\n",
       "  <thead>\n",
       "    <tr style=\"text-align: right;\">\n",
       "      <th></th>\n",
       "      <th>ref</th>\n",
       "      <th>book</th>\n",
       "      <th>book_super</th>\n",
       "      <th>canon_part</th>\n",
       "      <th>text_full</th>\n",
       "      <th>text_plain</th>\n",
       "      <th>lex</th>\n",
       "      <th>lex_etcbc</th>\n",
       "      <th>gloss</th>\n",
       "      <th>verb_form</th>\n",
       "      <th>...</th>\n",
       "      <th>niv_tags</th>\n",
       "      <th>niv_VBtags</th>\n",
       "      <th>niv_verse</th>\n",
       "      <th>niv_tense</th>\n",
       "      <th>niv_aspect</th>\n",
       "      <th>niv_modality</th>\n",
       "      <th>niv_TAM</th>\n",
       "      <th>niv_TAMtag</th>\n",
       "      <th>niv_TAMspan</th>\n",
       "      <th>safe</th>\n",
       "    </tr>\n",
       "    <tr>\n",
       "      <th>bhsa_node</th>\n",
       "      <th></th>\n",
       "      <th></th>\n",
       "      <th></th>\n",
       "      <th></th>\n",
       "      <th></th>\n",
       "      <th></th>\n",
       "      <th></th>\n",
       "      <th></th>\n",
       "      <th></th>\n",
       "      <th></th>\n",
       "      <th></th>\n",
       "      <th></th>\n",
       "      <th></th>\n",
       "      <th></th>\n",
       "      <th></th>\n",
       "      <th></th>\n",
       "      <th></th>\n",
       "      <th></th>\n",
       "      <th></th>\n",
       "      <th></th>\n",
       "      <th></th>\n",
       "    </tr>\n",
       "  </thead>\n",
       "  <tbody>\n",
       "    <tr>\n",
       "      <th>1189</th>\n",
       "      <td>Genesis 3:1</td>\n",
       "      <td>Genesis</td>\n",
       "      <td>Genesis</td>\n",
       "      <td>Law</td>\n",
       "      <td>אָמַ֣ר</td>\n",
       "      <td>אמר</td>\n",
       "      <td>אמר</td>\n",
       "      <td>&gt;MR[</td>\n",
       "      <td>say</td>\n",
       "      <td>qtl</td>\n",
       "      <td>...</td>\n",
       "      <td>VBD|VB</td>\n",
       "      <td>VBD|VB</td>\n",
       "      <td>Now the serpent was more crafty than any of th...</td>\n",
       "      <td>PRES</td>\n",
       "      <td>NaN</td>\n",
       "      <td>IMPV</td>\n",
       "      <td>PRES..IMPV</td>\n",
       "      <td>IMPV</td>\n",
       "      <td>say</td>\n",
       "      <td>True</td>\n",
       "    </tr>\n",
       "    <tr>\n",
       "      <th>1819</th>\n",
       "      <td>Genesis 4:9</td>\n",
       "      <td>Genesis</td>\n",
       "      <td>Genesis</td>\n",
       "      <td>Law</td>\n",
       "      <td>יָדַ֔עְתִּי</td>\n",
       "      <td>ידעתי</td>\n",
       "      <td>ידע</td>\n",
       "      <td>JD&lt;[</td>\n",
       "      <td>know</td>\n",
       "      <td>qtl</td>\n",
       "      <td>...</td>\n",
       "      <td>PRP|VB</td>\n",
       "      <td>VB</td>\n",
       "      <td>Then the LORD said to Cain , “ Where is your b...</td>\n",
       "      <td>PRES</td>\n",
       "      <td>NaN</td>\n",
       "      <td>IMPV</td>\n",
       "      <td>PRES..IMPV</td>\n",
       "      <td>IMPV</td>\n",
       "      <td>know</td>\n",
       "      <td>True</td>\n",
       "    </tr>\n",
       "  </tbody>\n",
       "</table>\n",
       "<p>2 rows × 67 columns</p>\n",
       "</div>"
      ],
      "text/plain": [
       "                   ref     book book_super canon_part    text_full text_plain  \\\n",
       "bhsa_node                                                                       \n",
       "1189       Genesis 3:1  Genesis    Genesis        Law       אָמַ֣ר        אמר   \n",
       "1819       Genesis 4:9  Genesis    Genesis        Law  יָדַ֔עְתִּי      ידעתי   \n",
       "\n",
       "           lex lex_etcbc gloss verb_form  ... niv_tags niv_VBtags  \\\n",
       "bhsa_node                                 ...                       \n",
       "1189       אמר      >MR[   say       qtl  ...   VBD|VB     VBD|VB   \n",
       "1819       ידע      JD<[  know       qtl  ...   PRP|VB         VB   \n",
       "\n",
       "                                                   niv_verse niv_tense  \\\n",
       "bhsa_node                                                                \n",
       "1189       Now the serpent was more crafty than any of th...      PRES   \n",
       "1819       Then the LORD said to Cain , “ Where is your b...      PRES   \n",
       "\n",
       "          niv_aspect niv_modality     niv_TAM niv_TAMtag niv_TAMspan  safe  \n",
       "bhsa_node                                                                   \n",
       "1189             NaN         IMPV  PRES..IMPV       IMPV         say  True  \n",
       "1819             NaN         IMPV  PRES..IMPV       IMPV        know  True  \n",
       "\n",
       "[2 rows x 67 columns]"
      ]
     },
     "execution_count": 9,
     "metadata": {},
     "output_type": "execute_result"
    }
   ],
   "source": [
    "main_semantics = [\n",
    "    'PAST..IND',     # she wrote\n",
    "    'PRES.PERF.IND', # he has written\n",
    "    'PRES..IND',     # she writes\n",
    "    'PAST.PERF.IND', # she had written\n",
    "]\n",
    "\n",
    "# isolate cases of strange qatals\n",
    "odd_df = qatal_dfs[(~qatal_dfs.esv_TAM.isin(main_semantics)) & qatal_dfs.esv_TAM]\n",
    "\n",
    "odd_df.head(2)"
   ]
  },
  {
   "cell_type": "code",
   "execution_count": 10,
   "metadata": {},
   "outputs": [],
   "source": [
    "client = Client(load_dirs=True)"
   ]
  },
  {
   "cell_type": "code",
   "execution_count": 11,
   "metadata": {},
   "outputs": [
    {
     "data": {
      "text/plain": [
       "'1xD5GdNOCqc93MZRFLkwLr12NQURhjJz1'"
      ]
     },
     "execution_count": 11,
     "metadata": {},
     "output_type": "execute_result"
    }
   ],
   "source": [
    "folders = client.find_folders('transitivity')\n",
    "\n",
    "folder = folders[0]['id']\n",
    "\n",
    "folder"
   ]
  },
  {
   "cell_type": "code",
   "execution_count": 12,
   "metadata": {},
   "outputs": [
    {
     "data": {
      "text/plain": [
       "[{'id': '1reeZ7RE7oJ1JXnXl0Uo5wdKGgMYTzHiTTTMrOBL3V8g',\n",
       "  'name': 'intransitive_verbs',\n",
       "  'path': '/'},\n",
       " {'id': '1Sj6o3NXwIQiRUC1T5WBZpKeI8w5pakXbFx1RxnNA7s0',\n",
       "  'name': 'transitive_verbs',\n",
       "  'path': '/'}]"
      ]
     },
     "execution_count": 12,
     "metadata": {},
     "output_type": "execute_result"
    }
   ],
   "source": [
    "client.list_spreadsheet_files_in_folder(folder)"
   ]
  },
  {
   "cell_type": "code",
   "execution_count": 13,
   "metadata": {},
   "outputs": [],
   "source": [
    "def get_existing_sheet(foldername, filename):\n",
    "    \"\"\"Retrieve existing Drive sheet if it exists.\n",
    "    \n",
    "    Args:\n",
    "        foldername: str of the folder name\n",
    "        filename: str of the filename\n",
    "        \n",
    "    Returns: \n",
    "        if sheet exists, dict of sheet data \n",
    "        with keys: id, name, path; otherwise \n",
    "        returns None\n",
    "    \"\"\"\n",
    "    \n",
    "    # NB: avoid double-naming folders in the drive\n",
    "    # since it is not possible to provide a full path\n",
    "    folders = client.find_folders(foldername)\n",
    "    if not folders:\n",
    "        return None\n",
    "    \n",
    "    # search for first matching sheet name\n",
    "    # within the matched folders\n",
    "    for folder in folders:\n",
    "        for sheet in client.list_spreadsheet_files_in_folder(folder['id']):\n",
    "            if sheet['name'] == filename:\n",
    "                return sheet\n",
    "        \n",
    "    # no match; return a None\n",
    "    return None"
   ]
  },
  {
   "cell_type": "code",
   "execution_count": 14,
   "metadata": {},
   "outputs": [
    {
     "data": {
      "text/plain": [
       "{'id': '1reeZ7RE7oJ1JXnXl0Uo5wdKGgMYTzHiTTTMrOBL3V8g',\n",
       " 'name': 'intransitive_verbs',\n",
       " 'path': '/'}"
      ]
     },
     "execution_count": 14,
     "metadata": {},
     "output_type": "execute_result"
    }
   ],
   "source": [
    "get_existing_sheet('transitivity', 'intransitive_verbs')"
   ]
  },
  {
   "cell_type": "code",
   "execution_count": 15,
   "metadata": {},
   "outputs": [
    {
     "data": {
      "text/plain": [
       "<Spreadsheet 'intransitive_verbs' id:1reeZ7RE7oJ1JXnXl0Uo5wdKGgMYTzHiTTTMrOBL3V8g>"
      ]
     },
     "execution_count": 15,
     "metadata": {},
     "output_type": "execute_result"
    }
   ],
   "source": [
    "tsheet = gc.open_by_key('1reeZ7RE7oJ1JXnXl0Uo5wdKGgMYTzHiTTTMrOBL3V8g')\n",
    "\n",
    "tsheet"
   ]
  },
  {
   "cell_type": "code",
   "execution_count": 17,
   "metadata": {},
   "outputs": [
    {
     "data": {
      "text/plain": [
       "<Worksheet 'Sheet1' id:0>"
      ]
     },
     "execution_count": 17,
     "metadata": {},
     "output_type": "execute_result"
    }
   ],
   "source": [
    "wsheet = tsheet.get_worksheet(0)\n",
    "\n",
    "wsheet"
   ]
  },
  {
   "cell_type": "code",
   "execution_count": 20,
   "metadata": {},
   "outputs": [
    {
     "data": {
      "text/plain": [
       "<Cell R3C1 'בוא.qal'>"
      ]
     },
     "execution_count": 20,
     "metadata": {},
     "output_type": "execute_result"
    }
   ],
   "source": [
    "wsheet.acell('A3')"
   ]
  },
  {
   "cell_type": "code",
   "execution_count": 29,
   "metadata": {},
   "outputs": [
    {
     "data": {
      "text/plain": [
       "[{'id': '141S_J8BpjAxVKJG9LSyHCL-oESIhSWmk', 'name': 'manual'},\n",
       " {'id': '1959EfOt8YZgT_rWz6dgU7zNwRGoLzK8P', 'name': 'filter_qatal'},\n",
       " {'id': '1xD5GdNOCqc93MZRFLkwLr12NQURhjJz1', 'name': 'transitivity'},\n",
       " {'id': '1FN189deeSlcyVXrpDO5twvmqdc_t7HDl', 'name': 'archive'},\n",
       " {'id': '1yiROXd5_27ex771giJ3vaV3N-CLKiPTx', 'name': 'datasets'}]"
      ]
     },
     "execution_count": 29,
     "metadata": {},
     "output_type": "execute_result"
    }
   ],
   "source": [
    "client.directories"
   ]
  },
  {
   "cell_type": "code",
   "execution_count": 31,
   "metadata": {},
   "outputs": [
    {
     "data": {
      "text/plain": [
       "'geseniusdata@gesenius-data.iam.gserviceaccount.com'"
      ]
     },
     "execution_count": 31,
     "metadata": {},
     "output_type": "execute_result"
    }
   ],
   "source": [
    "client."
   ]
  },
  {
   "cell_type": "code",
   "execution_count": 21,
   "metadata": {},
   "outputs": [
    {
     "data": {
      "text/plain": [
       "[{'id': '1xD5GdNOCqc93MZRFLkwLr12NQURhjJz1', 'name': 'transitivity'}]"
      ]
     },
     "execution_count": 21,
     "metadata": {},
     "output_type": "execute_result"
    }
   ],
   "source": [
    "client.find_folders('transitivity')"
   ]
  },
  {
   "cell_type": "code",
   "execution_count": 42,
   "metadata": {},
   "outputs": [],
   "source": [
    "def get_sheet(foldername, filename, exist_ok=True):\n",
    "    \"\"\"Retrieves a sheet by foldername and file to perform operations on.\n",
    "    \n",
    "    Args:\n",
    "        foldername: str name of the folder\n",
    "        filename: str name of the sheet to be saved\n",
    "    Returns:\n",
    "        gcspread Spreadsheet object\n",
    "    \"\"\"\n",
    "    \n",
    "    # retrieve sheet if it already exists\n",
    "    exist_sheet = get_existing_sheet(foldername, filename)\n",
    "        \n",
    "    # load sheet\n",
    "    if exist_sheet:\n",
    "        if not exist_ok:\n",
    "            raise Exception('File already exists! Set exist_ok=True to force.')\n",
    "        sheet = gc.open_by_key(exist_sheet['id']) \n",
    "    else:\n",
    "        folders = client.find_folders(foldername)\n",
    "        if not folders:\n",
    "            raise Exception('Folder does not exist!')\n",
    "        \n",
    "        # NB: selects the first available folder with matching name\n",
    "        # thus you must avoid double-naming folders!! There is no\n",
    "        # way I know of r/n to do this with a full path.\n",
    "        folder = folders[0]\n",
    "        sheet = gc.create(filename, folder_id=folder['id'])\n",
    "        \n",
    "    return sheet\n",
    "\n",
    "def df_to_drive(df, foldername, filename, worksheet_index=0):\n",
    "    \"\"\"Write a DataFrame to Google Drive.\"\"\"\n",
    "    sh = get_sheet(foldername, filename)    \n",
    "    spread = Spread(sh.id)\n",
    "    spread.df_to_sheet(df, replace=True)"
   ]
  },
  {
   "cell_type": "code",
   "execution_count": 41,
   "metadata": {},
   "outputs": [
    {
     "data": {
      "text/plain": [
       "Index(['ref', 'book', 'book_super', 'canon_part', 'text_full', 'text_plain',\n",
       "       'lex', 'lex_etcbc', 'gloss', 'verb_form', 'stem', 'person', 'gender',\n",
       "       'number', 'clause_atom', 'clause', 'sentence', 'genre', 'domain',\n",
       "       'domain2', 'period', 'txt_type', 'clause_type', 'cltype_simp',\n",
       "       'clause_rela', 'mother_clause', 'mother_type', 'mother_verbtype',\n",
       "       'mother_rela', 'mother_domain2', 'daught_clause', 'daught_type',\n",
       "       'daught_verbtype', 'daught_rela', 'daught_domain2', 'valence',\n",
       "       'prec_lexes', 'prec_pos', 'prec_part', 'lxx', 'lxx_tense', 'lxx_voice',\n",
       "       'lxx_mood', 'lxx_person', 'lxx_number', 'lxx_tm', 'esv', 'esv_tags',\n",
       "       'esv_VBtags', 'esv_verse', 'esv_tense', 'esv_aspect', 'esv_modality',\n",
       "       'esv_TAM', 'esv_TAMtag', 'esv_TAMspan', 'niv', 'niv_tags', 'niv_VBtags',\n",
       "       'niv_verse', 'niv_tense', 'niv_aspect', 'niv_modality', 'niv_TAM',\n",
       "       'niv_TAMtag', 'niv_TAMspan', 'safe'],\n",
       "      dtype='object')"
      ]
     },
     "execution_count": 41,
     "metadata": {},
     "output_type": "execute_result"
    }
   ],
   "source": [
    "odd_df.columns"
   ]
  },
  {
   "cell_type": "code",
   "execution_count": 54,
   "metadata": {},
   "outputs": [],
   "source": [
    "sample_odd = odd_df[['ref', 'text_full', 'sentence', 'esv_TAM', 'esv_TAMspan', 'niv_TAM', 'niv_TAMspan']]\n",
    "\n",
    "df_to_drive(sample_odd, 'filter_qatal', 'odd_tam_tags')"
   ]
  },
  {
   "cell_type": "code",
   "execution_count": 53,
   "metadata": {},
   "outputs": [
    {
     "data": {
      "text/plain": [
       "3"
      ]
     },
     "execution_count": 53,
     "metadata": {},
     "output_type": "execute_result"
    }
   ],
   "source": [
    "list(sample_odd.columns).index('esv_TAM')"
   ]
  },
  {
   "cell_type": "code",
   "execution_count": 65,
   "metadata": {},
   "outputs": [],
   "source": [
    "sh = get_sheet('filter_qatal', 'odd_tam_tags')\n",
    "worksheet = sh.get_worksheet(0)"
   ]
  },
  {
   "cell_type": "code",
   "execution_count": 66,
   "metadata": {},
   "outputs": [
    {
     "data": {
      "text/plain": [
       "<Cell R3C1 '1819'>"
      ]
     },
     "execution_count": 66,
     "metadata": {},
     "output_type": "execute_result"
    }
   ],
   "source": [
    "worksheet.acell('A3')"
   ]
  },
  {
   "cell_type": "code",
   "execution_count": 68,
   "metadata": {},
   "outputs": [
    {
     "data": {
      "text/plain": [
       "<Cell R1C1 'bhsa_node'>"
      ]
     },
     "execution_count": 68,
     "metadata": {},
     "output_type": "execute_result"
    }
   ],
   "source": [
    "cell = worksheet.find('bhsa_node')\n",
    "\n",
    "cell"
   ]
  },
  {
   "cell_type": "code",
   "execution_count": 70,
   "metadata": {},
   "outputs": [
    {
     "data": {
      "text/plain": [
       "1"
      ]
     },
     "execution_count": 70,
     "metadata": {},
     "output_type": "execute_result"
    }
   ],
   "source": [
    "cell.col"
   ]
  },
  {
   "cell_type": "code",
   "execution_count": null,
   "metadata": {},
   "outputs": [],
   "source": []
  }
 ],
 "metadata": {
  "kernelspec": {
   "display_name": "Python 3",
   "language": "python",
   "name": "python3"
  },
  "language_info": {
   "codemirror_mode": {
    "name": "ipython",
    "version": 3
   },
   "file_extension": ".py",
   "mimetype": "text/x-python",
   "name": "python",
   "nbconvert_exporter": "python",
   "pygments_lexer": "ipython3",
   "version": "3.8.0"
  }
 },
 "nbformat": 4,
 "nbformat_minor": 4
}

{
 "cells": [
  {
   "cell_type": "markdown",
   "metadata": {},
   "source": [
    "# Wrangling GBI Alignments into Workflow\n",
    "\n",
    "GBI has graciously provided alignments for the ESV, KJV, and NIV.\n",
    "Unfortunately those alignments are closed-source, so this notebook\n",
    "will only provide code used for interpreting the aligned JSON file"
   ]
  },
  {
   "cell_type": "code",
   "execution_count": 39,
   "metadata": {},
   "outputs": [],
   "source": [
    "import collections\n",
    "import pandas as pd\n",
    "import json\n",
    "from pathlib import Path\n",
    "from pprint import pprint\n",
    "\n",
    "# organize pathways\n",
    "PROJ_DIR = Path.home().joinpath('github/CambridgeSemiticsLab/translation_traditions_HB')\n",
    "GBI_DATA_DIR = PROJ_DIR.joinpath('data/_private_/GBI_alignment')"
   ]
  },
  {
   "cell_type": "code",
   "execution_count": 9,
   "metadata": {},
   "outputs": [
    {
     "name": "stdout",
     "output_type": "stream",
     "text": [
      "keys: dict_keys(['niv84.ot.alignment', 'kjv.ot.alignment', 'esv.ot.alignment'])\n"
     ]
    }
   ],
   "source": [
    "file2data = {}\n",
    "for file in GBI_DATA_DIR.glob('*.json'):\n",
    "    if 'ot' in file.name:\n",
    "        file2data[file.stem] = json.loads(file.read_text())\n",
    "        \n",
    "print('keys:', file2data.keys())"
   ]
  },
  {
   "cell_type": "code",
   "execution_count": 11,
   "metadata": {},
   "outputs": [
    {
     "data": {
      "text/plain": [
       "23202"
      ]
     },
     "execution_count": 11,
     "metadata": {},
     "output_type": "execute_result"
    }
   ],
   "source": [
    "# let's check out the NIV OT alignment\n",
    "\n",
    "niv_data = file2data['niv84.ot.alignment']\n",
    "\n",
    "len(niv_data)"
   ]
  },
  {
   "cell_type": "code",
   "execution_count": 61,
   "metadata": {},
   "outputs": [],
   "source": [
    "ex_verse = niv_data[1]\n",
    "\n",
    "# parts of individual entry\n",
    "#ex_verse.keys()"
   ]
  },
  {
   "cell_type": "code",
   "execution_count": 60,
   "metadata": {},
   "outputs": [],
   "source": [
    "#ex_verse['links']"
   ]
  },
  {
   "cell_type": "code",
   "execution_count": 59,
   "metadata": {},
   "outputs": [],
   "source": [
    "# experiment with multiple word link: \"was hovering\"\n",
    "\n",
    "def get_trans_text(manu, trans, verse):\n",
    "    \"\"\"Join text/translated words for comparison\"\"\"\n",
    "    heb_txt = ' '.join(verse['manuscript']['words'][h]['text'] for h in manu).strip('\\u200e')\n",
    "    eng_txt = ' '.join(verse['translation']['words'][e]['text'] for e in sorted(trans))\n",
    "    return (heb_txt, eng_txt)\n",
    "    \n",
    "for manu, trans in ex_verse['links']:\n",
    "    if len(trans) > 1:\n",
    "        trans = sorted(trans)\n",
    "        heb_txt, eng_txt = get_trans_text(manu, trans, ex_verse)\n",
    "        #print(f'{heb_txt} -> {eng_txt}')"
   ]
  },
  {
   "cell_type": "code",
   "execution_count": 56,
   "metadata": {},
   "outputs": [],
   "source": [
    "verb_dataset = []\n",
    "\n",
    "# experiment with collecting verbs in HB\n",
    "for verse in niv_data:\n",
    "    for manu, trans in verse['links']:\n",
    "        _mainword_ = manu[0]\n",
    "        if verse['manuscript']['words'][_mainword_]['pos'] == 'verb':\n",
    "            heb_txt, eng_txt = get_trans_text(manu, trans, verse)\n",
    "            verb_dataset.append((heb_txt, eng_txt))\n",
    "            \n",
    "#verb_dataset[:5]"
   ]
  },
  {
   "cell_type": "code",
   "execution_count": 57,
   "metadata": {},
   "outputs": [],
   "source": [
    "#verb_dataset[:100]"
   ]
  },
  {
   "cell_type": "code",
   "execution_count": 58,
   "metadata": {},
   "outputs": [],
   "source": [
    "#ex_verse['translation']['words'][:5]"
   ]
  },
  {
   "cell_type": "code",
   "execution_count": null,
   "metadata": {},
   "outputs": [],
   "source": []
  }
 ],
 "metadata": {
  "kernelspec": {
   "display_name": "Python 3",
   "language": "python",
   "name": "python3"
  },
  "language_info": {
   "codemirror_mode": {
    "name": "ipython",
    "version": 3
   },
   "file_extension": ".py",
   "mimetype": "text/x-python",
   "name": "python",
   "nbconvert_exporter": "python",
   "pygments_lexer": "ipython3",
   "version": "3.8.0"
  }
 },
 "nbformat": 4,
 "nbformat_minor": 4
}

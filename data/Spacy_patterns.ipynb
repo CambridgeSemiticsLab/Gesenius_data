{
 "cells": [
  {
   "cell_type": "markdown",
   "metadata": {},
   "source": [
    "# Testing Spacy Patterns\n",
    "\n",
    "The purpose of this notebook is to test and build patterns used for matching\n",
    "verb constructions in English with informative tags. \n",
    "\n",
    "We will use Spacy's Matcher class for this, alongside the parser:\n",
    "\n",
    "https://spacy.io/usage/rule-based-matching\n",
    "\n",
    "To-do list of primary English tense constructions, curated from:\n",
    "\n",
    "https://en.wikipedia.org/wiki/English_verbs#Expressing_tenses,_aspects_and_moods\n",
    "\n",
    "```\n",
    "simple present            writes\n",
    "simple past               wrote\n",
    "present progressive       is writing\n",
    "past progressive          was writing\n",
    "present perfect           has written\n",
    "past perfect              had written\n",
    "present perf. progress.   has been writing\n",
    "past perf. progress.      had been writing\n",
    "future                    will write\n",
    "future perfect            will have written\n",
    "future perf. progress.    will have been writing\n",
    "```\n",
    "\n",
    "secondary constructions:\n",
    "\n",
    "```\n",
    "imperative               write\n",
    "future-in-past           would write\n",
    "do-support               does write\n",
    "be-going-to future       is going to write\n",
    "```"
   ]
  },
  {
   "cell_type": "markdown",
   "metadata": {},
   "source": [
    "Many of these can be found by parsing the sentence and applying Spacy's \n",
    "Matcher with some rules. It would be a good idea if the various constructional\n",
    "combinations could be identified modularly, so that the 'perfect' in a \n",
    "past perfect progressive is matched in the same way as a simple past perfect. \n",
    "\n",
    "We can consider dividing these constructions up into 3 columns -- 1 each for \n",
    "tense, aspect, and modality. If a construction contributes to one of these categories,\n",
    "the column gets filled. Otherwise it is left empty. \n",
    "\n",
    "```\n",
    "\"has been writing\"\n",
    "\n",
    "tense           aspect            modality\n",
    "-----           ------             ------\n",
    "past      perfect progressive\n",
    "```"
   ]
  },
  {
   "cell_type": "code",
   "execution_count": 1,
   "metadata": {},
   "outputs": [],
   "source": [
    "test_sentences = '''\\\n",
    "He writes. He wrote. She is writing. She was writing.\n",
    "He has written. He had written. She has been writing.\n",
    "She had been writing. \n",
    "\n",
    "# to-do: complete these sentences and write rules to parse them.\n",
    "# test them out with Spacy so that it can be applied to the translation dataset\n",
    "'''"
   ]
  },
  {
   "cell_type": "code",
   "execution_count": null,
   "metadata": {},
   "outputs": [],
   "source": []
  }
 ],
 "metadata": {
  "kernelspec": {
   "display_name": "Python 3",
   "language": "python",
   "name": "python3"
  },
  "language_info": {
   "codemirror_mode": {
    "name": "ipython",
    "version": 3
   },
   "file_extension": ".py",
   "mimetype": "text/x-python",
   "name": "python",
   "nbconvert_exporter": "python",
   "pygments_lexer": "ipython3",
   "version": "3.8.0"
  }
 },
 "nbformat": 4,
 "nbformat_minor": 4
}

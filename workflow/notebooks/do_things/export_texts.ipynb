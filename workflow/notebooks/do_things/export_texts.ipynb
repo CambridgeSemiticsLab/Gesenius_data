{
 "cells": [
  {
   "cell_type": "markdown",
   "metadata": {},
   "source": [
    "# Export Text Examples"
   ]
  },
  {
   "cell_type": "code",
   "execution_count": 1,
   "metadata": {},
   "outputs": [],
   "source": [
    "import sys\n",
    "from pathlib import Path\n",
    "sys.path.append('../../scripts/analysis')\n",
    "from load_dfs import DfLoader\n",
    "datadir = Path('../../../results/datasets')"
   ]
  },
  {
   "cell_type": "code",
   "execution_count": 2,
   "metadata": {},
   "outputs": [],
   "source": [
    "verb_dirs = [p for p in datadir.glob('*') if p.is_dir() and p.name != 'qtl_old']"
   ]
  },
  {
   "cell_type": "code",
   "execution_count": 3,
   "metadata": {},
   "outputs": [],
   "source": [
    "import re\n",
    "\n",
    "def add_hit_symbols(text, search, symbol='_'):\n",
    "    \"\"\"Use re to find matches and insert hit symbols.\"\"\"\n",
    "    find = f'({search})'\n",
    "    replace = f'{symbol}\\g<1>{symbol}'\n",
    "    return re.sub(find, replace, text)\n",
    "\n",
    "def clean_puncts(text):\n",
    "    \"\"\"Fix space-separated punctuations.\"\"\"\n",
    "    text = re.sub(' ([,.?!;”:’])', '\\g<1>', text)\n",
    "    text = re.sub('([“‘]) ', '\\g<1>', text)\n",
    "    return text\n",
    "\n",
    "def clean_roman_nums(text):\n",
    "    \"\"\"Replace Roman numerals in the verse ref.\"\"\"\n",
    "    text = re.sub('^I ', '1 ', text)\n",
    "    text = re.sub('^II ', '2 ', text)\n",
    "    return text\n",
    "\n",
    "def make_text_examples(df):\n",
    "    \n",
    "    \"\"\"Build text examples.\"\"\"\n",
    "\n",
    "    # sort out texts\n",
    "    # NB that esv and niv texts might also be similarly formatted later on\n",
    "    bhs_joiner = ''\n",
    "    bhs_text = ['sentence']\n",
    "    bhs_text = df[bhs_text].astype(str).agg(bhs_joiner.join, axis=1)\n",
    "    exs = []\n",
    "\n",
    "    for i, node in enumerate(df.index):\n",
    "        ref = df.loc[node]['ref_abbr']\n",
    "        esv = df.loc[node]['esv']\n",
    "        niv = df.loc[node]['niv'] \n",
    "        esv_verse = df.loc[node]['esv_verse']\n",
    "        niv_verse = df.loc[node]['niv_verse']\n",
    "        bhs = bhs_text[node].strip()\n",
    "        heb = df.loc[node]['text_full']\n",
    "         \n",
    "        if type(esv_verse) != str:\n",
    "            esv_verse = '' \n",
    "        if type(niv_verse) != str:\n",
    "            niv_verse = ''\n",
    "#         if type(esv) != str:\n",
    "#             esv = '' \n",
    "#         if type(niv) != str:\n",
    "#             niv = ''\n",
    "            \n",
    "        # add formatting to verse texts\n",
    "        ref = clean_roman_nums(ref)\n",
    "        esv_verse = add_hit_symbols(esv_verse, esv)\n",
    "        niv_verse = add_hit_symbols(niv_verse, niv)\n",
    "        bhs = add_hit_symbols(bhs, heb)\n",
    "        esv_verse = clean_puncts(esv_verse)\n",
    "        niv_verse = clean_puncts(niv_verse)\n",
    "\n",
    "        # build and add example text\n",
    "        ex = f'(x)\\t{bhs} ({ref})\\nNIV\\t{niv_verse}\\nESV\\t{esv_verse}\\n'\n",
    "        exs.append(ex)\n",
    "    \n",
    "    return exs "
   ]
  },
  {
   "cell_type": "code",
   "execution_count": 4,
   "metadata": {},
   "outputs": [],
   "source": [
    "# export\n",
    "\n",
    "outdir = Path('/Users/cody/Desktop/text_examples/')\n",
    "\n",
    "for verb_dir in verb_dirs:\n",
    "    df_loader = DfLoader(verb_dir.glob('*.csv'))\n",
    "    df = df_loader.df\n",
    "    examples = make_text_examples(df)\n",
    "    doc = '\\n'.join(examples)\n",
    "    outfile = outdir.joinpath(verb_dir.name+'_examples_.txt')\n",
    "    outfile.write_text(doc)"
   ]
  },
  {
   "cell_type": "code",
   "execution_count": null,
   "metadata": {},
   "outputs": [],
   "source": []
  }
 ],
 "metadata": {
  "kernelspec": {
   "display_name": "Python 3",
   "language": "python",
   "name": "python3"
  },
  "language_info": {
   "codemirror_mode": {
    "name": "ipython",
    "version": 3
   },
   "file_extension": ".py",
   "mimetype": "text/x-python",
   "name": "python",
   "nbconvert_exporter": "python",
   "pygments_lexer": "ipython3",
   "version": "3.8.5"
  }
 },
 "nbformat": 4,
 "nbformat_minor": 4
}
